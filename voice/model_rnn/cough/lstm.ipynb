{
  "nbformat": 4,
  "nbformat_minor": 0,
  "metadata": {
    "kernelspec": {
      "display_name": "Python 3",
      "language": "python",
      "name": "python3"
    },
    "language_info": {
      "codemirror_mode": {
        "name": "ipython",
        "version": 3
      },
      "file_extension": ".py",
      "mimetype": "text/x-python",
      "name": "python",
      "nbconvert_exporter": "python",
      "pygments_lexer": "ipython3",
      "version": "3.8.6"
    },
    "colab": {
      "name": "lstm.ipynb",
      "provenance": [],
      "collapsed_sections": []
    },
    "accelerator": "GPU"
  },
  "cells": [
    {
      "cell_type": "code",
      "metadata": {
        "colab": {
          "base_uri": "https://localhost:8080/"
        },
        "id": "GIWvD4gH-5Eg",
        "outputId": "178a369c-90c6-4d05-b7ba-9c7a8905d9a7"
      },
      "source": [
        "from google.colab import drive\n",
        "drive.mount('/content/drive', force_remount=True)"
      ],
      "execution_count": 2,
      "outputs": [
        {
          "output_type": "stream",
          "text": [
            "Mounted at /content/drive\n"
          ],
          "name": "stdout"
        }
      ]
    },
    {
      "cell_type": "code",
      "metadata": {
        "colab": {
          "base_uri": "https://localhost:8080/"
        },
        "id": "dFSjRU01_S1n",
        "outputId": "4f2b912e-3cbb-4017-ceb9-112f5ddf3c34"
      },
      "source": [
        "cd /content/drive/MyDrive/sop-covid/voice/model_rnn/cough"
      ],
      "execution_count": 3,
      "outputs": [
        {
          "output_type": "stream",
          "text": [
            "/content/drive/MyDrive/sop-covid/voice/model_rnn/cough\n"
          ],
          "name": "stdout"
        }
      ]
    },
    {
      "cell_type": "code",
      "metadata": {
        "colab": {
          "base_uri": "https://localhost:8080/"
        },
        "id": "11SFQ6BA_mn8",
        "outputId": "36ade5c3-2e00-47fa-d3b7-de60a7fbde85"
      },
      "source": [
        "!unzip ../../data_rnn/data_cough.zip"
      ],
      "execution_count": 4,
      "outputs": [
        {
          "output_type": "stream",
          "text": [
            "Archive:  ../../data_rnn/data_cough.zip\n",
            "   creating: data_cough/\n",
            "  inflating: data_cough/valid_y.npy  \n",
            "  inflating: data_cough/valid_X.npy  \n",
            "  inflating: data_cough/test_y.npy   \n",
            "  inflating: data_cough/test_X.npy   \n",
            "  inflating: data_cough/train_y.npy  \n",
            "  inflating: data_cough/train_X.npy  \n"
          ],
          "name": "stdout"
        }
      ]
    },
    {
      "cell_type": "code",
      "metadata": {
        "id": "11O0g6xW-3Pd"
      },
      "source": [
        "import numpy as np\n",
        "import tensorflow as tf\n",
        "import tensorflow.keras as keras\n",
        "import matplotlib.pyplot as plt\n",
        "import pickle\n",
        "import os\n",
        "\n",
        "import sys\n",
        "sys.path.append('..')\n",
        "\n",
        "from utils import *"
      ],
      "execution_count": 53,
      "outputs": []
    },
    {
      "cell_type": "code",
      "metadata": {
        "id": "3K5nYt5N-3Pj"
      },
      "source": [
        "SEED = 1\n",
        "np.random.seed(SEED)\n",
        "tf.random.set_seed(SEED)"
      ],
      "execution_count": 54,
      "outputs": []
    },
    {
      "cell_type": "code",
      "metadata": {
        "id": "K6EiRRJA-3Pj"
      },
      "source": [
        "train_X = np.load(os.path.join('data_cough', 'train_X.npy'))\n",
        "train_y = np.load(os.path.join('data_cough', 'train_y.npy'))\n",
        "\n",
        "valid_X = np.load(os.path.join('data_cough', 'valid_X.npy'))\n",
        "valid_y = np.load(os.path.join('data_cough', 'valid_y.npy'))\n",
        "\n",
        "test_X = np.load(os.path.join('data_cough', 'test_X.npy'))\n",
        "test_y = np.load(os.path.join('data_cough', 'test_y.npy'))"
      ],
      "execution_count": 55,
      "outputs": []
    },
    {
      "cell_type": "code",
      "metadata": {
        "id": "1l0t9UjL-3Pk"
      },
      "source": [
        "sc = Scaler()\n",
        "sc.fit(train_X, (0, 1))\n",
        "\n",
        "train_X_n = sc.transform(train_X, 'normalize')\n",
        "train_X_s = sc.transform(train_X, 'standardize')\n",
        "\n",
        "valid_X_n = sc.transform(valid_X, 'normalize')\n",
        "valid_X_s = sc.transform(valid_X, 'standardize')\n",
        "\n",
        "test_X_n = sc.transform(test_X, 'normalize')\n",
        "test_X_s = sc.transform(test_X, 'standardize')"
      ],
      "execution_count": 56,
      "outputs": []
    },
    {
      "cell_type": "code",
      "metadata": {
        "id": "bSEWYBTpLTV7"
      },
      "source": [
        "# Undersampling the majority class to make the distribution 50:50.\n",
        "train_X_n_under = train_X[:int(2 * train_y.sum())]\n",
        "train_y_under = train_y[:int(2 * train_y.sum())]\n",
        "\n",
        "valid_X_n_under = valid_X[:int(2 * valid_y.sum())]\n",
        "valid_y_under = valid_y[:int(2 * valid_y.sum())]\n",
        "\n",
        "test_X_n_under = test_X[:int(2 * test_y.sum())]\n",
        "test_y_under = test_y[:int(2 * test_y.sum())]"
      ],
      "execution_count": 72,
      "outputs": []
    },
    {
      "cell_type": "code",
      "metadata": {
        "id": "WlwI8dba-3Pk"
      },
      "source": [
        "# Hyperparameters\n",
        "learning_rate = 1e-4\n",
        "epochs = 100\n",
        "batch_size = 256"
      ],
      "execution_count": 58,
      "outputs": []
    },
    {
      "cell_type": "code",
      "metadata": {
        "id": "d_r9DDyz-3Pk"
      },
      "source": [
        "# Callback for early stopping\n",
        "es_callback = keras.callbacks.EarlyStopping(\n",
        "    monitor='val_loss',\n",
        "    min_delta=0.0001,\n",
        "    patience=5,\n",
        "    restore_best_weights=True\n",
        ")\n",
        "\n",
        "# Callback for reducing learning rate on loss plateauing\n",
        "plateau_callback = keras.callbacks.ReduceLROnPlateau(\n",
        "    monitor='val_loss',\n",
        "    factor=0.1,\n",
        "    patience=5,\n",
        "    min_delta=0.0001\n",
        ")"
      ],
      "execution_count": 59,
      "outputs": []
    },
    {
      "cell_type": "code",
      "metadata": {
        "id": "O1dNrNzYIM_B"
      },
      "source": [
        "metrics = [\n",
        "           keras.metrics.BinaryAccuracy(name='acc'),\n",
        "           keras.metrics.Precision(name='precision'),\n",
        "           keras.metrics.Recall(name='recall'),\n",
        "           keras.metrics.AUC(name='auc'),\n",
        "           keras.metrics.TruePositives(name='tp'),\n",
        "           keras.metrics.FalsePositives(name='fp'),\n",
        "           keras.metrics.TrueNegatives(name='tn'),\n",
        "           keras.metrics.FalseNegatives(name='fn')\n",
        "]"
      ],
      "execution_count": 60,
      "outputs": []
    },
    {
      "cell_type": "code",
      "metadata": {
        "id": "mU8rwmKx-3Pk"
      },
      "source": [
        "model = keras.Sequential([\n",
        "    keras.layers.LSTM(64, activation='tanh', return_sequences=True, input_shape=train_X.shape[1:]),\n",
        "    keras.layers.LSTM(64, activation='tanh', return_sequences=False),\n",
        "    keras.layers.Dense(64, activation='relu'),\n",
        "    keras.layers.Dense(1, activation='sigmoid')\n",
        "])"
      ],
      "execution_count": 61,
      "outputs": []
    },
    {
      "cell_type": "code",
      "metadata": {
        "id": "UlXJuSwZ-3Pl"
      },
      "source": [
        "model.compile(\n",
        "    optimizer=keras.optimizers.Adam(lr=learning_rate),\n",
        "    loss='binary_crossentropy',\n",
        "    metrics=metrics\n",
        ")"
      ],
      "execution_count": 62,
      "outputs": []
    },
    {
      "cell_type": "code",
      "metadata": {
        "colab": {
          "base_uri": "https://localhost:8080/"
        },
        "id": "_YjATYQt-3Pl",
        "outputId": "c6fa493c-8df0-4435-9015-a1122d1e3fca"
      },
      "source": [
        "%%script echo \"Comment line with %%script echo to run this cell.\"\n",
        "\n",
        "history = model.fit(\n",
        "    train_X_n_under,\n",
        "    train_y_under,\n",
        "    epochs=epochs,\n",
        "    batch_size=batch_size,\n",
        "    validation_data=(valid_X_n_under, valid_y_under),\n",
        "    callbacks=[es_callback, plateau_callback],\n",
        "    shuffle=True\n",
        ")"
      ],
      "execution_count": 63,
      "outputs": [
        {
          "output_type": "stream",
          "text": [
            "Epoch 1/100\n",
            "2/2 [==============================] - 1s 685ms/step - loss: 0.6947 - acc: 0.4507 - precision: 0.4352 - recall: 0.3310 - auc: 0.4672 - tp: 47.0000 - fp: 61.0000 - tn: 81.0000 - fn: 95.0000 - val_loss: 0.6921 - val_acc: 0.4167 - val_precision: 0.3846 - val_recall: 0.2778 - val_auc: 0.4691 - val_tp: 5.0000 - val_fp: 8.0000 - val_tn: 10.0000 - val_fn: 13.0000\n",
            "Epoch 2/100\n",
            "2/2 [==============================] - 0s 121ms/step - loss: 0.6922 - acc: 0.4930 - precision: 0.4898 - recall: 0.3380 - auc: 0.5164 - tp: 48.0000 - fp: 50.0000 - tn: 92.0000 - fn: 94.0000 - val_loss: 0.6922 - val_acc: 0.3889 - val_precision: 0.3889 - val_recall: 0.3889 - val_auc: 0.4784 - val_tp: 7.0000 - val_fp: 11.0000 - val_tn: 7.0000 - val_fn: 11.0000\n",
            "Epoch 3/100\n",
            "2/2 [==============================] - 0s 122ms/step - loss: 0.6915 - acc: 0.5106 - precision: 0.5094 - recall: 0.5704 - auc: 0.5312 - tp: 81.0000 - fp: 78.0000 - tn: 64.0000 - fn: 61.0000 - val_loss: 0.6913 - val_acc: 0.4444 - val_precision: 0.4545 - val_recall: 0.5556 - val_auc: 0.4892 - val_tp: 10.0000 - val_fp: 12.0000 - val_tn: 6.0000 - val_fn: 8.0000\n",
            "Epoch 4/100\n",
            "2/2 [==============================] - 0s 122ms/step - loss: 0.6898 - acc: 0.5352 - precision: 0.5284 - recall: 0.6549 - auc: 0.5668 - tp: 93.0000 - fp: 83.0000 - tn: 59.0000 - fn: 49.0000 - val_loss: 0.6901 - val_acc: 0.4444 - val_precision: 0.4444 - val_recall: 0.4444 - val_auc: 0.5000 - val_tp: 8.0000 - val_fp: 10.0000 - val_tn: 8.0000 - val_fn: 10.0000\n",
            "Epoch 5/100\n",
            "2/2 [==============================] - 0s 122ms/step - loss: 0.6879 - acc: 0.5634 - precision: 0.5584 - recall: 0.6056 - auc: 0.5923 - tp: 86.0000 - fp: 68.0000 - tn: 74.0000 - fn: 56.0000 - val_loss: 0.6891 - val_acc: 0.5278 - val_precision: 0.5556 - val_recall: 0.2778 - val_auc: 0.5540 - val_tp: 5.0000 - val_fp: 4.0000 - val_tn: 14.0000 - val_fn: 13.0000\n",
            "Epoch 6/100\n",
            "2/2 [==============================] - 0s 122ms/step - loss: 0.6864 - acc: 0.5915 - precision: 0.6970 - recall: 0.3239 - auc: 0.6484 - tp: 46.0000 - fp: 20.0000 - tn: 122.0000 - fn: 96.0000 - val_loss: 0.6880 - val_acc: 0.5556 - val_precision: 0.7500 - val_recall: 0.1667 - val_auc: 0.6204 - val_tp: 3.0000 - val_fp: 1.0000 - val_tn: 17.0000 - val_fn: 15.0000\n",
            "Epoch 7/100\n",
            "2/2 [==============================] - 0s 123ms/step - loss: 0.6850 - acc: 0.5915 - precision: 0.7500 - recall: 0.2746 - auc: 0.6522 - tp: 39.0000 - fp: 13.0000 - tn: 129.0000 - fn: 103.0000 - val_loss: 0.6868 - val_acc: 0.5556 - val_precision: 0.7500 - val_recall: 0.1667 - val_auc: 0.6373 - val_tp: 3.0000 - val_fp: 1.0000 - val_tn: 17.0000 - val_fn: 15.0000\n",
            "Epoch 8/100\n",
            "2/2 [==============================] - 0s 121ms/step - loss: 0.6840 - acc: 0.5810 - precision: 0.7170 - recall: 0.2676 - auc: 0.6998 - tp: 38.0000 - fp: 15.0000 - tn: 127.0000 - fn: 104.0000 - val_loss: 0.6853 - val_acc: 0.5556 - val_precision: 0.7500 - val_recall: 0.1667 - val_auc: 0.7114 - val_tp: 3.0000 - val_fp: 1.0000 - val_tn: 17.0000 - val_fn: 15.0000\n",
            "Epoch 9/100\n",
            "2/2 [==============================] - 0s 121ms/step - loss: 0.6832 - acc: 0.5704 - precision: 0.6852 - recall: 0.2606 - auc: 0.6935 - tp: 37.0000 - fp: 17.0000 - tn: 125.0000 - fn: 105.0000 - val_loss: 0.6840 - val_acc: 0.5556 - val_precision: 0.7500 - val_recall: 0.1667 - val_auc: 0.7593 - val_tp: 3.0000 - val_fp: 1.0000 - val_tn: 17.0000 - val_fn: 15.0000\n",
            "Epoch 10/100\n",
            "2/2 [==============================] - 0s 122ms/step - loss: 0.6825 - acc: 0.5669 - precision: 0.6792 - recall: 0.2535 - auc: 0.7179 - tp: 36.0000 - fp: 17.0000 - tn: 125.0000 - fn: 106.0000 - val_loss: 0.6828 - val_acc: 0.5556 - val_precision: 0.7500 - val_recall: 0.1667 - val_auc: 0.7840 - val_tp: 3.0000 - val_fp: 1.0000 - val_tn: 17.0000 - val_fn: 15.0000\n",
            "Epoch 11/100\n",
            "2/2 [==============================] - 0s 123ms/step - loss: 0.6812 - acc: 0.5775 - precision: 0.7292 - recall: 0.2465 - auc: 0.7171 - tp: 35.0000 - fp: 13.0000 - tn: 129.0000 - fn: 107.0000 - val_loss: 0.6808 - val_acc: 0.5556 - val_precision: 0.7500 - val_recall: 0.1667 - val_auc: 0.8318 - val_tp: 3.0000 - val_fp: 1.0000 - val_tn: 17.0000 - val_fn: 15.0000\n",
            "Epoch 12/100\n",
            "2/2 [==============================] - 0s 124ms/step - loss: 0.6800 - acc: 0.5810 - precision: 0.7556 - recall: 0.2394 - auc: 0.7280 - tp: 34.0000 - fp: 11.0000 - tn: 131.0000 - fn: 108.0000 - val_loss: 0.6783 - val_acc: 0.5833 - val_precision: 0.8000 - val_recall: 0.2222 - val_auc: 0.8025 - val_tp: 4.0000 - val_fp: 1.0000 - val_tn: 17.0000 - val_fn: 14.0000\n",
            "Epoch 13/100\n",
            "2/2 [==============================] - 0s 124ms/step - loss: 0.6788 - acc: 0.5775 - precision: 0.7500 - recall: 0.2324 - auc: 0.7367 - tp: 33.0000 - fp: 11.0000 - tn: 131.0000 - fn: 109.0000 - val_loss: 0.6772 - val_acc: 0.5833 - val_precision: 0.8000 - val_recall: 0.2222 - val_auc: 0.8441 - val_tp: 4.0000 - val_fp: 1.0000 - val_tn: 17.0000 - val_fn: 14.0000\n",
            "Epoch 14/100\n",
            "2/2 [==============================] - 0s 123ms/step - loss: 0.6780 - acc: 0.5845 - precision: 0.7857 - recall: 0.2324 - auc: 0.7305 - tp: 33.0000 - fp: 9.0000 - tn: 133.0000 - fn: 109.0000 - val_loss: 0.6756 - val_acc: 0.5833 - val_precision: 0.8000 - val_recall: 0.2222 - val_auc: 0.8133 - val_tp: 4.0000 - val_fp: 1.0000 - val_tn: 17.0000 - val_fn: 14.0000\n",
            "Epoch 15/100\n",
            "2/2 [==============================] - 0s 123ms/step - loss: 0.6769 - acc: 0.5775 - precision: 0.7750 - recall: 0.2183 - auc: 0.7448 - tp: 31.0000 - fp: 9.0000 - tn: 133.0000 - fn: 111.0000 - val_loss: 0.6735 - val_acc: 0.5833 - val_precision: 0.8000 - val_recall: 0.2222 - val_auc: 0.8302 - val_tp: 4.0000 - val_fp: 1.0000 - val_tn: 17.0000 - val_fn: 14.0000\n",
            "Epoch 16/100\n",
            "2/2 [==============================] - 0s 122ms/step - loss: 0.6755 - acc: 0.5845 - precision: 0.8000 - recall: 0.2254 - auc: 0.7405 - tp: 32.0000 - fp: 8.0000 - tn: 134.0000 - fn: 110.0000 - val_loss: 0.6714 - val_acc: 0.5833 - val_precision: 0.8000 - val_recall: 0.2222 - val_auc: 0.8364 - val_tp: 4.0000 - val_fp: 1.0000 - val_tn: 17.0000 - val_fn: 14.0000\n",
            "Epoch 17/100\n",
            "2/2 [==============================] - 0s 129ms/step - loss: 0.6740 - acc: 0.5880 - precision: 0.8049 - recall: 0.2324 - auc: 0.7449 - tp: 33.0000 - fp: 8.0000 - tn: 134.0000 - fn: 109.0000 - val_loss: 0.6694 - val_acc: 0.5833 - val_precision: 0.8000 - val_recall: 0.2222 - val_auc: 0.8611 - val_tp: 4.0000 - val_fp: 1.0000 - val_tn: 17.0000 - val_fn: 14.0000\n",
            "Epoch 18/100\n",
            "2/2 [==============================] - 0s 124ms/step - loss: 0.6723 - acc: 0.5915 - precision: 0.8095 - recall: 0.2394 - auc: 0.7445 - tp: 34.0000 - fp: 8.0000 - tn: 134.0000 - fn: 108.0000 - val_loss: 0.6672 - val_acc: 0.5833 - val_precision: 0.8000 - val_recall: 0.2222 - val_auc: 0.8364 - val_tp: 4.0000 - val_fp: 1.0000 - val_tn: 17.0000 - val_fn: 14.0000\n",
            "Epoch 19/100\n",
            "2/2 [==============================] - 0s 137ms/step - loss: 0.6706 - acc: 0.5880 - precision: 0.7778 - recall: 0.2465 - auc: 0.7513 - tp: 35.0000 - fp: 10.0000 - tn: 132.0000 - fn: 107.0000 - val_loss: 0.6646 - val_acc: 0.5833 - val_precision: 0.8000 - val_recall: 0.2222 - val_auc: 0.8148 - val_tp: 4.0000 - val_fp: 1.0000 - val_tn: 17.0000 - val_fn: 14.0000\n",
            "Epoch 20/100\n",
            "2/2 [==============================] - 0s 124ms/step - loss: 0.6689 - acc: 0.5951 - precision: 0.7455 - recall: 0.2887 - auc: 0.7523 - tp: 41.0000 - fp: 14.0000 - tn: 128.0000 - fn: 101.0000 - val_loss: 0.6610 - val_acc: 0.6111 - val_precision: 1.0000 - val_recall: 0.2222 - val_auc: 0.8472 - val_tp: 4.0000 - val_fp: 0.0000e+00 - val_tn: 18.0000 - val_fn: 14.0000\n",
            "Epoch 21/100\n",
            "2/2 [==============================] - 0s 130ms/step - loss: 0.6664 - acc: 0.5986 - precision: 0.7414 - recall: 0.3028 - auc: 0.7540 - tp: 43.0000 - fp: 15.0000 - tn: 127.0000 - fn: 99.0000 - val_loss: 0.6578 - val_acc: 0.6111 - val_precision: 1.0000 - val_recall: 0.2222 - val_auc: 0.8318 - val_tp: 4.0000 - val_fp: 0.0000e+00 - val_tn: 18.0000 - val_fn: 14.0000\n",
            "Epoch 22/100\n",
            "2/2 [==============================] - 0s 125ms/step - loss: 0.6641 - acc: 0.6092 - precision: 0.7541 - recall: 0.3239 - auc: 0.7581 - tp: 46.0000 - fp: 15.0000 - tn: 127.0000 - fn: 96.0000 - val_loss: 0.6542 - val_acc: 0.6111 - val_precision: 0.8333 - val_recall: 0.2778 - val_auc: 0.8287 - val_tp: 5.0000 - val_fp: 1.0000 - val_tn: 17.0000 - val_fn: 13.0000\n",
            "Epoch 23/100\n",
            "2/2 [==============================] - 0s 131ms/step - loss: 0.6617 - acc: 0.6232 - precision: 0.7612 - recall: 0.3592 - auc: 0.7614 - tp: 51.0000 - fp: 16.0000 - tn: 126.0000 - fn: 91.0000 - val_loss: 0.6512 - val_acc: 0.6111 - val_precision: 0.7000 - val_recall: 0.3889 - val_auc: 0.8472 - val_tp: 7.0000 - val_fp: 3.0000 - val_tn: 15.0000 - val_fn: 11.0000\n",
            "Epoch 24/100\n",
            "2/2 [==============================] - 0s 123ms/step - loss: 0.6592 - acc: 0.6408 - precision: 0.7439 - recall: 0.4296 - auc: 0.7605 - tp: 61.0000 - fp: 21.0000 - tn: 121.0000 - fn: 81.0000 - val_loss: 0.6481 - val_acc: 0.7500 - val_precision: 0.7368 - val_recall: 0.7778 - val_auc: 0.8503 - val_tp: 14.0000 - val_fp: 5.0000 - val_tn: 13.0000 - val_fn: 4.0000\n",
            "Epoch 25/100\n",
            "2/2 [==============================] - 0s 126ms/step - loss: 0.6566 - acc: 0.6620 - precision: 0.6855 - recall: 0.5986 - auc: 0.7707 - tp: 85.0000 - fp: 39.0000 - tn: 103.0000 - fn: 57.0000 - val_loss: 0.6439 - val_acc: 0.7500 - val_precision: 0.7143 - val_recall: 0.8333 - val_auc: 0.8611 - val_tp: 15.0000 - val_fp: 6.0000 - val_tn: 12.0000 - val_fn: 3.0000\n",
            "Epoch 26/100\n",
            "2/2 [==============================] - 0s 123ms/step - loss: 0.6545 - acc: 0.7077 - precision: 0.6903 - recall: 0.7535 - auc: 0.7680 - tp: 107.0000 - fp: 48.0000 - tn: 94.0000 - fn: 35.0000 - val_loss: 0.6395 - val_acc: 0.7500 - val_precision: 0.7143 - val_recall: 0.8333 - val_auc: 0.8627 - val_tp: 15.0000 - val_fp: 6.0000 - val_tn: 12.0000 - val_fn: 3.0000\n",
            "Epoch 27/100\n",
            "2/2 [==============================] - 0s 128ms/step - loss: 0.6518 - acc: 0.7042 - precision: 0.6790 - recall: 0.7746 - auc: 0.7690 - tp: 110.0000 - fp: 52.0000 - tn: 90.0000 - fn: 32.0000 - val_loss: 0.6360 - val_acc: 0.7500 - val_precision: 0.7143 - val_recall: 0.8333 - val_auc: 0.8565 - val_tp: 15.0000 - val_fp: 6.0000 - val_tn: 12.0000 - val_fn: 3.0000\n",
            "Epoch 28/100\n",
            "2/2 [==============================] - 0s 124ms/step - loss: 0.6493 - acc: 0.7218 - precision: 0.7032 - recall: 0.7676 - auc: 0.7706 - tp: 109.0000 - fp: 46.0000 - tn: 96.0000 - fn: 33.0000 - val_loss: 0.6321 - val_acc: 0.7500 - val_precision: 0.7143 - val_recall: 0.8333 - val_auc: 0.8673 - val_tp: 15.0000 - val_fp: 6.0000 - val_tn: 12.0000 - val_fn: 3.0000\n",
            "Epoch 29/100\n",
            "2/2 [==============================] - 0s 128ms/step - loss: 0.6466 - acc: 0.7218 - precision: 0.7032 - recall: 0.7676 - auc: 0.7734 - tp: 109.0000 - fp: 46.0000 - tn: 96.0000 - fn: 33.0000 - val_loss: 0.6281 - val_acc: 0.7222 - val_precision: 0.7000 - val_recall: 0.7778 - val_auc: 0.8642 - val_tp: 14.0000 - val_fp: 6.0000 - val_tn: 12.0000 - val_fn: 4.0000\n",
            "Epoch 30/100\n",
            "2/2 [==============================] - 0s 121ms/step - loss: 0.6437 - acc: 0.7289 - precision: 0.7152 - recall: 0.7606 - auc: 0.7764 - tp: 108.0000 - fp: 43.0000 - tn: 99.0000 - fn: 34.0000 - val_loss: 0.6246 - val_acc: 0.7500 - val_precision: 0.7368 - val_recall: 0.7778 - val_auc: 0.8642 - val_tp: 14.0000 - val_fp: 5.0000 - val_tn: 13.0000 - val_fn: 4.0000\n",
            "Epoch 31/100\n",
            "2/2 [==============================] - 0s 124ms/step - loss: 0.6412 - acc: 0.7007 - precision: 0.7080 - recall: 0.6831 - auc: 0.7756 - tp: 97.0000 - fp: 40.0000 - tn: 102.0000 - fn: 45.0000 - val_loss: 0.6209 - val_acc: 0.8056 - val_precision: 0.8235 - val_recall: 0.7778 - val_auc: 0.8611 - val_tp: 14.0000 - val_fp: 3.0000 - val_tn: 15.0000 - val_fn: 4.0000\n",
            "Epoch 32/100\n",
            "2/2 [==============================] - 0s 123ms/step - loss: 0.6385 - acc: 0.6620 - precision: 0.6885 - recall: 0.5915 - auc: 0.7746 - tp: 84.0000 - fp: 38.0000 - tn: 104.0000 - fn: 58.0000 - val_loss: 0.6168 - val_acc: 0.8056 - val_precision: 0.8235 - val_recall: 0.7778 - val_auc: 0.8627 - val_tp: 14.0000 - val_fp: 3.0000 - val_tn: 15.0000 - val_fn: 4.0000\n",
            "Epoch 33/100\n",
            "2/2 [==============================] - 0s 124ms/step - loss: 0.6360 - acc: 0.6725 - precision: 0.7059 - recall: 0.5915 - auc: 0.7753 - tp: 84.0000 - fp: 35.0000 - tn: 107.0000 - fn: 58.0000 - val_loss: 0.6099 - val_acc: 0.8056 - val_precision: 0.8235 - val_recall: 0.7778 - val_auc: 0.8688 - val_tp: 14.0000 - val_fp: 3.0000 - val_tn: 15.0000 - val_fn: 4.0000\n",
            "Epoch 34/100\n",
            "2/2 [==============================] - 0s 128ms/step - loss: 0.6329 - acc: 0.6972 - precision: 0.7059 - recall: 0.6761 - auc: 0.7734 - tp: 96.0000 - fp: 40.0000 - tn: 102.0000 - fn: 46.0000 - val_loss: 0.6019 - val_acc: 0.7500 - val_precision: 0.7368 - val_recall: 0.7778 - val_auc: 0.8735 - val_tp: 14.0000 - val_fp: 5.0000 - val_tn: 13.0000 - val_fn: 4.0000\n",
            "Epoch 35/100\n",
            "2/2 [==============================] - 0s 133ms/step - loss: 0.6295 - acc: 0.6972 - precision: 0.6944 - recall: 0.7042 - auc: 0.7744 - tp: 100.0000 - fp: 44.0000 - tn: 98.0000 - fn: 42.0000 - val_loss: 0.5954 - val_acc: 0.7500 - val_precision: 0.7368 - val_recall: 0.7778 - val_auc: 0.8812 - val_tp: 14.0000 - val_fp: 5.0000 - val_tn: 13.0000 - val_fn: 4.0000\n",
            "Epoch 36/100\n",
            "2/2 [==============================] - 0s 125ms/step - loss: 0.6264 - acc: 0.7183 - precision: 0.7013 - recall: 0.7606 - auc: 0.7774 - tp: 108.0000 - fp: 46.0000 - tn: 96.0000 - fn: 34.0000 - val_loss: 0.5892 - val_acc: 0.8056 - val_precision: 0.7619 - val_recall: 0.8889 - val_auc: 0.8796 - val_tp: 16.0000 - val_fp: 5.0000 - val_tn: 13.0000 - val_fn: 2.0000\n",
            "Epoch 37/100\n",
            "2/2 [==============================] - 0s 123ms/step - loss: 0.6231 - acc: 0.7254 - precision: 0.6975 - recall: 0.7958 - auc: 0.7777 - tp: 113.0000 - fp: 49.0000 - tn: 93.0000 - fn: 29.0000 - val_loss: 0.5826 - val_acc: 0.7778 - val_precision: 0.7273 - val_recall: 0.8889 - val_auc: 0.8858 - val_tp: 16.0000 - val_fp: 6.0000 - val_tn: 12.0000 - val_fn: 2.0000\n",
            "Epoch 38/100\n",
            "2/2 [==============================] - 0s 125ms/step - loss: 0.6199 - acc: 0.7430 - precision: 0.6994 - recall: 0.8521 - auc: 0.7808 - tp: 121.0000 - fp: 52.0000 - tn: 90.0000 - fn: 21.0000 - val_loss: 0.5765 - val_acc: 0.7778 - val_precision: 0.7273 - val_recall: 0.8889 - val_auc: 0.8920 - val_tp: 16.0000 - val_fp: 6.0000 - val_tn: 12.0000 - val_fn: 2.0000\n",
            "Epoch 39/100\n",
            "2/2 [==============================] - 0s 122ms/step - loss: 0.6169 - acc: 0.7430 - precision: 0.6949 - recall: 0.8662 - auc: 0.7842 - tp: 123.0000 - fp: 54.0000 - tn: 88.0000 - fn: 19.0000 - val_loss: 0.5710 - val_acc: 0.7500 - val_precision: 0.6957 - val_recall: 0.8889 - val_auc: 0.8966 - val_tp: 16.0000 - val_fp: 7.0000 - val_tn: 11.0000 - val_fn: 2.0000\n",
            "Epoch 40/100\n",
            "2/2 [==============================] - 0s 127ms/step - loss: 0.6140 - acc: 0.7289 - precision: 0.6776 - recall: 0.8732 - auc: 0.7846 - tp: 124.0000 - fp: 59.0000 - tn: 83.0000 - fn: 18.0000 - val_loss: 0.5661 - val_acc: 0.7500 - val_precision: 0.6957 - val_recall: 0.8889 - val_auc: 0.8951 - val_tp: 16.0000 - val_fp: 7.0000 - val_tn: 11.0000 - val_fn: 2.0000\n",
            "Epoch 41/100\n",
            "2/2 [==============================] - 0s 120ms/step - loss: 0.6113 - acc: 0.7289 - precision: 0.6757 - recall: 0.8803 - auc: 0.7855 - tp: 125.0000 - fp: 60.0000 - tn: 82.0000 - fn: 17.0000 - val_loss: 0.5620 - val_acc: 0.7500 - val_precision: 0.6957 - val_recall: 0.8889 - val_auc: 0.8951 - val_tp: 16.0000 - val_fp: 7.0000 - val_tn: 11.0000 - val_fn: 2.0000\n",
            "Epoch 42/100\n",
            "2/2 [==============================] - 0s 128ms/step - loss: 0.6086 - acc: 0.7289 - precision: 0.6757 - recall: 0.8803 - auc: 0.7861 - tp: 125.0000 - fp: 60.0000 - tn: 82.0000 - fn: 17.0000 - val_loss: 0.5582 - val_acc: 0.7500 - val_precision: 0.6957 - val_recall: 0.8889 - val_auc: 0.8904 - val_tp: 16.0000 - val_fp: 7.0000 - val_tn: 11.0000 - val_fn: 2.0000\n",
            "Epoch 43/100\n",
            "2/2 [==============================] - 0s 122ms/step - loss: 0.6061 - acc: 0.7254 - precision: 0.6720 - recall: 0.8803 - auc: 0.7859 - tp: 125.0000 - fp: 61.0000 - tn: 81.0000 - fn: 17.0000 - val_loss: 0.5539 - val_acc: 0.7222 - val_precision: 0.6667 - val_recall: 0.8889 - val_auc: 0.8935 - val_tp: 16.0000 - val_fp: 8.0000 - val_tn: 10.0000 - val_fn: 2.0000\n",
            "Epoch 44/100\n",
            "2/2 [==============================] - 0s 125ms/step - loss: 0.6028 - acc: 0.7289 - precision: 0.6757 - recall: 0.8803 - auc: 0.7868 - tp: 125.0000 - fp: 60.0000 - tn: 82.0000 - fn: 17.0000 - val_loss: 0.5497 - val_acc: 0.7778 - val_precision: 0.7273 - val_recall: 0.8889 - val_auc: 0.8981 - val_tp: 16.0000 - val_fp: 6.0000 - val_tn: 12.0000 - val_fn: 2.0000\n",
            "Epoch 45/100\n",
            "2/2 [==============================] - 0s 121ms/step - loss: 0.5993 - acc: 0.7394 - precision: 0.6868 - recall: 0.8803 - auc: 0.7890 - tp: 125.0000 - fp: 57.0000 - tn: 85.0000 - fn: 17.0000 - val_loss: 0.5454 - val_acc: 0.7778 - val_precision: 0.7273 - val_recall: 0.8889 - val_auc: 0.9012 - val_tp: 16.0000 - val_fp: 6.0000 - val_tn: 12.0000 - val_fn: 2.0000\n",
            "Epoch 46/100\n",
            "2/2 [==============================] - 0s 122ms/step - loss: 0.5958 - acc: 0.7535 - precision: 0.7022 - recall: 0.8803 - auc: 0.7905 - tp: 125.0000 - fp: 53.0000 - tn: 89.0000 - fn: 17.0000 - val_loss: 0.5403 - val_acc: 0.7778 - val_precision: 0.7273 - val_recall: 0.8889 - val_auc: 0.9028 - val_tp: 16.0000 - val_fp: 6.0000 - val_tn: 12.0000 - val_fn: 2.0000\n",
            "Epoch 47/100\n",
            "2/2 [==============================] - 0s 123ms/step - loss: 0.5926 - acc: 0.7570 - precision: 0.7062 - recall: 0.8803 - auc: 0.7914 - tp: 125.0000 - fp: 52.0000 - tn: 90.0000 - fn: 17.0000 - val_loss: 0.5347 - val_acc: 0.7778 - val_precision: 0.7273 - val_recall: 0.8889 - val_auc: 0.9012 - val_tp: 16.0000 - val_fp: 6.0000 - val_tn: 12.0000 - val_fn: 2.0000\n",
            "Epoch 48/100\n",
            "2/2 [==============================] - 0s 123ms/step - loss: 0.5890 - acc: 0.7570 - precision: 0.7062 - recall: 0.8803 - auc: 0.7942 - tp: 125.0000 - fp: 52.0000 - tn: 90.0000 - fn: 17.0000 - val_loss: 0.5293 - val_acc: 0.7500 - val_precision: 0.6957 - val_recall: 0.8889 - val_auc: 0.8997 - val_tp: 16.0000 - val_fp: 7.0000 - val_tn: 11.0000 - val_fn: 2.0000\n",
            "Epoch 49/100\n",
            "2/2 [==============================] - 0s 127ms/step - loss: 0.5852 - acc: 0.7570 - precision: 0.7062 - recall: 0.8803 - auc: 0.7982 - tp: 125.0000 - fp: 52.0000 - tn: 90.0000 - fn: 17.0000 - val_loss: 0.5247 - val_acc: 0.7500 - val_precision: 0.6957 - val_recall: 0.8889 - val_auc: 0.8997 - val_tp: 16.0000 - val_fp: 7.0000 - val_tn: 11.0000 - val_fn: 2.0000\n",
            "Epoch 50/100\n",
            "2/2 [==============================] - 0s 130ms/step - loss: 0.5815 - acc: 0.7500 - precision: 0.7029 - recall: 0.8662 - auc: 0.8005 - tp: 123.0000 - fp: 52.0000 - tn: 90.0000 - fn: 19.0000 - val_loss: 0.5201 - val_acc: 0.7500 - val_precision: 0.6957 - val_recall: 0.8889 - val_auc: 0.9012 - val_tp: 16.0000 - val_fp: 7.0000 - val_tn: 11.0000 - val_fn: 2.0000\n",
            "Epoch 51/100\n",
            "2/2 [==============================] - 0s 131ms/step - loss: 0.5776 - acc: 0.7500 - precision: 0.7029 - recall: 0.8662 - auc: 0.8025 - tp: 123.0000 - fp: 52.0000 - tn: 90.0000 - fn: 19.0000 - val_loss: 0.5157 - val_acc: 0.7500 - val_precision: 0.6957 - val_recall: 0.8889 - val_auc: 0.9028 - val_tp: 16.0000 - val_fp: 7.0000 - val_tn: 11.0000 - val_fn: 2.0000\n",
            "Epoch 52/100\n",
            "2/2 [==============================] - 0s 130ms/step - loss: 0.5734 - acc: 0.7500 - precision: 0.7029 - recall: 0.8662 - auc: 0.8037 - tp: 123.0000 - fp: 52.0000 - tn: 90.0000 - fn: 19.0000 - val_loss: 0.5117 - val_acc: 0.7500 - val_precision: 0.6957 - val_recall: 0.8889 - val_auc: 0.9012 - val_tp: 16.0000 - val_fp: 7.0000 - val_tn: 11.0000 - val_fn: 2.0000\n",
            "Epoch 53/100\n",
            "2/2 [==============================] - 0s 124ms/step - loss: 0.5695 - acc: 0.7570 - precision: 0.7110 - recall: 0.8662 - auc: 0.8054 - tp: 123.0000 - fp: 50.0000 - tn: 92.0000 - fn: 19.0000 - val_loss: 0.5075 - val_acc: 0.7778 - val_precision: 0.7273 - val_recall: 0.8889 - val_auc: 0.8997 - val_tp: 16.0000 - val_fp: 6.0000 - val_tn: 12.0000 - val_fn: 2.0000\n",
            "Epoch 54/100\n",
            "2/2 [==============================] - 0s 129ms/step - loss: 0.5661 - acc: 0.7606 - precision: 0.7176 - recall: 0.8592 - auc: 0.8063 - tp: 122.0000 - fp: 48.0000 - tn: 94.0000 - fn: 20.0000 - val_loss: 0.5039 - val_acc: 0.8056 - val_precision: 0.7619 - val_recall: 0.8889 - val_auc: 0.8951 - val_tp: 16.0000 - val_fp: 5.0000 - val_tn: 13.0000 - val_fn: 2.0000\n",
            "Epoch 55/100\n",
            "2/2 [==============================] - 0s 128ms/step - loss: 0.5631 - acc: 0.7535 - precision: 0.7143 - recall: 0.8451 - auc: 0.8090 - tp: 120.0000 - fp: 48.0000 - tn: 94.0000 - fn: 22.0000 - val_loss: 0.4980 - val_acc: 0.8056 - val_precision: 0.7619 - val_recall: 0.8889 - val_auc: 0.8951 - val_tp: 16.0000 - val_fp: 5.0000 - val_tn: 13.0000 - val_fn: 2.0000\n",
            "Epoch 56/100\n",
            "2/2 [==============================] - 0s 127ms/step - loss: 0.5584 - acc: 0.7641 - precision: 0.7219 - recall: 0.8592 - auc: 0.8108 - tp: 122.0000 - fp: 47.0000 - tn: 95.0000 - fn: 20.0000 - val_loss: 0.4890 - val_acc: 0.7778 - val_precision: 0.7273 - val_recall: 0.8889 - val_auc: 0.8920 - val_tp: 16.0000 - val_fp: 6.0000 - val_tn: 12.0000 - val_fn: 2.0000\n",
            "Epoch 57/100\n",
            "2/2 [==============================] - 0s 123ms/step - loss: 0.5523 - acc: 0.7606 - precision: 0.7151 - recall: 0.8662 - auc: 0.8146 - tp: 123.0000 - fp: 49.0000 - tn: 93.0000 - fn: 19.0000 - val_loss: 0.4810 - val_acc: 0.8056 - val_precision: 0.7391 - val_recall: 0.9444 - val_auc: 0.8935 - val_tp: 17.0000 - val_fp: 6.0000 - val_tn: 12.0000 - val_fn: 1.0000\n",
            "Epoch 58/100\n",
            "2/2 [==============================] - 0s 126ms/step - loss: 0.5465 - acc: 0.7676 - precision: 0.7184 - recall: 0.8803 - auc: 0.8187 - tp: 125.0000 - fp: 49.0000 - tn: 93.0000 - fn: 17.0000 - val_loss: 0.4728 - val_acc: 0.8333 - val_precision: 0.7500 - val_recall: 1.0000 - val_auc: 0.9120 - val_tp: 18.0000 - val_fp: 6.0000 - val_tn: 12.0000 - val_fn: 0.0000e+00\n",
            "Epoch 59/100\n",
            "2/2 [==============================] - 0s 122ms/step - loss: 0.5411 - acc: 0.7782 - precision: 0.7232 - recall: 0.9014 - auc: 0.8220 - tp: 128.0000 - fp: 49.0000 - tn: 93.0000 - fn: 14.0000 - val_loss: 0.4644 - val_acc: 0.8333 - val_precision: 0.7500 - val_recall: 1.0000 - val_auc: 0.9198 - val_tp: 18.0000 - val_fp: 6.0000 - val_tn: 12.0000 - val_fn: 0.0000e+00\n",
            "Epoch 60/100\n",
            "2/2 [==============================] - 0s 127ms/step - loss: 0.5358 - acc: 0.7852 - precision: 0.7263 - recall: 0.9155 - auc: 0.8262 - tp: 130.0000 - fp: 49.0000 - tn: 93.0000 - fn: 12.0000 - val_loss: 0.4577 - val_acc: 0.8056 - val_precision: 0.7200 - val_recall: 1.0000 - val_auc: 0.9182 - val_tp: 18.0000 - val_fp: 7.0000 - val_tn: 11.0000 - val_fn: 0.0000e+00\n",
            "Epoch 61/100\n",
            "2/2 [==============================] - 0s 121ms/step - loss: 0.5309 - acc: 0.7746 - precision: 0.7143 - recall: 0.9155 - auc: 0.8293 - tp: 130.0000 - fp: 52.0000 - tn: 90.0000 - fn: 12.0000 - val_loss: 0.4509 - val_acc: 0.8056 - val_precision: 0.7200 - val_recall: 1.0000 - val_auc: 0.9167 - val_tp: 18.0000 - val_fp: 7.0000 - val_tn: 11.0000 - val_fn: 0.0000e+00\n",
            "Epoch 62/100\n",
            "2/2 [==============================] - 0s 123ms/step - loss: 0.5260 - acc: 0.7746 - precision: 0.7143 - recall: 0.9155 - auc: 0.8293 - tp: 130.0000 - fp: 52.0000 - tn: 90.0000 - fn: 12.0000 - val_loss: 0.4454 - val_acc: 0.8333 - val_precision: 0.7500 - val_recall: 1.0000 - val_auc: 0.9151 - val_tp: 18.0000 - val_fp: 6.0000 - val_tn: 12.0000 - val_fn: 0.0000e+00\n",
            "Epoch 63/100\n",
            "2/2 [==============================] - 0s 123ms/step - loss: 0.5209 - acc: 0.7782 - precision: 0.7182 - recall: 0.9155 - auc: 0.8297 - tp: 130.0000 - fp: 51.0000 - tn: 91.0000 - fn: 12.0000 - val_loss: 0.4413 - val_acc: 0.8333 - val_precision: 0.7500 - val_recall: 1.0000 - val_auc: 0.9059 - val_tp: 18.0000 - val_fp: 6.0000 - val_tn: 12.0000 - val_fn: 0.0000e+00\n",
            "Epoch 64/100\n",
            "2/2 [==============================] - 0s 124ms/step - loss: 0.5160 - acc: 0.7782 - precision: 0.7232 - recall: 0.9014 - auc: 0.8324 - tp: 128.0000 - fp: 49.0000 - tn: 93.0000 - fn: 14.0000 - val_loss: 0.4369 - val_acc: 0.8333 - val_precision: 0.7500 - val_recall: 1.0000 - val_auc: 0.9090 - val_tp: 18.0000 - val_fp: 6.0000 - val_tn: 12.0000 - val_fn: 0.0000e+00\n",
            "Epoch 65/100\n",
            "2/2 [==============================] - 0s 123ms/step - loss: 0.5117 - acc: 0.7782 - precision: 0.7232 - recall: 0.9014 - auc: 0.8321 - tp: 128.0000 - fp: 49.0000 - tn: 93.0000 - fn: 14.0000 - val_loss: 0.4322 - val_acc: 0.8333 - val_precision: 0.7500 - val_recall: 1.0000 - val_auc: 0.9120 - val_tp: 18.0000 - val_fp: 6.0000 - val_tn: 12.0000 - val_fn: 0.0000e+00\n",
            "Epoch 66/100\n",
            "2/2 [==============================] - 0s 129ms/step - loss: 0.5078 - acc: 0.7746 - precision: 0.7191 - recall: 0.9014 - auc: 0.8328 - tp: 128.0000 - fp: 50.0000 - tn: 92.0000 - fn: 14.0000 - val_loss: 0.4288 - val_acc: 0.8333 - val_precision: 0.7500 - val_recall: 1.0000 - val_auc: 0.9090 - val_tp: 18.0000 - val_fp: 6.0000 - val_tn: 12.0000 - val_fn: 0.0000e+00\n",
            "Epoch 67/100\n",
            "2/2 [==============================] - 0s 122ms/step - loss: 0.5040 - acc: 0.7817 - precision: 0.7273 - recall: 0.9014 - auc: 0.8339 - tp: 128.0000 - fp: 48.0000 - tn: 94.0000 - fn: 14.0000 - val_loss: 0.4275 - val_acc: 0.8056 - val_precision: 0.7391 - val_recall: 0.9444 - val_auc: 0.9028 - val_tp: 17.0000 - val_fp: 6.0000 - val_tn: 12.0000 - val_fn: 1.0000\n",
            "Epoch 68/100\n",
            "2/2 [==============================] - 0s 121ms/step - loss: 0.5044 - acc: 0.7711 - precision: 0.7251 - recall: 0.8732 - auc: 0.8333 - tp: 124.0000 - fp: 47.0000 - tn: 95.0000 - fn: 18.0000 - val_loss: 0.4260 - val_acc: 0.8056 - val_precision: 0.7391 - val_recall: 0.9444 - val_auc: 0.9028 - val_tp: 17.0000 - val_fp: 6.0000 - val_tn: 12.0000 - val_fn: 1.0000\n",
            "Epoch 69/100\n",
            "2/2 [==============================] - 0s 125ms/step - loss: 0.5010 - acc: 0.7711 - precision: 0.7251 - recall: 0.8732 - auc: 0.8341 - tp: 124.0000 - fp: 47.0000 - tn: 95.0000 - fn: 18.0000 - val_loss: 0.4259 - val_acc: 0.8056 - val_precision: 0.7391 - val_recall: 0.9444 - val_auc: 0.9012 - val_tp: 17.0000 - val_fp: 6.0000 - val_tn: 12.0000 - val_fn: 1.0000\n",
            "Epoch 70/100\n",
            "2/2 [==============================] - 0s 121ms/step - loss: 0.4989 - acc: 0.7817 - precision: 0.7381 - recall: 0.8732 - auc: 0.8373 - tp: 124.0000 - fp: 44.0000 - tn: 98.0000 - fn: 18.0000 - val_loss: 0.4256 - val_acc: 0.8056 - val_precision: 0.7391 - val_recall: 0.9444 - val_auc: 0.9012 - val_tp: 17.0000 - val_fp: 6.0000 - val_tn: 12.0000 - val_fn: 1.0000\n",
            "Epoch 71/100\n",
            "2/2 [==============================] - 0s 121ms/step - loss: 0.4959 - acc: 0.7887 - precision: 0.7470 - recall: 0.8732 - auc: 0.8399 - tp: 124.0000 - fp: 42.0000 - tn: 100.0000 - fn: 18.0000 - val_loss: 0.4180 - val_acc: 0.8056 - val_precision: 0.7200 - val_recall: 1.0000 - val_auc: 0.9105 - val_tp: 18.0000 - val_fp: 7.0000 - val_tn: 11.0000 - val_fn: 0.0000e+00\n",
            "Epoch 72/100\n",
            "2/2 [==============================] - 0s 121ms/step - loss: 0.4913 - acc: 0.7852 - precision: 0.7341 - recall: 0.8944 - auc: 0.8448 - tp: 127.0000 - fp: 46.0000 - tn: 96.0000 - fn: 15.0000 - val_loss: 0.4162 - val_acc: 0.8056 - val_precision: 0.7200 - val_recall: 1.0000 - val_auc: 0.9213 - val_tp: 18.0000 - val_fp: 7.0000 - val_tn: 11.0000 - val_fn: 0.0000e+00\n",
            "Epoch 73/100\n",
            "2/2 [==============================] - 0s 123ms/step - loss: 0.4885 - acc: 0.7852 - precision: 0.7314 - recall: 0.9014 - auc: 0.8508 - tp: 128.0000 - fp: 47.0000 - tn: 95.0000 - fn: 14.0000 - val_loss: 0.4167 - val_acc: 0.8056 - val_precision: 0.7200 - val_recall: 1.0000 - val_auc: 0.9167 - val_tp: 18.0000 - val_fp: 7.0000 - val_tn: 11.0000 - val_fn: 0.0000e+00\n",
            "Epoch 74/100\n",
            "2/2 [==============================] - 0s 142ms/step - loss: 0.4873 - acc: 0.7817 - precision: 0.7247 - recall: 0.9085 - auc: 0.8528 - tp: 129.0000 - fp: 49.0000 - tn: 93.0000 - fn: 13.0000 - val_loss: 0.4165 - val_acc: 0.8056 - val_precision: 0.7200 - val_recall: 1.0000 - val_auc: 0.9136 - val_tp: 18.0000 - val_fp: 7.0000 - val_tn: 11.0000 - val_fn: 0.0000e+00\n",
            "Epoch 75/100\n",
            "2/2 [==============================] - 0s 129ms/step - loss: 0.4845 - acc: 0.7887 - precision: 0.7330 - recall: 0.9085 - auc: 0.8556 - tp: 129.0000 - fp: 47.0000 - tn: 95.0000 - fn: 13.0000 - val_loss: 0.4155 - val_acc: 0.8056 - val_precision: 0.7200 - val_recall: 1.0000 - val_auc: 0.9151 - val_tp: 18.0000 - val_fp: 7.0000 - val_tn: 11.0000 - val_fn: 0.0000e+00\n",
            "Epoch 76/100\n",
            "2/2 [==============================] - 0s 124ms/step - loss: 0.4813 - acc: 0.7887 - precision: 0.7330 - recall: 0.9085 - auc: 0.8580 - tp: 129.0000 - fp: 47.0000 - tn: 95.0000 - fn: 13.0000 - val_loss: 0.4142 - val_acc: 0.8056 - val_precision: 0.7200 - val_recall: 1.0000 - val_auc: 0.9120 - val_tp: 18.0000 - val_fp: 7.0000 - val_tn: 11.0000 - val_fn: 0.0000e+00\n",
            "Epoch 77/100\n",
            "2/2 [==============================] - 0s 121ms/step - loss: 0.4795 - acc: 0.7923 - precision: 0.7371 - recall: 0.9085 - auc: 0.8598 - tp: 129.0000 - fp: 46.0000 - tn: 96.0000 - fn: 13.0000 - val_loss: 0.4118 - val_acc: 0.8056 - val_precision: 0.7200 - val_recall: 1.0000 - val_auc: 0.9120 - val_tp: 18.0000 - val_fp: 7.0000 - val_tn: 11.0000 - val_fn: 0.0000e+00\n",
            "Epoch 78/100\n",
            "2/2 [==============================] - 0s 126ms/step - loss: 0.4764 - acc: 0.7923 - precision: 0.7371 - recall: 0.9085 - auc: 0.8607 - tp: 129.0000 - fp: 46.0000 - tn: 96.0000 - fn: 13.0000 - val_loss: 0.4086 - val_acc: 0.8056 - val_precision: 0.7200 - val_recall: 1.0000 - val_auc: 0.9136 - val_tp: 18.0000 - val_fp: 7.0000 - val_tn: 11.0000 - val_fn: 0.0000e+00\n",
            "Epoch 79/100\n",
            "2/2 [==============================] - 0s 127ms/step - loss: 0.4735 - acc: 0.8063 - precision: 0.7574 - recall: 0.9014 - auc: 0.8609 - tp: 128.0000 - fp: 41.0000 - tn: 101.0000 - fn: 14.0000 - val_loss: 0.4066 - val_acc: 0.7778 - val_precision: 0.7083 - val_recall: 0.9444 - val_auc: 0.9074 - val_tp: 17.0000 - val_fp: 7.0000 - val_tn: 11.0000 - val_fn: 1.0000\n",
            "Epoch 80/100\n",
            "2/2 [==============================] - 0s 121ms/step - loss: 0.4713 - acc: 0.8099 - precision: 0.7683 - recall: 0.8873 - auc: 0.8629 - tp: 126.0000 - fp: 38.0000 - tn: 104.0000 - fn: 16.0000 - val_loss: 0.4041 - val_acc: 0.7778 - val_precision: 0.7083 - val_recall: 0.9444 - val_auc: 0.9090 - val_tp: 17.0000 - val_fp: 7.0000 - val_tn: 11.0000 - val_fn: 1.0000\n",
            "Epoch 81/100\n",
            "2/2 [==============================] - 0s 134ms/step - loss: 0.4633 - acc: 0.8063 - precision: 0.7669 - recall: 0.8803 - auc: 0.8652 - tp: 125.0000 - fp: 38.0000 - tn: 104.0000 - fn: 17.0000 - val_loss: 0.4011 - val_acc: 0.7778 - val_precision: 0.7083 - val_recall: 0.9444 - val_auc: 0.9105 - val_tp: 17.0000 - val_fp: 7.0000 - val_tn: 11.0000 - val_fn: 1.0000\n",
            "Epoch 82/100\n",
            "2/2 [==============================] - 0s 129ms/step - loss: 0.4626 - acc: 0.8063 - precision: 0.7605 - recall: 0.8944 - auc: 0.8644 - tp: 127.0000 - fp: 40.0000 - tn: 102.0000 - fn: 15.0000 - val_loss: 0.4002 - val_acc: 0.7778 - val_precision: 0.7083 - val_recall: 0.9444 - val_auc: 0.9074 - val_tp: 17.0000 - val_fp: 7.0000 - val_tn: 11.0000 - val_fn: 1.0000\n",
            "Epoch 83/100\n",
            "2/2 [==============================] - 0s 125ms/step - loss: 0.4565 - acc: 0.8099 - precision: 0.7651 - recall: 0.8944 - auc: 0.8667 - tp: 127.0000 - fp: 39.0000 - tn: 103.0000 - fn: 15.0000 - val_loss: 0.4004 - val_acc: 0.7778 - val_precision: 0.7083 - val_recall: 0.9444 - val_auc: 0.9074 - val_tp: 17.0000 - val_fp: 7.0000 - val_tn: 11.0000 - val_fn: 1.0000\n",
            "Epoch 84/100\n",
            "2/2 [==============================] - 0s 121ms/step - loss: 0.4551 - acc: 0.8063 - precision: 0.7605 - recall: 0.8944 - auc: 0.8665 - tp: 127.0000 - fp: 40.0000 - tn: 102.0000 - fn: 15.0000 - val_loss: 0.4003 - val_acc: 0.8056 - val_precision: 0.7200 - val_recall: 1.0000 - val_auc: 0.9059 - val_tp: 18.0000 - val_fp: 7.0000 - val_tn: 11.0000 - val_fn: 0.0000e+00\n",
            "Epoch 85/100\n",
            "2/2 [==============================] - 0s 121ms/step - loss: 0.4559 - acc: 0.8028 - precision: 0.7529 - recall: 0.9014 - auc: 0.8655 - tp: 128.0000 - fp: 42.0000 - tn: 100.0000 - fn: 14.0000 - val_loss: 0.3996 - val_acc: 0.8056 - val_precision: 0.7200 - val_recall: 1.0000 - val_auc: 0.9074 - val_tp: 18.0000 - val_fp: 7.0000 - val_tn: 11.0000 - val_fn: 0.0000e+00\n",
            "Epoch 86/100\n",
            "2/2 [==============================] - 0s 125ms/step - loss: 0.4546 - acc: 0.8099 - precision: 0.7588 - recall: 0.9085 - auc: 0.8643 - tp: 129.0000 - fp: 41.0000 - tn: 101.0000 - fn: 13.0000 - val_loss: 0.3982 - val_acc: 0.8056 - val_precision: 0.7200 - val_recall: 1.0000 - val_auc: 0.9074 - val_tp: 18.0000 - val_fp: 7.0000 - val_tn: 11.0000 - val_fn: 0.0000e+00\n",
            "Epoch 87/100\n",
            "2/2 [==============================] - 0s 123ms/step - loss: 0.4524 - acc: 0.8063 - precision: 0.7636 - recall: 0.8873 - auc: 0.8653 - tp: 126.0000 - fp: 39.0000 - tn: 103.0000 - fn: 16.0000 - val_loss: 0.3967 - val_acc: 0.8056 - val_precision: 0.7200 - val_recall: 1.0000 - val_auc: 0.9090 - val_tp: 18.0000 - val_fp: 7.0000 - val_tn: 11.0000 - val_fn: 0.0000e+00\n",
            "Epoch 88/100\n",
            "2/2 [==============================] - 0s 121ms/step - loss: 0.4516 - acc: 0.8028 - precision: 0.7622 - recall: 0.8803 - auc: 0.8673 - tp: 125.0000 - fp: 39.0000 - tn: 103.0000 - fn: 17.0000 - val_loss: 0.3965 - val_acc: 0.8056 - val_precision: 0.7200 - val_recall: 1.0000 - val_auc: 0.9120 - val_tp: 18.0000 - val_fp: 7.0000 - val_tn: 11.0000 - val_fn: 0.0000e+00\n",
            "Epoch 89/100\n",
            "2/2 [==============================] - 0s 119ms/step - loss: 0.4498 - acc: 0.8063 - precision: 0.7669 - recall: 0.8803 - auc: 0.8670 - tp: 125.0000 - fp: 38.0000 - tn: 104.0000 - fn: 17.0000 - val_loss: 0.3996 - val_acc: 0.8056 - val_precision: 0.7200 - val_recall: 1.0000 - val_auc: 0.9136 - val_tp: 18.0000 - val_fp: 7.0000 - val_tn: 11.0000 - val_fn: 0.0000e+00\n",
            "Epoch 90/100\n",
            "2/2 [==============================] - 0s 120ms/step - loss: 0.4463 - acc: 0.8063 - precision: 0.7636 - recall: 0.8873 - auc: 0.8688 - tp: 126.0000 - fp: 39.0000 - tn: 103.0000 - fn: 16.0000 - val_loss: 0.4019 - val_acc: 0.8056 - val_precision: 0.7200 - val_recall: 1.0000 - val_auc: 0.9136 - val_tp: 18.0000 - val_fp: 7.0000 - val_tn: 11.0000 - val_fn: 0.0000e+00\n",
            "Epoch 91/100\n",
            "2/2 [==============================] - 0s 124ms/step - loss: 0.4419 - acc: 0.8063 - precision: 0.7605 - recall: 0.8944 - auc: 0.8729 - tp: 127.0000 - fp: 40.0000 - tn: 102.0000 - fn: 15.0000 - val_loss: 0.4022 - val_acc: 0.8056 - val_precision: 0.7200 - val_recall: 1.0000 - val_auc: 0.9043 - val_tp: 18.0000 - val_fp: 7.0000 - val_tn: 11.0000 - val_fn: 0.0000e+00\n",
            "Epoch 92/100\n",
            "2/2 [==============================] - 0s 119ms/step - loss: 0.4394 - acc: 0.8169 - precision: 0.7744 - recall: 0.8944 - auc: 0.8748 - tp: 127.0000 - fp: 37.0000 - tn: 105.0000 - fn: 15.0000 - val_loss: 0.4037 - val_acc: 0.8056 - val_precision: 0.7200 - val_recall: 1.0000 - val_auc: 0.9074 - val_tp: 18.0000 - val_fp: 7.0000 - val_tn: 11.0000 - val_fn: 0.0000e+00\n",
            "Epoch 93/100\n",
            "2/2 [==============================] - 0s 126ms/step - loss: 0.4365 - acc: 0.8169 - precision: 0.7711 - recall: 0.9014 - auc: 0.8781 - tp: 128.0000 - fp: 38.0000 - tn: 104.0000 - fn: 14.0000 - val_loss: 0.4042 - val_acc: 0.7778 - val_precision: 0.7083 - val_recall: 0.9444 - val_auc: 0.9043 - val_tp: 17.0000 - val_fp: 7.0000 - val_tn: 11.0000 - val_fn: 1.0000\n"
          ],
          "name": "stdout"
        }
      ]
    },
    {
      "cell_type": "code",
      "metadata": {
        "id": "L7YAHC3jNX8v"
      },
      "source": [
        "%%script echo \"Comment line with %%script echo to run this cell.\"\n",
        "\n",
        "model.save('lstm.h5')"
      ],
      "execution_count": 64,
      "outputs": []
    },
    {
      "cell_type": "code",
      "metadata": {
        "id": "5nQMvJB5Tk_v"
      },
      "source": [
        "%%script echo \"Comment line with %%script echo to run this cell.\"\n",
        "\n",
        "with open('lstm_history.pickle', 'wb') as f:\n",
        "    pickle.dump(history.history, f)"
      ],
      "execution_count": 65,
      "outputs": []
    },
    {
      "cell_type": "code",
      "metadata": {
        "id": "DWvap1ssTqaV"
      },
      "source": [
        "model = keras.models.load_model('lstm.h5')"
      ],
      "execution_count": 66,
      "outputs": []
    },
    {
      "cell_type": "code",
      "metadata": {
        "id": "-w3FdeseT4Nz"
      },
      "source": [
        "with open('lstm_history.pickle', 'rb') as f:\n",
        "    history = pickle.load(f)"
      ],
      "execution_count": 67,
      "outputs": []
    },
    {
      "cell_type": "code",
      "metadata": {
        "colab": {
          "base_uri": "https://localhost:8080/"
        },
        "id": "vUqaRbjZT904",
        "outputId": "8bcc0782-98bc-4e72-b32d-c09338649b53"
      },
      "source": [
        "model.predict(test_X_n_under)"
      ],
      "execution_count": 73,
      "outputs": [
        {
          "output_type": "execute_result",
          "data": {
            "text/plain": [
              "array([[0.8140611 ],\n",
              "       [0.8386208 ],\n",
              "       [0.8598409 ],\n",
              "       [0.7109096 ],\n",
              "       [0.79987   ],\n",
              "       [0.45615512],\n",
              "       [0.7236165 ],\n",
              "       [0.79000455],\n",
              "       [0.74157524],\n",
              "       [0.22789374],\n",
              "       [0.81928647],\n",
              "       [0.8326762 ],\n",
              "       [0.8361027 ],\n",
              "       [0.2515445 ],\n",
              "       [0.76707697],\n",
              "       [0.87178296],\n",
              "       [0.5601199 ],\n",
              "       [0.5601199 ],\n",
              "       [0.10626857],\n",
              "       [0.745017  ],\n",
              "       [0.14088067],\n",
              "       [0.1402874 ],\n",
              "       [0.11229039],\n",
              "       [0.11529986],\n",
              "       [0.09036164],\n",
              "       [0.24526931],\n",
              "       [0.8391022 ],\n",
              "       [0.7762219 ],\n",
              "       [0.21327531],\n",
              "       [0.83592653],\n",
              "       [0.83601636],\n",
              "       [0.23652919],\n",
              "       [0.1068561 ],\n",
              "       [0.11705742],\n",
              "       [0.10236919],\n",
              "       [0.11009344]], dtype=float32)"
            ]
          },
          "metadata": {
            "tags": []
          },
          "execution_count": 73
        }
      ]
    },
    {
      "cell_type": "code",
      "metadata": {
        "colab": {
          "base_uri": "https://localhost:8080/"
        },
        "id": "eJDRjG_chbLV",
        "outputId": "a411e3f6-a62c-4fb7-fdfb-709048be6902"
      },
      "source": [
        "model.evaluate(test_X_n_under, test_y_under)"
      ],
      "execution_count": 75,
      "outputs": [
        {
          "output_type": "stream",
          "text": [
            "2/2 [==============================] - 0s 49ms/step - loss: 0.5009 - acc: 0.7778 - precision: 0.7500 - recall: 0.8333 - auc: 0.8025 - tp: 15.0000 - fp: 5.0000 - tn: 13.0000 - fn: 3.0000\n"
          ],
          "name": "stdout"
        },
        {
          "output_type": "execute_result",
          "data": {
            "text/plain": [
              "[0.5009286403656006,\n",
              " 0.7777777910232544,\n",
              " 0.75,\n",
              " 0.8333333134651184,\n",
              " 0.8024691939353943,\n",
              " 15.0,\n",
              " 5.0,\n",
              " 13.0,\n",
              " 3.0]"
            ]
          },
          "metadata": {
            "tags": []
          },
          "execution_count": 75
        }
      ]
    },
    {
      "cell_type": "code",
      "metadata": {
        "colab": {
          "base_uri": "https://localhost:8080/",
          "height": 296
        },
        "id": "3ECYLzcTdC-1",
        "outputId": "1db3e146-64f4-470a-b665-13726a2f3db8"
      },
      "source": [
        "plt.plot(\n",
        "    np.arange(1, len(history['loss']) + 1),\n",
        "    history['loss'],\n",
        "    color='b',\n",
        "    label='Training'\n",
        ")\n",
        "plt.plot(\n",
        "    np.arange(1, len(history['val_loss']) + 1),\n",
        "    history['val_loss'],\n",
        "    color='r',\n",
        "    label='Validation'\n",
        ")\n",
        "plt.xlabel('Epoch')\n",
        "plt.ylabel('Loss')\n",
        "plt.xticks(np.arange(0, len(history['loss']) + 1, 5))\n",
        "plt.legend()"
      ],
      "execution_count": 76,
      "outputs": [
        {
          "output_type": "execute_result",
          "data": {
            "text/plain": [
              "<matplotlib.legend.Legend at 0x7fb285d0e0f0>"
            ]
          },
          "metadata": {
            "tags": []
          },
          "execution_count": 76
        },
        {
          "output_type": "display_data",
          "data": {
            "image/png": "[encoded data removed]",
            "text/plain": [
              "<Figure size 432x288 with 1 Axes>"
            ]
          },
          "metadata": {
            "tags": [],
            "needs_background": "light"
          }
        }
      ]
    },
    {
      "cell_type": "code",
      "metadata": {
        "colab": {
          "base_uri": "https://localhost:8080/",
          "height": 296
        },
        "id": "loECIvjXeebN",
        "outputId": "6d6bf868-ae1d-4592-b7e5-1f7990019356"
      },
      "source": [
        "plt.plot(\n",
        "    np.arange(1, len(history['acc']) + 1),\n",
        "    history['acc'],\n",
        "    color='b',\n",
        "    label='Training'\n",
        ")\n",
        "plt.plot(\n",
        "    np.arange(1, len(history['val_acc']) + 1),\n",
        "    history['val_acc'],\n",
        "    color='r',\n",
        "    label='Validation'\n",
        ")\n",
        "plt.xlabel('Epoch')\n",
        "plt.ylabel('Accuracy')\n",
        "plt.xticks(np.arange(0, len(history['loss']) + 1, 5))\n",
        "plt.legend()"
      ],
      "execution_count": 77,
      "outputs": [
        {
          "output_type": "execute_result",
          "data": {
            "text/plain": [
              "<matplotlib.legend.Legend at 0x7fb28572a198>"
            ]
          },
          "metadata": {
            "tags": []
          },
          "execution_count": 77
        },
        {
          "output_type": "display_data",
          "data": {
            "image/png": "[encoded data removed]",
            "text/plain": [
              "<Figure size 432x288 with 1 Axes>"
            ]
          },
          "metadata": {
            "tags": [],
            "needs_background": "light"
          }
        }
      ]
    }
  ]
}