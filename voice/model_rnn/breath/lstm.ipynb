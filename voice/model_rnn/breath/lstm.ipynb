{
  "nbformat": 4,
  "nbformat_minor": 0,
  "metadata": {
    "kernelspec": {
      "display_name": "Python 3",
      "language": "python",
      "name": "python3"
    },
    "language_info": {
      "codemirror_mode": {
        "name": "ipython",
        "version": 3
      },
      "file_extension": ".py",
      "mimetype": "text/x-python",
      "name": "python",
      "nbconvert_exporter": "python",
      "pygments_lexer": "ipython3",
      "version": "3.8.6"
    },
    "colab": {
      "name": "lstm.ipynb",
      "provenance": [],
      "collapsed_sections": []
    },
    "accelerator": "GPU"
  },
  "cells": [
    {
      "cell_type": "code",
      "metadata": {
        "colab": {
          "base_uri": "https://localhost:8080/"
        },
        "id": "GIWvD4gH-5Eg",
        "outputId": "d39863b6-840a-4bef-b625-8765736573ac"
      },
      "source": [
        "from google.colab import drive\n",
        "drive.mount('/content/drive', force_remount=True)"
      ],
      "execution_count": 1,
      "outputs": [
        {
          "output_type": "stream",
          "text": [
            "Mounted at /content/drive\n"
          ],
          "name": "stdout"
        }
      ]
    },
    {
      "cell_type": "code",
      "metadata": {
        "colab": {
          "base_uri": "https://localhost:8080/"
        },
        "id": "dFSjRU01_S1n",
        "outputId": "23c395e7-6f89-426a-f7db-6f1d308cb218"
      },
      "source": [
        "cd /content/drive/MyDrive/sop-covid/voice/model_rnn/breath"
      ],
      "execution_count": 2,
      "outputs": [
        {
          "output_type": "stream",
          "text": [
            "/content/drive/MyDrive/sop-covid/voice/model_rnn/breath\n"
          ],
          "name": "stdout"
        }
      ]
    },
    {
      "cell_type": "code",
      "metadata": {
        "colab": {
          "base_uri": "https://localhost:8080/"
        },
        "id": "11SFQ6BA_mn8",
        "outputId": "bc41fc6b-e276-406c-c653-e7b4c896fbdb"
      },
      "source": [
        "!unzip ../../data_rnn/data_breath.zip"
      ],
      "execution_count": 3,
      "outputs": [
        {
          "output_type": "stream",
          "text": [
            "Archive:  ../../data_rnn/data_breath.zip\n",
            "replace data_breath/valid_y.npy? [y]es, [n]o, [A]ll, [N]one, [r]ename: "
          ],
          "name": "stdout"
        }
      ]
    },
    {
      "cell_type": "code",
      "metadata": {
        "id": "11O0g6xW-3Pd"
      },
      "source": [
        "import numpy as np\n",
        "import tensorflow as tf\n",
        "import tensorflow.keras as keras\n",
        "import matplotlib.pyplot as plt\n",
        "import pickle\n",
        "import os\n",
        "\n",
        "import sys\n",
        "sys.path.append('..')\n",
        "\n",
        "from utils import *"
      ],
      "execution_count": 56,
      "outputs": []
    },
    {
      "cell_type": "code",
      "metadata": {
        "id": "3K5nYt5N-3Pj"
      },
      "source": [
        "SEED = 1\n",
        "np.random.seed(SEED)\n",
        "tf.random.set_seed(SEED)"
      ],
      "execution_count": 5,
      "outputs": []
    },
    {
      "cell_type": "code",
      "metadata": {
        "id": "K6EiRRJA-3Pj"
      },
      "source": [
        "train_X = np.load(os.path.join('data_breath', 'train_X.npy'))\n",
        "train_y = np.load(os.path.join('data_breath', 'train_y.npy'))\n",
        "\n",
        "valid_X = np.load(os.path.join('data_breath', 'valid_X.npy'))\n",
        "valid_y = np.load(os.path.join('data_breath', 'valid_y.npy'))\n",
        "\n",
        "test_X = np.load(os.path.join('data_breath', 'test_X.npy'))\n",
        "test_y = np.load(os.path.join('data_breath', 'test_y.npy'))"
      ],
      "execution_count": 6,
      "outputs": []
    },
    {
      "cell_type": "code",
      "metadata": {
        "id": "1l0t9UjL-3Pk"
      },
      "source": [
        "sc = Scaler()\n",
        "sc.fit(train_X, (0, 1))\n",
        "\n",
        "train_X_n = sc.transform(train_X, 'normalize')\n",
        "train_X_s = sc.transform(train_X, 'standardize')\n",
        "\n",
        "valid_X_n = sc.transform(valid_X, 'normalize')\n",
        "valid_X_s = sc.transform(valid_X, 'standardize')\n",
        "\n",
        "test_X_n = sc.transform(test_X, 'normalize')\n",
        "test_X_s = sc.transform(test_X, 'standardize')"
      ],
      "execution_count": 7,
      "outputs": []
    },
    {
      "cell_type": "code",
      "metadata": {
        "id": "bSEWYBTpLTV7"
      },
      "source": [
        "# Undersampling the majority class to make the distribution 50:50.\n",
        "train_X_n_under = train_X[:int(2 * train_y.sum())]\n",
        "train_y_under = train_y[:int(2 * train_y.sum())]\n",
        "\n",
        "valid_X_n_under = valid_X[:int(2 * valid_y.sum())]\n",
        "valid_y_under = valid_y[:int(2 * valid_y.sum())]\n",
        "\n",
        "test_X_n_under = test_X[:int(2 * test_y.sum())]\n",
        "test_y_under = test_y[:int(2 * test_y.sum())]"
      ],
      "execution_count": 8,
      "outputs": []
    },
    {
      "cell_type": "code",
      "metadata": {
        "id": "WlwI8dba-3Pk"
      },
      "source": [
        "# Hyperparameters\n",
        "learning_rate = 1e-3\n",
        "epochs = 100\n",
        "batch_size = 256"
      ],
      "execution_count": 42,
      "outputs": []
    },
    {
      "cell_type": "code",
      "metadata": {
        "id": "d_r9DDyz-3Pk"
      },
      "source": [
        "# Callback for early stopping\n",
        "es_callback = keras.callbacks.EarlyStopping(\n",
        "    monitor='val_loss',\n",
        "    min_delta=0.0001,\n",
        "    patience=5,\n",
        "    restore_best_weights=True\n",
        ")\n",
        "\n",
        "# Callback for reducing learning rate on loss plateauing\n",
        "plateau_callback = keras.callbacks.ReduceLROnPlateau(\n",
        "    monitor='val_loss',\n",
        "    factor=0.1,\n",
        "    patience=5,\n",
        "    min_delta=0.0001\n",
        ")"
      ],
      "execution_count": 43,
      "outputs": []
    },
    {
      "cell_type": "code",
      "metadata": {
        "id": "O1dNrNzYIM_B"
      },
      "source": [
        "metrics = [\n",
        "           keras.metrics.BinaryAccuracy(name='acc'),\n",
        "           keras.metrics.Precision(name='precision'),\n",
        "           keras.metrics.Recall(name='recall'),\n",
        "           keras.metrics.AUC(name='auc'),\n",
        "           keras.metrics.TruePositives(name='tp'),\n",
        "           keras.metrics.FalsePositives(name='fp'),\n",
        "           keras.metrics.TrueNegatives(name='tn'),\n",
        "           keras.metrics.FalseNegatives(name='fn')\n",
        "]"
      ],
      "execution_count": 44,
      "outputs": []
    },
    {
      "cell_type": "code",
      "metadata": {
        "id": "mU8rwmKx-3Pk"
      },
      "source": [
        "model = keras.Sequential([\n",
        "    keras.layers.LSTM(32, activation='tanh', return_sequences=True, input_shape=train_X.shape[1:]),\n",
        "    keras.layers.LSTM(32, activation='tanh', return_sequences=False),\n",
        "    keras.layers.Dense(32, activation='relu'),\n",
        "    keras.layers.Dense(1, activation='sigmoid')\n",
        "])"
      ],
      "execution_count": 45,
      "outputs": []
    },
    {
      "cell_type": "code",
      "metadata": {
        "id": "UlXJuSwZ-3Pl"
      },
      "source": [
        "model.compile(\n",
        "    optimizer=keras.optimizers.Adam(lr=learning_rate),\n",
        "    loss='binary_crossentropy',\n",
        "    metrics=metrics\n",
        ")"
      ],
      "execution_count": 46,
      "outputs": []
    },
    {
      "cell_type": "code",
      "metadata": {
        "colab": {
          "base_uri": "https://localhost:8080/"
        },
        "id": "_YjATYQt-3Pl",
        "outputId": "c0616a5f-af14-4ec5-f615-7389477dcdca"
      },
      "source": [
        "# %%script echo \"Comment line with %%script echo to run this cell.\"\n",
        "\n",
        "history = model.fit(\n",
        "    train_X_n_under,\n",
        "    train_y_under,\n",
        "    epochs=epochs,\n",
        "    batch_size=batch_size,\n",
        "    validation_data=(valid_X_n_under, valid_y_under),\n",
        "    callbacks=[es_callback, plateau_callback],\n",
        "    shuffle=True\n",
        ")"
      ],
      "execution_count": 47,
      "outputs": [
        {
          "output_type": "stream",
          "text": [
            "Epoch 1/100\n",
            "2/2 [==============================] - 2s 830ms/step - loss: 0.6952 - acc: 0.5036 - precision: 0.5020 - recall: 0.9343 - auc: 0.5247 - tp: 128.0000 - fp: 127.0000 - tn: 10.0000 - fn: 9.0000 - val_loss: 0.6988 - val_acc: 0.5000 - val_precision: 0.5000 - val_recall: 0.8824 - val_auc: 0.4152 - val_tp: 15.0000 - val_fp: 15.0000 - val_tn: 2.0000 - val_fn: 2.0000\n",
            "Epoch 2/100\n",
            "2/2 [==============================] - 1s 259ms/step - loss: 0.6898 - acc: 0.5219 - precision: 0.5124 - recall: 0.9051 - auc: 0.5578 - tp: 124.0000 - fp: 118.0000 - tn: 19.0000 - fn: 13.0000 - val_loss: 0.7005 - val_acc: 0.4706 - val_precision: 0.4839 - val_recall: 0.8824 - val_auc: 0.4602 - val_tp: 15.0000 - val_fp: 16.0000 - val_tn: 1.0000 - val_fn: 2.0000\n",
            "Epoch 3/100\n",
            "2/2 [==============================] - 1s 260ms/step - loss: 0.6880 - acc: 0.5219 - precision: 0.5123 - recall: 0.9124 - auc: 0.5862 - tp: 125.0000 - fp: 119.0000 - tn: 18.0000 - fn: 12.0000 - val_loss: 0.6998 - val_acc: 0.4706 - val_precision: 0.4839 - val_recall: 0.8824 - val_auc: 0.4464 - val_tp: 15.0000 - val_fp: 16.0000 - val_tn: 1.0000 - val_fn: 2.0000\n",
            "Epoch 4/100\n",
            "2/2 [==============================] - 1s 260ms/step - loss: 0.6845 - acc: 0.5328 - precision: 0.5187 - recall: 0.9124 - auc: 0.6063 - tp: 125.0000 - fp: 116.0000 - tn: 21.0000 - fn: 12.0000 - val_loss: 0.6982 - val_acc: 0.4706 - val_precision: 0.4828 - val_recall: 0.8235 - val_auc: 0.5225 - val_tp: 14.0000 - val_fp: 15.0000 - val_tn: 2.0000 - val_fn: 3.0000\n",
            "Epoch 5/100\n",
            "2/2 [==============================] - 1s 260ms/step - loss: 0.6810 - acc: 0.5438 - precision: 0.5261 - recall: 0.8832 - auc: 0.6222 - tp: 121.0000 - fp: 109.0000 - tn: 28.0000 - fn: 16.0000 - val_loss: 0.6957 - val_acc: 0.4706 - val_precision: 0.4815 - val_recall: 0.7647 - val_auc: 0.5484 - val_tp: 13.0000 - val_fp: 14.0000 - val_tn: 3.0000 - val_fn: 4.0000\n",
            "Epoch 6/100\n",
            "2/2 [==============================] - 1s 263ms/step - loss: 0.6767 - acc: 0.5474 - precision: 0.5340 - recall: 0.7445 - auc: 0.6211 - tp: 102.0000 - fp: 89.0000 - tn: 48.0000 - fn: 35.0000 - val_loss: 0.6936 - val_acc: 0.5882 - val_precision: 0.8000 - val_recall: 0.2353 - val_auc: 0.6626 - val_tp: 4.0000 - val_fp: 1.0000 - val_tn: 16.0000 - val_fn: 13.0000\n",
            "Epoch 7/100\n",
            "2/2 [==============================] - 1s 260ms/step - loss: 0.6729 - acc: 0.5949 - precision: 0.8095 - recall: 0.2482 - auc: 0.6530 - tp: 34.0000 - fp: 8.0000 - tn: 129.0000 - fn: 103.0000 - val_loss: 0.6903 - val_acc: 0.5588 - val_precision: 0.7500 - val_recall: 0.1765 - val_auc: 0.6782 - val_tp: 3.0000 - val_fp: 1.0000 - val_tn: 16.0000 - val_fn: 14.0000\n",
            "Epoch 8/100\n",
            "2/2 [==============================] - 1s 258ms/step - loss: 0.6709 - acc: 0.6022 - precision: 0.8333 - recall: 0.2555 - auc: 0.6600 - tp: 35.0000 - fp: 7.0000 - tn: 130.0000 - fn: 102.0000 - val_loss: 0.6891 - val_acc: 0.5882 - val_precision: 0.8000 - val_recall: 0.2353 - val_auc: 0.7024 - val_tp: 4.0000 - val_fp: 1.0000 - val_tn: 16.0000 - val_fn: 13.0000\n",
            "Epoch 9/100\n",
            "2/2 [==============================] - 1s 260ms/step - loss: 0.6689 - acc: 0.5949 - precision: 0.8095 - recall: 0.2482 - auc: 0.6790 - tp: 34.0000 - fp: 8.0000 - tn: 129.0000 - fn: 103.0000 - val_loss: 0.6864 - val_acc: 0.5882 - val_precision: 0.8000 - val_recall: 0.2353 - val_auc: 0.7007 - val_tp: 4.0000 - val_fp: 1.0000 - val_tn: 16.0000 - val_fn: 13.0000\n",
            "Epoch 10/100\n",
            "2/2 [==============================] - 1s 262ms/step - loss: 0.6666 - acc: 0.5985 - precision: 0.8000 - recall: 0.2628 - auc: 0.6900 - tp: 36.0000 - fp: 9.0000 - tn: 128.0000 - fn: 101.0000 - val_loss: 0.6859 - val_acc: 0.6176 - val_precision: 0.8333 - val_recall: 0.2941 - val_auc: 0.7232 - val_tp: 5.0000 - val_fp: 1.0000 - val_tn: 16.0000 - val_fn: 12.0000\n",
            "Epoch 11/100\n",
            "2/2 [==============================] - 1s 262ms/step - loss: 0.6647 - acc: 0.6131 - precision: 0.8163 - recall: 0.2920 - auc: 0.6890 - tp: 40.0000 - fp: 9.0000 - tn: 128.0000 - fn: 97.0000 - val_loss: 0.6847 - val_acc: 0.6471 - val_precision: 0.8571 - val_recall: 0.3529 - val_auc: 0.7128 - val_tp: 6.0000 - val_fp: 1.0000 - val_tn: 16.0000 - val_fn: 11.0000\n",
            "Epoch 12/100\n",
            "2/2 [==============================] - 1s 256ms/step - loss: 0.6609 - acc: 0.6204 - precision: 0.8000 - recall: 0.3212 - auc: 0.6943 - tp: 44.0000 - fp: 11.0000 - tn: 126.0000 - fn: 93.0000 - val_loss: 0.6850 - val_acc: 0.7353 - val_precision: 0.7222 - val_recall: 0.7647 - val_auc: 0.6886 - val_tp: 13.0000 - val_fp: 5.0000 - val_tn: 12.0000 - val_fn: 4.0000\n",
            "Epoch 13/100\n",
            "2/2 [==============================] - 1s 261ms/step - loss: 0.6585 - acc: 0.6387 - precision: 0.6319 - recall: 0.6642 - auc: 0.6912 - tp: 91.0000 - fp: 53.0000 - tn: 84.0000 - fn: 46.0000 - val_loss: 0.6799 - val_acc: 0.5882 - val_precision: 0.5652 - val_recall: 0.7647 - val_auc: 0.6713 - val_tp: 13.0000 - val_fp: 10.0000 - val_tn: 7.0000 - val_fn: 4.0000\n",
            "Epoch 14/100\n",
            "2/2 [==============================] - 1s 260ms/step - loss: 0.6564 - acc: 0.6131 - precision: 0.5917 - recall: 0.7299 - auc: 0.7007 - tp: 100.0000 - fp: 69.0000 - tn: 68.0000 - fn: 37.0000 - val_loss: 0.6829 - val_acc: 0.5294 - val_precision: 0.5200 - val_recall: 0.7647 - val_auc: 0.6471 - val_tp: 13.0000 - val_fp: 12.0000 - val_tn: 5.0000 - val_fn: 4.0000\n",
            "Epoch 15/100\n",
            "2/2 [==============================] - 1s 268ms/step - loss: 0.6523 - acc: 0.6131 - precision: 0.5906 - recall: 0.7372 - auc: 0.7012 - tp: 101.0000 - fp: 70.0000 - tn: 67.0000 - fn: 36.0000 - val_loss: 0.6889 - val_acc: 0.6176 - val_precision: 0.6000 - val_recall: 0.7059 - val_auc: 0.6332 - val_tp: 12.0000 - val_fp: 8.0000 - val_tn: 9.0000 - val_fn: 5.0000\n",
            "Epoch 16/100\n",
            "2/2 [==============================] - 1s 267ms/step - loss: 0.6508 - acc: 0.6277 - precision: 0.6159 - recall: 0.6788 - auc: 0.6919 - tp: 93.0000 - fp: 58.0000 - tn: 79.0000 - fn: 44.0000 - val_loss: 0.6866 - val_acc: 0.6471 - val_precision: 0.6471 - val_recall: 0.6471 - val_auc: 0.6349 - val_tp: 11.0000 - val_fp: 6.0000 - val_tn: 11.0000 - val_fn: 6.0000\n",
            "Epoch 17/100\n",
            "2/2 [==============================] - 1s 263ms/step - loss: 0.6482 - acc: 0.6423 - precision: 0.6535 - recall: 0.6058 - auc: 0.6933 - tp: 83.0000 - fp: 44.0000 - tn: 93.0000 - fn: 54.0000 - val_loss: 0.6807 - val_acc: 0.6176 - val_precision: 0.6250 - val_recall: 0.5882 - val_auc: 0.6471 - val_tp: 10.0000 - val_fp: 6.0000 - val_tn: 11.0000 - val_fn: 7.0000\n",
            "Epoch 18/100\n",
            "2/2 [==============================] - 1s 267ms/step - loss: 0.6436 - acc: 0.6460 - precision: 0.6587 - recall: 0.6058 - auc: 0.7044 - tp: 83.0000 - fp: 43.0000 - tn: 94.0000 - fn: 54.0000 - val_loss: 0.6732 - val_acc: 0.6471 - val_precision: 0.6190 - val_recall: 0.7647 - val_auc: 0.6955 - val_tp: 13.0000 - val_fp: 8.0000 - val_tn: 9.0000 - val_fn: 4.0000\n",
            "Epoch 19/100\n",
            "2/2 [==============================] - 1s 259ms/step - loss: 0.6360 - acc: 0.6606 - precision: 0.6486 - recall: 0.7007 - auc: 0.7235 - tp: 96.0000 - fp: 52.0000 - tn: 85.0000 - fn: 41.0000 - val_loss: 0.6714 - val_acc: 0.6176 - val_precision: 0.5909 - val_recall: 0.7647 - val_auc: 0.6851 - val_tp: 13.0000 - val_fp: 9.0000 - val_tn: 8.0000 - val_fn: 4.0000\n",
            "Epoch 20/100\n",
            "2/2 [==============================] - 1s 262ms/step - loss: 0.6334 - acc: 0.6241 - precision: 0.5988 - recall: 0.7518 - auc: 0.7259 - tp: 103.0000 - fp: 69.0000 - tn: 68.0000 - fn: 34.0000 - val_loss: 0.6702 - val_acc: 0.5588 - val_precision: 0.5417 - val_recall: 0.7647 - val_auc: 0.6782 - val_tp: 13.0000 - val_fp: 11.0000 - val_tn: 6.0000 - val_fn: 4.0000\n",
            "Epoch 21/100\n",
            "2/2 [==============================] - 1s 260ms/step - loss: 0.6336 - acc: 0.5949 - precision: 0.5699 - recall: 0.7737 - auc: 0.7237 - tp: 106.0000 - fp: 80.0000 - tn: 57.0000 - fn: 31.0000 - val_loss: 0.6629 - val_acc: 0.6176 - val_precision: 0.5909 - val_recall: 0.7647 - val_auc: 0.6799 - val_tp: 13.0000 - val_fp: 9.0000 - val_tn: 8.0000 - val_fn: 4.0000\n",
            "Epoch 22/100\n",
            "2/2 [==============================] - 1s 261ms/step - loss: 0.6264 - acc: 0.6241 - precision: 0.6000 - recall: 0.7445 - auc: 0.7265 - tp: 102.0000 - fp: 68.0000 - tn: 69.0000 - fn: 35.0000 - val_loss: 0.6485 - val_acc: 0.6471 - val_precision: 0.6316 - val_recall: 0.7059 - val_auc: 0.6834 - val_tp: 12.0000 - val_fp: 7.0000 - val_tn: 10.0000 - val_fn: 5.0000\n",
            "Epoch 23/100\n",
            "2/2 [==============================] - 1s 262ms/step - loss: 0.6180 - acc: 0.6861 - precision: 0.6783 - recall: 0.7080 - auc: 0.7275 - tp: 97.0000 - fp: 46.0000 - tn: 91.0000 - fn: 40.0000 - val_loss: 0.6368 - val_acc: 0.7353 - val_precision: 0.8333 - val_recall: 0.5882 - val_auc: 0.6972 - val_tp: 10.0000 - val_fp: 2.0000 - val_tn: 15.0000 - val_fn: 7.0000\n",
            "Epoch 24/100\n",
            "2/2 [==============================] - 1s 262ms/step - loss: 0.6133 - acc: 0.6898 - precision: 0.7826 - recall: 0.5255 - auc: 0.7260 - tp: 72.0000 - fp: 20.0000 - tn: 117.0000 - fn: 65.0000 - val_loss: 0.6286 - val_acc: 0.7353 - val_precision: 0.8333 - val_recall: 0.5882 - val_auc: 0.6990 - val_tp: 10.0000 - val_fp: 2.0000 - val_tn: 15.0000 - val_fn: 7.0000\n",
            "Epoch 25/100\n",
            "2/2 [==============================] - 1s 262ms/step - loss: 0.6104 - acc: 0.6861 - precision: 0.7742 - recall: 0.5255 - auc: 0.7175 - tp: 72.0000 - fp: 21.0000 - tn: 116.0000 - fn: 65.0000 - val_loss: 0.6292 - val_acc: 0.7059 - val_precision: 0.7059 - val_recall: 0.7059 - val_auc: 0.6903 - val_tp: 12.0000 - val_fp: 5.0000 - val_tn: 12.0000 - val_fn: 5.0000\n",
            "Epoch 26/100\n",
            "2/2 [==============================] - 1s 273ms/step - loss: 0.6048 - acc: 0.6752 - precision: 0.6935 - recall: 0.6277 - auc: 0.7235 - tp: 86.0000 - fp: 38.0000 - tn: 99.0000 - fn: 51.0000 - val_loss: 0.6393 - val_acc: 0.6471 - val_precision: 0.6471 - val_recall: 0.6471 - val_auc: 0.6713 - val_tp: 11.0000 - val_fp: 6.0000 - val_tn: 11.0000 - val_fn: 6.0000\n",
            "Epoch 27/100\n",
            "2/2 [==============================] - 1s 264ms/step - loss: 0.6037 - acc: 0.6788 - precision: 0.6842 - recall: 0.6642 - auc: 0.7256 - tp: 91.0000 - fp: 42.0000 - tn: 95.0000 - fn: 46.0000 - val_loss: 0.6233 - val_acc: 0.7059 - val_precision: 0.7692 - val_recall: 0.5882 - val_auc: 0.6903 - val_tp: 10.0000 - val_fp: 3.0000 - val_tn: 14.0000 - val_fn: 7.0000\n",
            "Epoch 28/100\n",
            "2/2 [==============================] - 1s 267ms/step - loss: 0.6011 - acc: 0.6825 - precision: 0.7358 - recall: 0.5693 - auc: 0.7231 - tp: 78.0000 - fp: 28.0000 - tn: 109.0000 - fn: 59.0000 - val_loss: 0.6315 - val_acc: 0.6176 - val_precision: 0.7000 - val_recall: 0.4118 - val_auc: 0.6972 - val_tp: 7.0000 - val_fp: 3.0000 - val_tn: 14.0000 - val_fn: 10.0000\n",
            "Epoch 29/100\n",
            "2/2 [==============================] - 1s 263ms/step - loss: 0.6003 - acc: 0.6825 - precision: 0.7841 - recall: 0.5036 - auc: 0.7305 - tp: 69.0000 - fp: 19.0000 - tn: 118.0000 - fn: 68.0000 - val_loss: 0.6136 - val_acc: 0.7059 - val_precision: 0.7692 - val_recall: 0.5882 - val_auc: 0.7024 - val_tp: 10.0000 - val_fp: 3.0000 - val_tn: 14.0000 - val_fn: 7.0000\n",
            "Epoch 30/100\n",
            "2/2 [==============================] - 1s 263ms/step - loss: 0.5883 - acc: 0.7007 - precision: 0.7391 - recall: 0.6204 - auc: 0.7499 - tp: 85.0000 - fp: 30.0000 - tn: 107.0000 - fn: 52.0000 - val_loss: 0.6396 - val_acc: 0.6471 - val_precision: 0.6316 - val_recall: 0.7059 - val_auc: 0.6851 - val_tp: 12.0000 - val_fp: 7.0000 - val_tn: 10.0000 - val_fn: 5.0000\n",
            "Epoch 31/100\n",
            "2/2 [==============================] - 1s 265ms/step - loss: 0.6045 - acc: 0.6715 - precision: 0.6556 - recall: 0.7226 - auc: 0.7473 - tp: 99.0000 - fp: 52.0000 - tn: 85.0000 - fn: 38.0000 - val_loss: 0.6002 - val_acc: 0.7059 - val_precision: 0.7692 - val_recall: 0.5882 - val_auc: 0.7007 - val_tp: 10.0000 - val_fp: 3.0000 - val_tn: 14.0000 - val_fn: 7.0000\n",
            "Epoch 32/100\n",
            "2/2 [==============================] - 1s 265ms/step - loss: 0.5853 - acc: 0.7007 - precision: 0.7099 - recall: 0.6788 - auc: 0.7564 - tp: 93.0000 - fp: 38.0000 - tn: 99.0000 - fn: 44.0000 - val_loss: 0.6104 - val_acc: 0.6471 - val_precision: 0.7273 - val_recall: 0.4706 - val_auc: 0.7284 - val_tp: 8.0000 - val_fp: 3.0000 - val_tn: 14.0000 - val_fn: 9.0000\n",
            "Epoch 33/100\n",
            "2/2 [==============================] - 1s 270ms/step - loss: 0.5855 - acc: 0.6934 - precision: 0.7789 - recall: 0.5401 - auc: 0.7667 - tp: 74.0000 - fp: 21.0000 - tn: 116.0000 - fn: 63.0000 - val_loss: 0.5929 - val_acc: 0.7059 - val_precision: 0.7692 - val_recall: 0.5882 - val_auc: 0.7215 - val_tp: 10.0000 - val_fp: 3.0000 - val_tn: 14.0000 - val_fn: 7.0000\n",
            "Epoch 34/100\n",
            "2/2 [==============================] - 1s 265ms/step - loss: 0.5666 - acc: 0.7226 - precision: 0.7480 - recall: 0.6715 - auc: 0.7756 - tp: 92.0000 - fp: 31.0000 - tn: 106.0000 - fn: 45.0000 - val_loss: 0.6222 - val_acc: 0.6765 - val_precision: 0.6875 - val_recall: 0.6471 - val_auc: 0.6990 - val_tp: 11.0000 - val_fp: 5.0000 - val_tn: 12.0000 - val_fn: 6.0000\n",
            "Epoch 35/100\n",
            "2/2 [==============================] - 1s 260ms/step - loss: 0.5758 - acc: 0.7007 - precision: 0.6871 - recall: 0.7372 - auc: 0.7703 - tp: 101.0000 - fp: 46.0000 - tn: 91.0000 - fn: 36.0000 - val_loss: 0.6260 - val_acc: 0.6471 - val_precision: 0.6316 - val_recall: 0.7059 - val_auc: 0.7163 - val_tp: 12.0000 - val_fp: 7.0000 - val_tn: 10.0000 - val_fn: 5.0000\n",
            "Epoch 36/100\n",
            "2/2 [==============================] - 1s 259ms/step - loss: 0.5802 - acc: 0.7007 - precision: 0.6708 - recall: 0.7883 - auc: 0.7684 - tp: 108.0000 - fp: 53.0000 - tn: 84.0000 - fn: 29.0000 - val_loss: 0.6195 - val_acc: 0.6176 - val_precision: 0.6111 - val_recall: 0.6471 - val_auc: 0.7093 - val_tp: 11.0000 - val_fp: 7.0000 - val_tn: 10.0000 - val_fn: 6.0000\n",
            "Epoch 37/100\n",
            "2/2 [==============================] - 1s 263ms/step - loss: 0.5784 - acc: 0.7007 - precision: 0.6752 - recall: 0.7737 - auc: 0.7667 - tp: 106.0000 - fp: 51.0000 - tn: 86.0000 - fn: 31.0000 - val_loss: 0.6157 - val_acc: 0.7059 - val_precision: 0.8182 - val_recall: 0.5294 - val_auc: 0.7024 - val_tp: 9.0000 - val_fp: 2.0000 - val_tn: 15.0000 - val_fn: 8.0000\n",
            "Epoch 38/100\n",
            "2/2 [==============================] - 1s 257ms/step - loss: 0.5660 - acc: 0.7190 - precision: 0.7778 - recall: 0.6131 - auc: 0.7709 - tp: 84.0000 - fp: 24.0000 - tn: 113.0000 - fn: 53.0000 - val_loss: 0.6336 - val_acc: 0.6765 - val_precision: 0.8000 - val_recall: 0.4706 - val_auc: 0.7232 - val_tp: 8.0000 - val_fp: 2.0000 - val_tn: 15.0000 - val_fn: 9.0000\n"
          ],
          "name": "stdout"
        }
      ]
    },
    {
      "cell_type": "code",
      "metadata": {
        "id": "L7YAHC3jNX8v"
      },
      "source": [
        "# %%script echo \"Comment line with %%script echo to run this cell.\"\n",
        "\n",
        "model.save('lstm.h5')"
      ],
      "execution_count": 48,
      "outputs": []
    },
    {
      "cell_type": "code",
      "metadata": {
        "id": "5nQMvJB5Tk_v"
      },
      "source": [
        "# %%script echo \"Comment line with %%script echo to run this cell.\"\n",
        "\n",
        "with open('lstm_history.pickle', 'wb') as f:\n",
        "    pickle.dump(history.history, f)"
      ],
      "execution_count": 50,
      "outputs": []
    },
    {
      "cell_type": "code",
      "metadata": {
        "id": "DWvap1ssTqaV"
      },
      "source": [
        "model = keras.models.load_model('lstm.h5')"
      ],
      "execution_count": 51,
      "outputs": []
    },
    {
      "cell_type": "code",
      "metadata": {
        "id": "-w3FdeseT4Nz"
      },
      "source": [
        "with open('lstm_history.pickle', 'rb') as f:\n",
        "    history = pickle.load(f)"
      ],
      "execution_count": 52,
      "outputs": []
    },
    {
      "cell_type": "code",
      "metadata": {
        "colab": {
          "base_uri": "https://localhost:8080/"
        },
        "id": "vUqaRbjZT904",
        "outputId": "be7298ec-d4cb-4475-8545-b3c6115057fd"
      },
      "source": [
        "model.predict(test_X_n_under)"
      ],
      "execution_count": 53,
      "outputs": [
        {
          "output_type": "execute_result",
          "data": {
            "text/plain": [
              "array([[0.28703016],\n",
              "       [0.8421237 ],\n",
              "       [0.8172998 ],\n",
              "       [0.8426855 ],\n",
              "       [0.27176014],\n",
              "       [0.29760852],\n",
              "       [0.8272436 ],\n",
              "       [0.7941834 ],\n",
              "       [0.6395502 ],\n",
              "       [0.88107735],\n",
              "       [0.26951727],\n",
              "       [0.75756514],\n",
              "       [0.41921157],\n",
              "       [0.6637735 ],\n",
              "       [0.7746903 ],\n",
              "       [0.81099457],\n",
              "       [0.3905488 ],\n",
              "       [0.8833747 ],\n",
              "       [0.27312326],\n",
              "       [0.29062334],\n",
              "       [0.29828215],\n",
              "       [0.26135537],\n",
              "       [0.32205912],\n",
              "       [0.25605372],\n",
              "       [0.839674  ],\n",
              "       [0.8146493 ],\n",
              "       [0.8350098 ],\n",
              "       [0.83952934],\n",
              "       [0.29537383],\n",
              "       [0.37081316],\n",
              "       [0.8443288 ],\n",
              "       [0.31241837],\n",
              "       [0.8861281 ],\n",
              "       [0.29838157],\n",
              "       [0.5962859 ],\n",
              "       [0.8833613 ]], dtype=float32)"
            ]
          },
          "metadata": {
            "tags": []
          },
          "execution_count": 53
        }
      ]
    },
    {
      "cell_type": "code",
      "metadata": {
        "colab": {
          "base_uri": "https://localhost:8080/"
        },
        "id": "mQPYHszzoRIc",
        "outputId": "42fb736c-9a99-42c6-c110-379878b254ec"
      },
      "source": [
        "model.evaluate(test_X_n_under, test_y_under)"
      ],
      "execution_count": 54,
      "outputs": [
        {
          "output_type": "stream",
          "text": [
            "2/2 [==============================] - 0s 77ms/step - loss: 0.7634 - acc: 0.6111 - precision: 0.6000 - recall: 0.6667 - auc: 0.5694 - tp: 12.0000 - fp: 8.0000 - tn: 10.0000 - fn: 6.0000\n"
          ],
          "name": "stdout"
        },
        {
          "output_type": "execute_result",
          "data": {
            "text/plain": [
              "[0.763353168964386,\n",
              " 0.6111111044883728,\n",
              " 0.6000000238418579,\n",
              " 0.6666666865348816,\n",
              " 0.5694444179534912,\n",
              " 12.0,\n",
              " 8.0,\n",
              " 10.0,\n",
              " 6.0]"
            ]
          },
          "metadata": {
            "tags": []
          },
          "execution_count": 54
        }
      ]
    },
    {
      "cell_type": "code",
      "metadata": {
        "colab": {
          "base_uri": "https://localhost:8080/",
          "height": 296
        },
        "id": "Nygj6BpTomqb",
        "outputId": "ba451afe-b954-4434-c787-c3b2c1053528"
      },
      "source": [
        "plt.plot(\n",
        "    np.arange(1, len(history['loss']) + 1),\n",
        "    history['loss'],\n",
        "    color='b',\n",
        "    label='Training'\n",
        ")\n",
        "plt.plot(\n",
        "    np.arange(1, len(history['val_loss']) + 1),\n",
        "    history['val_loss'],\n",
        "    color='r',\n",
        "    label='Validation'\n",
        ")\n",
        "plt.xlabel('Epoch')\n",
        "plt.ylabel('Loss')\n",
        "plt.xticks(np.arange(0, len(history['loss']) + 1, 5))\n",
        "plt.legend()"
      ],
      "execution_count": 57,
      "outputs": [
        {
          "output_type": "execute_result",
          "data": {
            "text/plain": [
              "<matplotlib.legend.Legend at 0x7f40fa57a080>"
            ]
          },
          "metadata": {
            "tags": []
          },
          "execution_count": 57
        },
        {
          "output_type": "display_data",
          "data": {
            "image/png": "[encoded data removed]",
            "text/plain": [
              "<Figure size 432x288 with 1 Axes>"
            ]
          },
          "metadata": {
            "tags": [],
            "needs_background": "light"
          }
        }
      ]
    },
    {
      "cell_type": "code",
      "metadata": {
        "colab": {
          "base_uri": "https://localhost:8080/",
          "height": 296
        },
        "id": "-fN_UCzOonci",
        "outputId": "17f409b7-0b09-4a2e-84d2-8d7e98b1a431"
      },
      "source": [
        "plt.plot(\n",
        "    np.arange(1, len(history['acc']) + 1),\n",
        "    history['acc'],\n",
        "    color='b',\n",
        "    label='Training'\n",
        ")\n",
        "plt.plot(\n",
        "    np.arange(1, len(history['val_acc']) + 1),\n",
        "    history['val_acc'],\n",
        "    color='r',\n",
        "    label='Validation'\n",
        ")\n",
        "plt.xlabel('Epoch')\n",
        "plt.ylabel('Accuracy')\n",
        "plt.xticks(np.arange(0, len(history['loss']) + 1, 5))\n",
        "plt.legend()"
      ],
      "execution_count": 58,
      "outputs": [
        {
          "output_type": "execute_result",
          "data": {
            "text/plain": [
              "<matplotlib.legend.Legend at 0x7f4105cdfba8>"
            ]
          },
          "metadata": {
            "tags": []
          },
          "execution_count": 58
        },
        {
          "output_type": "display_data",
          "data": {
            "image/png": "[encoded data removed]",
            "text/plain": [
              "<Figure size 432x288 with 1 Axes>"
            ]
          },
          "metadata": {
            "tags": [],
            "needs_background": "light"
          }
        }
      ]
    }
  ]
}