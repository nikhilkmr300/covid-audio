{
 "cells": [
  {
   "cell_type": "markdown",
   "metadata": {},
   "source": [
    "# Exploratory data analysis on cough data\n",
    "\n",
    "Features explored:\n",
    "* Root mean square energy (rms)\n",
    "* Zero crossing rate (zcr)\n",
    "* Spectral centroid (sc)\n",
    "* Spectral bandwidth (sb)\n",
    "* Spectral rolloff (sr)\n",
    "* Mel frequency cepstral coefficients (mfcc)\n",
    "* 1st (dmfcc) and 2nd (d2mfcc) derivatives of MFCCs\n",
    "\n",
    "Distributions of above features grouped by class are saved as pickle files."
   ]
  },
  {
   "cell_type": "code",
   "execution_count": 1,
   "metadata": {},
   "outputs": [],
   "source": [
    "import numpy as np\n",
    "import matplotlib.pyplot as plt\n",
    "import seaborn as sns\n",
    "import librosa\n",
    "import librosa.display\n",
    "from IPython.display import Audio\n",
    "from tqdm import tqdm\n",
    "import pickle\n",
    "import os\n",
    "\n",
    "import warnings\n",
    "warnings.filterwarnings('ignore')\n",
    "\n",
    "import sys\n",
    "sys.path.append('..')\n",
    "sys.path.append('../data_struc')\n",
    "sys.path.append('../data_spec')\n",
    "sys.path.append('../data_spec/log_spec')\n",
    "\n",
    "from set_audio_params import *\n",
    "from feature_extraction_utils import *\n",
    "from generate_log_specs import generate_log_spectrogram\n",
    "from spec_utils import generate_spectrum"
   ]
  },
  {
   "cell_type": "code",
   "execution_count": 2,
   "metadata": {},
   "outputs": [
    {
     "name": "stdout",
     "output_type": "stream",
     "text": [
      "Parameters for audio (you can change these in set_audio_params.py):\n",
      "\tsampling_rate=16000Hz\n",
      "\tsamples_per_frame=256\n",
      "\thop_length=64\n"
     ]
    }
   ],
   "source": [
    "print_params()"
   ]
  },
  {
   "cell_type": "code",
   "execution_count": 3,
   "metadata": {},
   "outputs": [],
   "source": [
    "# Paths to asthma, covid and normal cough training directories.\n",
    "dirpath_asthma = os.path.join('..', 'data_raw', 'data_cough', 'train', 'asthma')\n",
    "dirpath_covid = os.path.join('..', 'data_raw', 'data_cough', 'train', 'covid')\n",
    "dirpath_normal = os.path.join('..', 'data_raw', 'data_cough', 'train', 'normal')\n",
    "\n",
    "# Selecting one asthma, covid and normal audio file each randomly.\n",
    "np.random.seed(42)\n",
    "rand_file_asthma = os.listdir(dirpath_asthma)[np.random.randint(low=0, high=len(os.listdir(dirpath_asthma)))]\n",
    "rand_file_covid = os.listdir(dirpath_covid)[np.random.randint(low=0, high=len(os.listdir(dirpath_covid)))]\n",
    "rand_file_normal = os.listdir(dirpath_normal)[np.random.randint(low=0, high=len(os.listdir(dirpath_normal)))]\n",
    "filepath_asthma = os.path.join(dirpath_asthma, rand_file_asthma)\n",
    "filepath_covid = os.path.join(dirpath_covid, rand_file_covid)\n",
    "filepath_normal = os.path.join(dirpath_normal, rand_file_normal)\n",
    "\n",
    "# If you get a FileNotFoundError, ensure you've run make in ../data_raw.\n",
    "waveform_asthma, _ = librosa.load(filepath_asthma, sr=sampling_rate)\n",
    "waveform_covid, _ = librosa.load(filepath_covid, sr=sampling_rate)\n",
    "waveform_normal, _ = librosa.load(filepath_normal, sr=sampling_rate)\n",
    "\n",
    "# print(f'Selected asthma cough file from train: {rand_file_asthma}')\n",
    "# print(f'Selected covid cough file from train: {rand_file_covid}')\n",
    "# print(f'Selected normal cough file from train: {rand_file_normal}')"
   ]
  },
  {
   "cell_type": "code",
   "execution_count": 4,
   "metadata": {},
   "outputs": [
    {
     "name": "stdout",
     "output_type": "stream",
     "text": [
      "Output hidden for data privacy reasons.\n"
     ]
    }
   ],
   "source": [
    "%%script echo \"Output hidden for data privacy reasons.\"\n",
    "# Don't play the audio if it is a .webm file, IPython cannot handle .webm files, generates only noise.\n",
    "Audio(filepath_asthma)"
   ]
  },
  {
   "cell_type": "code",
   "execution_count": 5,
   "metadata": {},
   "outputs": [
    {
     "name": "stdout",
     "output_type": "stream",
     "text": [
      "Output hidden for data privacy reasons.\n"
     ]
    }
   ],
   "source": [
    "%%script echo \"Output hidden for data privacy reasons.\"\n",
    "Audio(filepath_covid)"
   ]
  },
  {
   "cell_type": "code",
   "execution_count": 6,
   "metadata": {},
   "outputs": [
    {
     "name": "stdout",
     "output_type": "stream",
     "text": [
      "Output hidden for data privacy reasons.\n"
     ]
    }
   ],
   "source": [
    "%%script echo \"Output hidden for data privacy reasons.\"\n",
    "Audio(filepath_normal)"
   ]
  },
  {
   "cell_type": "markdown",
   "metadata": {},
   "source": [
    "## Root mean square energy"
   ]
  },
  {
   "cell_type": "markdown",
   "metadata": {},
   "source": [
    "#### Results on representative samples from each class."
   ]
  },
  {
   "cell_type": "code",
   "execution_count": 7,
   "metadata": {},
   "outputs": [],
   "source": [
    "rms_asthma = rms_energy(waveform_asthma, samples_per_frame, hop_length)\n",
    "rms_covid = rms_energy(waveform_covid, samples_per_frame, hop_length)\n",
    "rms_normal = rms_energy(waveform_normal, samples_per_frame, hop_length)"
   ]
  },
  {
   "cell_type": "markdown",
   "metadata": {},
   "source": [
    "Sanity check for shape of rms energy arrays.  \n",
    "Given an audio input of $\\text{audio_length}$, frame length of $\\text{frame_length}$, padding of $\\text{pad_length}$ on each side and a hop length of $\\text{hop_length}$, the rms energy array must have length =\n",
    "$$\\Bigg\\lfloor\\frac{\\text{audio_length} + 2 \\times \\text{pad_length} - \\text{frame_length}}{\\text{hop_length}}\\Bigg\\rfloor + 1$$\n",
    "Librosa takes $\\text{pad_length} = \\Big\\lfloor\\frac{\\text{frame_length}}{2}\\Big\\rfloor$."
   ]
  },
  {
   "cell_type": "code",
   "execution_count": 8,
   "metadata": {},
   "outputs": [],
   "source": [
    "pad_length = samples_per_frame // 2\n",
    "np.testing.assert_array_equal(rms_asthma.shape[0], (waveform_asthma.shape[0] + 2 * pad_length - samples_per_frame) // hop_length + 1)\n",
    "np.testing.assert_array_equal(rms_covid.shape[0], (waveform_covid.shape[0] + 2 * pad_length - samples_per_frame) // hop_length + 1)\n",
    "np.testing.assert_array_equal(rms_normal.shape[0], (waveform_normal.shape[0] + 2 * pad_length - samples_per_frame) // hop_length + 1)"
   ]
  },
  {
   "cell_type": "markdown",
   "metadata": {},
   "source": [
    "Plotting RMS energy over waveform."
   ]
  },
  {
   "cell_type": "code",
   "execution_count": 9,
   "metadata": {},
   "outputs": [
    {
     "name": "stdout",
     "output_type": "stream",
     "text": [
      "Output hidden for data privacy reasons.\n"
     ]
    }
   ],
   "source": [
    "%%script echo \"Output hidden for data privacy reasons.\"\n",
    "\n",
    "# Converting frame index to time\n",
    "times_asthma = librosa.frames_to_time(range(len(rms_asthma)), sr=sampling_rate, hop_length=hop_length)\n",
    "times_covid = librosa.frames_to_time(range(len(rms_covid)), sr=sampling_rate, hop_length=hop_length)\n",
    "times_normal = librosa.frames_to_time(range(len(rms_normal)), sr=sampling_rate, hop_length=hop_length)\n",
    "\n",
    "fig, ax = plt.subplots(1, 3, figsize=(19, 4))\n",
    "plt.suptitle('RMS energy values for 3 representative audio samples, grouped by class, marked in red over light blue waveform')\n",
    "\n",
    "plt.subplot(1, 3, 1)\n",
    "librosa.display.waveplot(waveform_asthma, sr=sampling_rate, x_axis='time', color='b', alpha=0.2)\n",
    "plt.plot(times_asthma, rms_asthma, color='r')\n",
    "plt.xlabel('Time (s)')\n",
    "plt.ylabel('RMS Energy')\n",
    "plt.title('asthma')\n",
    "\n",
    "plt.subplot(1, 3, 2)\n",
    "librosa.display.waveplot(waveform_covid, sr=sampling_rate, x_axis='time', color='b', alpha=0.2)\n",
    "plt.plot(times_covid, rms_covid, color='r')\n",
    "plt.xlabel('Time (s)')\n",
    "plt.ylabel('RMS Energy')\n",
    "plt.title('covid')\n",
    "\n",
    "plt.subplot(1, 3, 3)\n",
    "librosa.display.waveplot(waveform_normal, sr=sampling_rate, x_axis='time', color='b', alpha=0.2)\n",
    "plt.plot(times_normal, rms_normal, color='r')\n",
    "plt.xlabel('Time (s)')\n",
    "plt.ylabel('RMS Energy')\n",
    "plt.title('normal');"
   ]
  },
  {
   "cell_type": "markdown",
   "metadata": {},
   "source": [
    "#### Aggregating RMS energy values across frames, to get a single value for each audio sample, then plotting the distribution of the aggregated values."
   ]
  },
  {
   "cell_type": "code",
   "execution_count": 10,
   "metadata": {},
   "outputs": [
    {
     "name": "stdout",
     "output_type": "stream",
     "text": [
      "Comment line with %%script echo to run this cell.\n"
     ]
    }
   ],
   "source": [
    "%%script echo \"Comment line with %%script echo to run this cell.\"\n",
    "\n",
    "# RMS energy distributions for asthma, covid and normal.\n",
    "rms_asthma_dist = list()\n",
    "rms_covid_dist = list()\n",
    "rms_normal_dist = list()\n",
    "\n",
    "# Aggregate RMS enegy distributions for asthma, covid and normal.\n",
    "# Taking 95th percentile value of RMS energy across frames to aggregate.\n",
    "# This blog http://replaygain.hydrogenaud.io/proposal/statistical_process.html advises \n",
    "# taking 95th percentile value for aggregation.\n",
    "agg_func = 95\n",
    "for file in tqdm(os.listdir(dirpath_asthma)):\n",
    "    file = os.path.join(dirpath_asthma, file)\n",
    "    waveform, _ = librosa.load(file, sr=sampling_rate)\n",
    "    rms_asthma_dist.append(rms_energy_agg(waveform, samples_per_frame, hop_length, agg_func=agg_func))\n",
    "for file in tqdm(os.listdir(dirpath_covid)):\n",
    "    file = os.path.join(dirpath_covid, file)\n",
    "    waveform, _ = librosa.load(file, sr=sampling_rate)\n",
    "    rms_covid_dist.append(rms_energy_agg(waveform, samples_per_frame, hop_length, agg_func=agg_func))\n",
    "for file in tqdm(os.listdir(dirpath_normal)):\n",
    "    file = os.path.join(dirpath_normal, file)\n",
    "    waveform, _ = librosa.load(file, sr=sampling_rate)\n",
    "    rms_normal_dist.append(rms_energy_agg(waveform, samples_per_frame, hop_length, agg_func=agg_func))"
   ]
  },
  {
   "cell_type": "code",
   "execution_count": 11,
   "metadata": {},
   "outputs": [
    {
     "name": "stdout",
     "output_type": "stream",
     "text": [
      "Comment line with %%script echo to run this cell.\n"
     ]
    }
   ],
   "source": [
    "%%script echo \"Comment line with %%script echo to run this cell.\"\n",
    "\n",
    "# Saving RMS energy distributions.\n",
    "with open('cough_dist_rms_asthma.pickle', 'wb') as f:\n",
    "    pickle.dump(rms_asthma_dist, f)\n",
    "with open('cough_dist_rms_covid.pickle', 'wb') as f:\n",
    "    pickle.dump(rms_covid_dist, f)\n",
    "with open('cough_dist_rms_normal.pickle', 'wb') as f:\n",
    "    pickle.dump(rms_normal_dist, f)"
   ]
  },
  {
   "cell_type": "code",
   "execution_count": 12,
   "metadata": {},
   "outputs": [
    {
     "data": {
      "image/png": "[encoded data removed]",
      "text/plain": [
       "<Figure size 576x288 with 1 Axes>"
      ]
     },
     "metadata": {
      "needs_background": "light"
     },
     "output_type": "display_data"
    }
   ],
   "source": [
    "# Loading and plotting RMS energy distributions.\n",
    "\n",
    "with open('cough_dist_rms_asthma.pickle', 'rb') as f:\n",
    "    rms_asthma_dist = pickle.load(f)\n",
    "with open('cough_dist_rms_covid.pickle', 'rb') as f:\n",
    "    rms_covid_dist = pickle.load(f)\n",
    "with open('cough_dist_rms_normal.pickle', 'rb') as f:\n",
    "    rms_normal_dist = pickle.load(f)\n",
    "\n",
    "plt.figure(figsize=(8, 4))\n",
    "plt.title(f'Kernel density estimates for 95th percentile RMS energy aggregate, grouped by class')\n",
    "sns.kdeplot(rms_asthma_dist, color='b', label='asthma')\n",
    "sns.kdeplot(rms_covid_dist, color='r', label='covid')\n",
    "sns.kdeplot(rms_normal_dist, color='g', label='normal')\n",
    "plt.xlabel('RMS energy aggregate')\n",
    "plt.xlim([0, None])\n",
    "plt.legend();"
   ]
  },
  {
   "cell_type": "markdown",
   "metadata": {},
   "source": [
    "## Zero crossing rate"
   ]
  },
  {
   "cell_type": "markdown",
   "metadata": {},
   "source": [
    "#### Aggregating zero crossing rate values across frames, to get a single value for each audio sample, then plotting the distribution of the aggregated values."
   ]
  },
  {
   "cell_type": "code",
   "execution_count": 13,
   "metadata": {},
   "outputs": [
    {
     "name": "stdout",
     "output_type": "stream",
     "text": [
      "Comment line with %%script echo to run this cell.\n"
     ]
    }
   ],
   "source": [
    "%%script echo \"Comment line with %%script echo to run this cell.\"\n",
    "\n",
    "# Zero crossing rate (ZCR) distributions for asthma, covid and normal.\n",
    "zcr_asthma_dist = list()\n",
    "zcr_covid_dist = list()\n",
    "zcr_normal_dist = list()\n",
    "\n",
    "# Aggregate ZCR distributions for asthma, covid and normal.\n",
    "agg_func = 'rms_energy_weighted_mean'    # Function to aggregate values over frames in audio sample, to get 1 value per audio sample.\n",
    "for file in tqdm(os.listdir(dirpath_asthma)):\n",
    "    file = os.path.join(dirpath_asthma, file)\n",
    "    waveform, _ = librosa.load(file, sr=sampling_rate)\n",
    "    zcr_asthma_dist.append(zero_crossing_rate_agg(waveform, samples_per_frame, hop_length, agg_func=agg_func))\n",
    "for file in tqdm(os.listdir(dirpath_covid)):\n",
    "    file = os.path.join(dirpath_covid, file)\n",
    "    waveform, _ = librosa.load(file, sr=sampling_rate)\n",
    "    zcr_covid_dist.append(zero_crossing_rate_agg(waveform, samples_per_frame, hop_length, agg_func=agg_func))\n",
    "for file in tqdm(os.listdir(dirpath_normal)):\n",
    "    file = os.path.join(dirpath_normal, file)\n",
    "    waveform, _ = librosa.load(file, sr=sampling_rate)\n",
    "    zcr_normal_dist.append(zero_crossing_rate_agg(waveform, samples_per_frame, hop_length, agg_func=agg_func))"
   ]
  },
  {
   "cell_type": "code",
   "execution_count": 14,
   "metadata": {},
   "outputs": [
    {
     "name": "stdout",
     "output_type": "stream",
     "text": [
      "Comment line with %%script echo to run this cell.\n"
     ]
    }
   ],
   "source": [
    "%%script echo \"Comment line with %%script echo to run this cell.\"\n",
    "\n",
    "# Saving ZCR energy distributions.\n",
    "with open('cough_dist_zcr_asthma.pickle', 'wb') as f:\n",
    "    pickle.dump(zcr_asthma_dist, f)\n",
    "with open('cough_dist_zcr_covid.pickle', 'wb') as f:\n",
    "    pickle.dump(zcr_covid_dist, f)\n",
    "with open('cough_dist_zcr_normal.pickle', 'wb') as f:\n",
    "    pickle.dump(zcr_normal_dist, f)"
   ]
  },
  {
   "cell_type": "code",
   "execution_count": 15,
   "metadata": {},
   "outputs": [
    {
     "data": {
      "image/png": "[encoded data removed]",
      "text/plain": [
       "<Figure size 576x288 with 1 Axes>"
      ]
     },
     "metadata": {
      "needs_background": "light"
     },
     "output_type": "display_data"
    }
   ],
   "source": [
    "# Loading and plotting ZCR energy distributions.\n",
    "\n",
    "with open('cough_dist_zcr_asthma.pickle', 'rb') as f:\n",
    "    zcr_asthma_dist = pickle.load(f)\n",
    "with open('cough_dist_zcr_covid.pickle', 'rb') as f:\n",
    "    zcr_covid_dist = pickle.load(f)\n",
    "with open('cough_dist_zcr_normal.pickle', 'rb') as f:\n",
    "    zcr_normal_dist = pickle.load(f)\n",
    "\n",
    "plt.figure(figsize=(8, 4))\n",
    "plt.title(f'Kernel density estimates for ZCR aggregate, grouped by class')\n",
    "sns.kdeplot(zcr_asthma_dist, color='b', label='asthma')\n",
    "sns.kdeplot(zcr_covid_dist, color='r', label='covid')\n",
    "sns.kdeplot(zcr_normal_dist, color='g', label='normal')\n",
    "plt.xlabel('ZCR aggregate')\n",
    "plt.xlim([0, None])\n",
    "plt.legend();"
   ]
  },
  {
   "cell_type": "markdown",
   "metadata": {},
   "source": [
    "## Spectral centroid"
   ]
  },
  {
   "cell_type": "markdown",
   "metadata": {},
   "source": [
    "#### Results on representative samples from each class."
   ]
  },
  {
   "cell_type": "code",
   "execution_count": 16,
   "metadata": {},
   "outputs": [],
   "source": [
    "sc_asthma = spectral_centroid(waveform_asthma, sampling_rate, samples_per_frame, hop_length)\n",
    "sc_covid = spectral_centroid(waveform_covid, sampling_rate, samples_per_frame, hop_length)\n",
    "sc_normal = spectral_centroid(waveform_normal, sampling_rate, samples_per_frame, hop_length)"
   ]
  },
  {
   "cell_type": "markdown",
   "metadata": {},
   "source": [
    "Sanity check for shape of spectral centroid arrays."
   ]
  },
  {
   "cell_type": "code",
   "execution_count": 17,
   "metadata": {},
   "outputs": [],
   "source": [
    "pad_length = samples_per_frame // 2\n",
    "np.testing.assert_array_equal(sc_asthma.shape[0], (waveform_asthma.shape[0] + 2 * pad_length - samples_per_frame) // hop_length + 1)\n",
    "np.testing.assert_array_equal(sc_covid.shape[0], (waveform_covid.shape[0] + 2 * pad_length - samples_per_frame) // hop_length + 1)\n",
    "np.testing.assert_array_equal(sc_normal.shape[0], (waveform_normal.shape[0] + 2 * pad_length - samples_per_frame) // hop_length + 1)"
   ]
  },
  {
   "cell_type": "markdown",
   "metadata": {},
   "source": [
    "Plotting variation of spectral centroid with time."
   ]
  },
  {
   "cell_type": "code",
   "execution_count": 18,
   "metadata": {},
   "outputs": [],
   "source": [
    "def exponential_moving_average(arr, alpha):\n",
    "    if arr.ndim != 1:\n",
    "        raise ValueError('Function exponential_moving_average accepts only rank 1 tensors.')\n",
    "    if alpha < 0 or alpha > 1:\n",
    "        raise ValueError('alpha must be in range [0, 1].')\n",
    "    ema_arr = np.zeros(arr.shape)\n",
    "    ema_arr[0] = arr[0]\n",
    "    for i in range(1, len(arr)):\n",
    "        ema_arr[i] = alpha * arr[i] + (1 - alpha) * ema_arr[i - 1]\n",
    "    return ema_arr"
   ]
  },
  {
   "cell_type": "code",
   "execution_count": 19,
   "metadata": {},
   "outputs": [
    {
     "name": "stdout",
     "output_type": "stream",
     "text": [
      "Output hidden for data privacy reasons.\n"
     ]
    }
   ],
   "source": [
    "%%script echo \"Output hidden for data privacy reasons.\"\n",
    "\n",
    "fig, ax = plt.subplots(1, 3, figsize=(19, 4))\n",
    "\n",
    "# Smoothening factor for exponential moving average of spectral centroid values.\n",
    "alpha = 0.5\n",
    "\n",
    "plt.subplot(1, 3, 1)\n",
    "plt.suptitle('Path of spectral centroid in yellow over spectrogram')\n",
    "\n",
    "plt.title('asthma')\n",
    "log_spec_asthma = generate_log_spectrogram(waveform_asthma, sampling_rate, samples_per_frame, hop_length)\n",
    "# Number of frames in spectral centroid array must be equal to number of timesteps in spectrogram.\n",
    "assert sc_asthma.shape[0] == log_spec_asthma.shape[1]\n",
    "# Plotting spectrogram.\n",
    "librosa.display.specshow(log_spec_asthma, x_axis='time', y_axis='log', sr=sampling_rate, hop_length=hop_length, alpha=0.8)\n",
    "plt.colorbar(format='%+2.0f dB')\n",
    "# Plotting spectral centroids over spectrogram.\n",
    "frames = range(len(sc_asthma))\n",
    "times = librosa.frames_to_time(frames, sr=sampling_rate, hop_length=hop_length)\n",
    "plt.plot(times, exponential_moving_average(sc_asthma, alpha), color='y')\n",
    "plt.xlabel('Time (s)')\n",
    "\n",
    "plt.subplot(1, 3, 2)\n",
    "plt.title('covid')\n",
    "log_spec_covid = generate_log_spectrogram(waveform_covid, sampling_rate, samples_per_frame, hop_length)\n",
    "# Number of frames in spectral centroid array must be equal to number of timesteps in spectrogram.\n",
    "assert sc_covid.shape[0] == log_spec_covid.shape[1]\n",
    "# Plotting spectrogram.\n",
    "librosa.display.specshow(log_spec_covid, x_axis='time', y_axis='log', sr=sampling_rate, hop_length=hop_length, alpha=0.8)\n",
    "plt.colorbar(format='%+2.0f dB')\n",
    "# Plotting spectral centroids over spectrogram.\n",
    "frames = range(len(sc_covid))\n",
    "times = librosa.frames_to_time(frames, sr=sampling_rate, hop_length=hop_length)\n",
    "plt.plot(times, exponential_moving_average(sc_covid, alpha), color='y')\n",
    "plt.xlabel('Time (s)')\n",
    "\n",
    "plt.subplot(1, 3, 3)\n",
    "plt.title('normal')\n",
    "log_spec_normal = generate_log_spectrogram(waveform_normal, sampling_rate, samples_per_frame, hop_length)\n",
    "# Number of frames in spectral centroid array must be equal to number of timesteps in spectrogram.\n",
    "assert sc_normal.shape[0] == log_spec_normal.shape[1]\n",
    "# Plotting spectrogram.\n",
    "librosa.display.specshow(log_spec_normal, x_axis='time', y_axis='log', sr=sampling_rate, hop_length=hop_length, alpha=0.8)\n",
    "plt.colorbar(format='%+2.0f dB')\n",
    "# Plotting spectral centroids over spectrogram.\n",
    "frames = range(len(sc_normal))\n",
    "times = librosa.frames_to_time(frames, sr=sampling_rate, hop_length=hop_length)\n",
    "plt.plot(times, exponential_moving_average(sc_normal, alpha), color='y')\n",
    "plt.xlabel('Time (s)');"
   ]
  },
  {
   "cell_type": "code",
   "execution_count": 20,
   "metadata": {},
   "outputs": [
    {
     "name": "stdout",
     "output_type": "stream",
     "text": [
      "Output hidden for data privacy reasons.\n"
     ]
    }
   ],
   "source": [
    "%%script echo \"Output hidden for data privacy reasons.\"\n",
    "\n",
    "# Extracting Fourier transform for each waveform.\n",
    "fft_asthma, freqs_asthma = generate_spectrum(waveform_asthma, sampling_rate)\n",
    "fft_covid, freqs_covid = generate_spectrum(waveform_covid, sampling_rate)\n",
    "fft_normal, freqs_normal = generate_spectrum(waveform_normal, sampling_rate)\n",
    "\n",
    "# Aggregate spectral centroids for each sample.\n",
    "# Using median to avoid outlier effect on mean (several outliers where spectral centroid becomes 0).\n",
    "agg_func = 'median'\n",
    "agg_sc_asthma = spectral_centroid_agg(waveform_asthma, sampling_rate, samples_per_frame, hop_length, agg_func=agg_func)\n",
    "agg_sc_covid = spectral_centroid_agg(waveform_covid, sampling_rate, samples_per_frame, hop_length, agg_func=agg_func)\n",
    "agg_sc_normal = spectral_centroid_agg(waveform_normal, sampling_rate, samples_per_frame, hop_length, agg_func=agg_func)\n",
    "\n",
    "fig, ax = plt.subplots(1, 3, figsize=(19, 4))\n",
    "plt.suptitle('Spectral centroids marked in red over light blue spectrum')\n",
    "\n",
    "plt.subplot(1, 3, 1)\n",
    "plt.plot(freqs_asthma[:int(0.5 * len(freqs_asthma))], fft_asthma[:int(0.5 * len(freqs_asthma))], color='b', alpha=0.2)\n",
    "plt.scatter(agg_sc_asthma, np.array([0]), color='r', marker='o')\n",
    "plt.xlabel('Frequency (Hz)')\n",
    "plt.ylabel('Magnitude')\n",
    "plt.title('asthma');\n",
    "\n",
    "plt.subplot(1, 3, 2)\n",
    "plt.plot(freqs_covid[:int(0.5 * len(freqs_covid))], fft_covid[:int(0.5 * len(freqs_covid))], color='b', alpha=0.2)\n",
    "plt.scatter(agg_sc_covid, np.array([0]), color='r', marker='o')\n",
    "plt.xlabel('Frequency (Hz)')\n",
    "plt.ylabel('Magnitude')\n",
    "plt.title('covid')\n",
    "\n",
    "plt.subplot(1, 3, 3)\n",
    "plt.plot(freqs_normal[:int(0.5 * len(freqs_normal))], fft_normal[:int(0.5 * len(freqs_normal))], color='b', alpha=0.2)\n",
    "plt.scatter(agg_sc_normal, np.array([0]), color='r', marker='o')\n",
    "plt.xlabel('Frequency (Hz)')\n",
    "plt.ylabel('Magnitude')\n",
    "plt.title('normal');"
   ]
  },
  {
   "cell_type": "markdown",
   "metadata": {},
   "source": [
    "#### Aggregating spectral centroid values across frames, to get a single value for each audio sample, then plotting the distribution of the aggregated values."
   ]
  },
  {
   "cell_type": "code",
   "execution_count": 21,
   "metadata": {},
   "outputs": [
    {
     "name": "stdout",
     "output_type": "stream",
     "text": [
      "Comment line with %%script echo to run this cell.\n"
     ]
    }
   ],
   "source": [
    "%%script echo \"Comment line with %%script echo to run this cell.\"\n",
    "\n",
    "# Spectral centroid distributions for asthma, covid and normal.\n",
    "sc_asthma_dist = list()\n",
    "sc_covid_dist = list()\n",
    "sc_normal_dist = list()\n",
    "\n",
    "# Aggregate spectral centroids distributions for asthma, covid and normal.\n",
    "agg_func = 'median'    # Function to aggregate values over frames in audio sample, to get 1 value per audio sample.\n",
    "for file in tqdm(os.listdir(dirpath_asthma)):\n",
    "    file = os.path.join(dirpath_asthma, file)\n",
    "    waveform, _ = librosa.load(file, sr=sampling_rate)\n",
    "    sc_asthma_dist.append(spectral_centroid_agg(waveform, sampling_rate, samples_per_frame, hop_length, agg_func=agg_func))\n",
    "for file in tqdm(os.listdir(dirpath_covid)):\n",
    "    file = os.path.join(dirpath_covid, file)\n",
    "    waveform, _ = librosa.load(file, sr=sampling_rate)\n",
    "    sc_covid_dist.append(spectral_centroid_agg(waveform, sampling_rate, samples_per_frame, hop_length, agg_func=agg_func))\n",
    "for file in tqdm(os.listdir(dirpath_normal)):\n",
    "    file = os.path.join(dirpath_normal, file)\n",
    "    waveform, _ = librosa.load(file, sr=sampling_rate)\n",
    "    sc_normal_dist.append(spectral_centroid_agg(waveform, sampling_rate, samples_per_frame, hop_length, agg_func=agg_func))"
   ]
  },
  {
   "cell_type": "code",
   "execution_count": 22,
   "metadata": {},
   "outputs": [
    {
     "name": "stdout",
     "output_type": "stream",
     "text": [
      "Comment line with %%script echo to run this cell.\n"
     ]
    }
   ],
   "source": [
    "%%script echo \"Comment line with %%script echo to run this cell.\"\n",
    "\n",
    "# Saving spectral centroid energy distributions.\n",
    "with open('cough_dist_sc_asthma.pickle', 'wb') as f:\n",
    "    pickle.dump(sc_asthma_dist, f)\n",
    "with open('cough_dist_sc_covid.pickle', 'wb') as f:\n",
    "    pickle.dump(sc_covid_dist, f)\n",
    "with open('cough_dist_sc_normal.pickle', 'wb') as f:\n",
    "    pickle.dump(sc_normal_dist, f)"
   ]
  },
  {
   "cell_type": "code",
   "execution_count": 23,
   "metadata": {},
   "outputs": [
    {
     "data": {
      "image/png": "[encoded data removed]",
      "text/plain": [
       "<Figure size 576x288 with 1 Axes>"
      ]
     },
     "metadata": {
      "needs_background": "light"
     },
     "output_type": "display_data"
    }
   ],
   "source": [
    "# Loading and plotting spectral centroid distributions.\n",
    "\n",
    "with open('cough_dist_sc_asthma.pickle', 'rb') as f:\n",
    "    sc_asthma_dist = pickle.load(f)\n",
    "with open('cough_dist_sc_covid.pickle', 'rb') as f:\n",
    "    sc_covid_dist = pickle.load(f)\n",
    "with open('cough_dist_sc_normal.pickle', 'rb') as f:\n",
    "    sc_normal_dist = pickle.load(f)\n",
    "\n",
    "plt.figure(figsize=(8, 4))\n",
    "plt.title(f'Kernel density estimates for spectral centroid aggregate, grouped by class')\n",
    "sns.kdeplot(sc_asthma_dist, color='b', label='asthma')\n",
    "sns.kdeplot(sc_covid_dist, color='r', label='covid')\n",
    "sns.kdeplot(sc_normal_dist, color='g', label='normal')\n",
    "plt.xlabel('Spectral centroid aggregate (Hz)')\n",
    "plt.xlim([0, None])\n",
    "plt.legend();"
   ]
  },
  {
   "cell_type": "markdown",
   "metadata": {},
   "source": [
    "## Spectral bandwidth"
   ]
  },
  {
   "cell_type": "markdown",
   "metadata": {},
   "source": [
    "#### Results on representative samples from each class."
   ]
  },
  {
   "cell_type": "code",
   "execution_count": 24,
   "metadata": {},
   "outputs": [],
   "source": [
    "sb_asthma = spectral_bandwidth(waveform_asthma, sampling_rate, samples_per_frame, hop_length)\n",
    "sb_covid = spectral_bandwidth(waveform_covid, sampling_rate, samples_per_frame, hop_length)\n",
    "sb_normal = spectral_bandwidth(waveform_normal, sampling_rate, samples_per_frame, hop_length)"
   ]
  },
  {
   "cell_type": "markdown",
   "metadata": {},
   "source": [
    "Plotting bandwidth over waveform."
   ]
  },
  {
   "cell_type": "code",
   "execution_count": 25,
   "metadata": {},
   "outputs": [
    {
     "name": "stdout",
     "output_type": "stream",
     "text": [
      "Output hidden for data privacy reasons.\n"
     ]
    }
   ],
   "source": [
    "%%script echo \"Output hidden for data privacy reasons.\"\n",
    "\n",
    "# Converting frame index to time\n",
    "times_asthma = librosa.frames_to_time(range(len(sb_asthma)), sr=sampling_rate, hop_length=hop_length)\n",
    "times_covid = librosa.frames_to_time(range(len(sb_covid)), sr=sampling_rate, hop_length=hop_length)\n",
    "times_normal = librosa.frames_to_time(range(len(sb_normal)), sr=sampling_rate, hop_length=hop_length)\n",
    "\n",
    "fig, ax = plt.subplots(1, 3, sharex=True, figsize=(19, 5))\n",
    "plt.suptitle('Spectral bandwidth values for 3 representative audio samples, grouped by class; waveforms in lower row')\n",
    "\n",
    "plt.subplot(2, 3, 1)\n",
    "plt.plot(times_asthma, sb_asthma, color='r')\n",
    "plt.ylabel('Spectral bandwidth (Hz)')\n",
    "plt.xlim([0, np.ceil(np.max(times_asthma))])\n",
    "plt.title('asthma')\n",
    "\n",
    "plt.subplot(2, 3, 4)\n",
    "librosa.display.waveplot(waveform_asthma, sr=sampling_rate, x_axis='time', color='b', alpha=0.2)\n",
    "plt.xlabel('Time (s)')\n",
    "plt.ylabel('y')\n",
    "\n",
    "plt.subplot(2, 3, 2)\n",
    "plt.plot(times_covid, sb_covid, color='r')\n",
    "plt.ylabel('Spectral bandwidth (Hz)')\n",
    "plt.xlim([0, np.ceil(np.max(times_covid))])\n",
    "plt.title('covid')\n",
    "\n",
    "plt.subplot(2, 3, 5)\n",
    "librosa.display.waveplot(waveform_covid, sr=sampling_rate, x_axis='time', color='b', alpha=0.2)\n",
    "plt.xlabel('Time (s)')\n",
    "plt.ylabel('y')\n",
    "\n",
    "plt.subplot(2, 3, 3)\n",
    "plt.plot(times_normal, sb_normal, color='r')\n",
    "plt.ylabel('Spectral bandwidth (Hz)')\n",
    "plt.xlim([0, np.ceil(np.max(times_normal))])\n",
    "plt.title('normal')\n",
    "\n",
    "plt.subplot(2, 3, 6)\n",
    "librosa.display.waveplot(waveform_normal, sr=sampling_rate, x_axis='time', color='b', alpha=0.2)\n",
    "plt.xlabel('Time (s)')\n",
    "plt.ylabel('y');"
   ]
  },
  {
   "cell_type": "markdown",
   "metadata": {},
   "source": [
    "#### Aggregating spectral bandwidth values across frames, to get a single value for each audio sample, then plotting the distribution of the aggregated values."
   ]
  },
  {
   "cell_type": "code",
   "execution_count": 26,
   "metadata": {},
   "outputs": [
    {
     "name": "stdout",
     "output_type": "stream",
     "text": [
      "Comment line with %%script echo to run this cell.\n"
     ]
    }
   ],
   "source": [
    "%%script echo \"Comment line with %%script echo to run this cell.\"\n",
    "\n",
    "# Spectral bandwidth distributions for asthma, covid and normal.\n",
    "sb_asthma_dist = list()\n",
    "sb_covid_dist = list()\n",
    "sb_normal_dist = list()\n",
    "\n",
    "# Aggregate spectral centroids distributions for asthma, covid and normal.\n",
    "agg_func = 'mean'    # Function to aggregate values over frames in audio sample, to get 1 value per audio sample.\n",
    "for file in tqdm(os.listdir(dirpath_asthma)):\n",
    "    file = os.path.join(dirpath_asthma, file)\n",
    "    waveform, _ = librosa.load(file, sr=sampling_rate)\n",
    "    sb_asthma_dist.append(spectral_bandwidth_agg(waveform, sampling_rate, samples_per_frame, hop_length, agg_func=agg_func))\n",
    "for file in tqdm(os.listdir(dirpath_covid)):\n",
    "    file = os.path.join(dirpath_covid, file)\n",
    "    waveform, _ = librosa.load(file, sr=sampling_rate)\n",
    "    sb_covid_dist.append(spectral_bandwidth_agg(waveform, sampling_rate, samples_per_frame, hop_length, agg_func=agg_func))\n",
    "for file in tqdm(os.listdir(dirpath_normal)):\n",
    "    file = os.path.join(dirpath_normal, file)\n",
    "    waveform, _ = librosa.load(file, sr=sampling_rate)\n",
    "    sb_normal_dist.append(spectral_bandwidth_agg(waveform, sampling_rate, samples_per_frame, hop_length, agg_func=agg_func))"
   ]
  },
  {
   "cell_type": "code",
   "execution_count": 27,
   "metadata": {},
   "outputs": [
    {
     "name": "stdout",
     "output_type": "stream",
     "text": [
      "Comment line with %%script echo to run this cell.\n"
     ]
    }
   ],
   "source": [
    "%%script echo \"Comment line with %%script echo to run this cell.\"\n",
    "\n",
    "# Saving spectral bandwidth energy distributions.\n",
    "with open('cough_dist_sb_asthma.pickle', 'wb') as f:\n",
    "    pickle.dump(sb_asthma_dist, f)\n",
    "with open('cough_dist_sb_covid.pickle', 'wb') as f:\n",
    "    pickle.dump(sb_covid_dist, f)\n",
    "with open('cough_dist_sb_normal.pickle', 'wb') as f:\n",
    "    pickle.dump(sb_normal_dist, f)"
   ]
  },
  {
   "cell_type": "code",
   "execution_count": 28,
   "metadata": {},
   "outputs": [
    {
     "data": {
      "image/png": "[encoded data removed]",
      "text/plain": [
       "<Figure size 576x288 with 1 Axes>"
      ]
     },
     "metadata": {
      "needs_background": "light"
     },
     "output_type": "display_data"
    }
   ],
   "source": [
    "# Loading and plotting spectral bandwidth distributions.\n",
    "\n",
    "with open('cough_dist_sb_asthma.pickle', 'rb') as f:\n",
    "    sb_asthma_dist = pickle.load(f)\n",
    "with open('cough_dist_sb_covid.pickle', 'rb') as f:\n",
    "    sb_covid_dist = pickle.load(f)\n",
    "with open('cough_dist_sb_normal.pickle', 'rb') as f:\n",
    "    sb_normal_dist = pickle.load(f)\n",
    "\n",
    "plt.figure(figsize=(8, 4))\n",
    "plt.title(f'Kernel density estimates for spectral bandwidth aggregate, grouped by class')\n",
    "sns.kdeplot(sb_asthma_dist, color='b', label='asthma')\n",
    "sns.kdeplot(sb_covid_dist, color='r', label='covid')\n",
    "sns.kdeplot(sb_normal_dist, color='g', label='normal')\n",
    "plt.xlabel('Spectral bandwidth aggregate (Hz)')\n",
    "plt.xlim([0, None])\n",
    "plt.legend();"
   ]
  },
  {
   "cell_type": "markdown",
   "metadata": {},
   "source": [
    "## Spectral rolloff"
   ]
  },
  {
   "cell_type": "markdown",
   "metadata": {},
   "source": [
    "#### Results on representative samples from each class."
   ]
  },
  {
   "cell_type": "code",
   "execution_count": 29,
   "metadata": {},
   "outputs": [],
   "source": [
    "sr_asthma = spectral_rolloff(waveform_asthma, sampling_rate, samples_per_frame, hop_length, roll_percent=struc_roll_percent)\n",
    "sr_covid = spectral_rolloff(waveform_covid, sampling_rate, samples_per_frame, hop_length, roll_percent=struc_roll_percent)\n",
    "sr_normal = spectral_rolloff(waveform_normal, sampling_rate, samples_per_frame, hop_length, roll_percent=struc_roll_percent)"
   ]
  },
  {
   "cell_type": "markdown",
   "metadata": {},
   "source": [
    "Plotting spectral rolloff over waveform."
   ]
  },
  {
   "cell_type": "code",
   "execution_count": 30,
   "metadata": {},
   "outputs": [
    {
     "name": "stdout",
     "output_type": "stream",
     "text": [
      "Output hidden for data privacy reasons.\n"
     ]
    }
   ],
   "source": [
    "%%script echo \"Output hidden for data privacy reasons.\"\n",
    "\n",
    "# Converting frame index to time\n",
    "times_asthma = librosa.frames_to_time(range(len(sr_asthma)), sr=sampling_rate, hop_length=hop_length)\n",
    "times_covid = librosa.frames_to_time(range(len(sr_covid)), sr=sampling_rate, hop_length=hop_length)\n",
    "times_normal = librosa.frames_to_time(range(len(sr_normal)), sr=sampling_rate, hop_length=hop_length)\n",
    "\n",
    "fig, ax = plt.subplots(1, 3, sharex=True, figsize=(19, 5))\n",
    "plt.suptitle('Spectral rolloff values for 3 representative audio samples, grouped by class; waveforms in lower row')\n",
    "\n",
    "plt.subplot(2, 3, 1)\n",
    "plt.plot(times_asthma, sr_asthma, color='r')\n",
    "plt.ylabel('Spectral rolloff (Hz)')\n",
    "plt.xlim([0, np.ceil(np.max(times_asthma))])\n",
    "plt.title('asthma')\n",
    "\n",
    "plt.subplot(2, 3, 4)\n",
    "librosa.display.waveplot(waveform_asthma, sr=sampling_rate, x_axis='time', color='b', alpha=0.2)\n",
    "plt.xlabel('Time (s)')\n",
    "plt.ylabel('y')\n",
    "\n",
    "plt.subplot(2, 3, 2)\n",
    "plt.plot(times_covid, sr_covid, color='r')\n",
    "plt.ylabel('Spectral rolloff (Hz)')\n",
    "plt.xlim([0, np.ceil(np.max(times_covid))])\n",
    "plt.title('covid')\n",
    "\n",
    "plt.subplot(2, 3, 5)\n",
    "librosa.display.waveplot(waveform_covid, sr=sampling_rate, x_axis='time', color='b', alpha=0.2)\n",
    "plt.xlabel('Time (s)')\n",
    "plt.ylabel('y')\n",
    "\n",
    "plt.subplot(2, 3, 3)\n",
    "plt.plot(times_normal, sr_normal, color='r')\n",
    "plt.ylabel('Spectral rolloff (Hz)')\n",
    "plt.xlim([0, np.ceil(np.max(times_normal))])\n",
    "plt.title('normal')\n",
    "\n",
    "plt.subplot(2, 3, 6)\n",
    "librosa.display.waveplot(waveform_normal, sr=sampling_rate, x_axis='time', color='b', alpha=0.2)\n",
    "plt.xlabel('Time (s)')\n",
    "plt.ylabel('y');"
   ]
  },
  {
   "cell_type": "markdown",
   "metadata": {},
   "source": [
    "#### Aggregating spectral bandwidth values across frames, to get a single value for each audio sample, then plotting the distribution of the aggregated values."
   ]
  },
  {
   "cell_type": "code",
   "execution_count": 31,
   "metadata": {},
   "outputs": [
    {
     "name": "stdout",
     "output_type": "stream",
     "text": [
      "Comment line with %%script echo to run this cell.\n"
     ]
    }
   ],
   "source": [
    "%%script echo \"Comment line with %%script echo to run this cell.\"\n",
    "\n",
    "# Spectral rolloff distributions for asthma, covid and normal.\n",
    "sr_asthma_dist = list()\n",
    "sr_covid_dist = list()\n",
    "sr_normal_dist = list()\n",
    "\n",
    "# Aggregate spectral centroids distributions for asthma, covid and normal.\n",
    "agg_func = 'median'    # Function to aggregate values over frames in audio sample, to get 1 value per audio sample.\n",
    "for file in tqdm(os.listdir(dirpath_asthma)):\n",
    "    file = os.path.join(dirpath_asthma, file)\n",
    "    waveform, _ = librosa.load(file, sr=sampling_rate)\n",
    "    sr_asthma_dist.append(spectral_rolloff_agg(waveform, sampling_rate, samples_per_frame, hop_length, roll_percent, agg_func))\n",
    "for file in tqdm(os.listdir(dirpath_covid)):\n",
    "    file = os.path.join(dirpath_covid, file)\n",
    "    waveform, _ = librosa.load(file, sr=sampling_rate)\n",
    "    sr_covid_dist.append(spectral_rolloff_agg(waveform, sampling_rate, samples_per_frame, hop_length, roll_percent, agg_func))\n",
    "for file in tqdm(os.listdir(dirpath_normal)):\n",
    "    file = os.path.join(dirpath_normal, file)\n",
    "    waveform, _ = librosa.load(file, sr=sampling_rate)\n",
    "    sr_normal_dist.append(spectral_rolloff_agg(waveform, sampling_rate, samples_per_frame, hop_length, roll_percent, agg_func))"
   ]
  },
  {
   "cell_type": "code",
   "execution_count": 32,
   "metadata": {},
   "outputs": [
    {
     "name": "stdout",
     "output_type": "stream",
     "text": [
      "Comment line with %%script echo to run this cell.\n"
     ]
    }
   ],
   "source": [
    "%%script echo \"Comment line with %%script echo to run this cell.\"\n",
    "\n",
    "# Saving spectral rolloff energy distributions.\n",
    "with open('cough_dist_sr_asthma.pickle', 'wb') as f:\n",
    "    pickle.dump(sr_asthma_dist, f)\n",
    "with open('cough_dist_sr_covid.pickle', 'wb') as f:\n",
    "    pickle.dump(sr_covid_dist, f)\n",
    "with open('cough_dist_sr_normal.pickle', 'wb') as f:\n",
    "    pickle.dump(sr_normal_dist, f)"
   ]
  },
  {
   "cell_type": "code",
   "execution_count": 33,
   "metadata": {},
   "outputs": [
    {
     "data": {
      "image/png": "[encoded data removed]",
      "text/plain": [
       "<Figure size 576x288 with 1 Axes>"
      ]
     },
     "metadata": {
      "needs_background": "light"
     },
     "output_type": "display_data"
    }
   ],
   "source": [
    "# Loading and plotting spectral rolloff distributions.\n",
    "\n",
    "with open('cough_dist_sr_asthma.pickle', 'rb') as f:\n",
    "    sr_asthma_dist = pickle.load(f)\n",
    "with open('cough_dist_sr_covid.pickle', 'rb') as f:\n",
    "    sr_covid_dist = pickle.load(f)\n",
    "with open('cough_dist_sr_normal.pickle', 'rb') as f:\n",
    "    sr_normal_dist = pickle.load(f)\n",
    "\n",
    "plt.figure(figsize=(8, 4))\n",
    "plt.title(f'Kernel density estimates for spectral rolloff aggregate, grouped by class')\n",
    "sns.kdeplot(sr_asthma_dist, color='b', label='asthma')\n",
    "sns.kdeplot(sr_covid_dist, color='r', label='covid')\n",
    "sns.kdeplot(sr_normal_dist, color='g', label='normal')\n",
    "plt.xlabel('Spectral rolloff aggregate (Hz)')\n",
    "plt.xlim([0, None])\n",
    "plt.legend();"
   ]
  },
  {
   "cell_type": "markdown",
   "metadata": {},
   "source": [
    "## Mel frequency cepstrum coefficients (MFCCs)"
   ]
  },
  {
   "cell_type": "markdown",
   "metadata": {},
   "source": [
    "#### Results on representative samples from each class."
   ]
  },
  {
   "cell_type": "code",
   "execution_count": 34,
   "metadata": {},
   "outputs": [],
   "source": [
    "# Number of MFCCs to consider, many applications use first 13 coefficients.\n",
    "n_mfcc = 13\n",
    "\n",
    "mfccs_asthma = mfcc(waveform_asthma, sampling_rate, samples_per_frame, hop_length, n_mfcc)\n",
    "mfccs_covid = mfcc(waveform_covid, sampling_rate, samples_per_frame, hop_length, n_mfcc)\n",
    "mfccs_normal = mfcc(waveform_normal, sampling_rate, samples_per_frame, hop_length, n_mfcc)"
   ]
  },
  {
   "cell_type": "markdown",
   "metadata": {},
   "source": [
    "Sanity check for shape of MFCC arrays."
   ]
  },
  {
   "cell_type": "code",
   "execution_count": 35,
   "metadata": {},
   "outputs": [],
   "source": [
    "pad_length = samples_per_frame // 2\n",
    "np.testing.assert_array_equal(mfccs_asthma.shape[1], (waveform_asthma.shape[0] + 2 * pad_length - samples_per_frame) // hop_length + 1)\n",
    "np.testing.assert_array_equal(mfccs_covid.shape[1], (waveform_covid.shape[0] + 2 * pad_length - samples_per_frame) // hop_length + 1)\n",
    "np.testing.assert_array_equal(mfccs_normal.shape[1], (waveform_normal.shape[0] + 2 * pad_length - samples_per_frame) // hop_length + 1)"
   ]
  },
  {
   "cell_type": "markdown",
   "metadata": {},
   "source": [
    "Plotting MFCCs."
   ]
  },
  {
   "cell_type": "code",
   "execution_count": 36,
   "metadata": {},
   "outputs": [
    {
     "name": "stdout",
     "output_type": "stream",
     "text": [
      "Output hidden for data privacy reasons.\n"
     ]
    }
   ],
   "source": [
    "%%script echo \"Output hidden for data privacy reasons.\"\n",
    "\n",
    "fig, ax = plt.subplots(1, 3, figsize=(19, 4))\n",
    "plt.suptitle('First 13 MFCCs, unscaled')\n",
    "\n",
    "plt.subplot(1, 3, 1)\n",
    "librosa.display.specshow(mfccs_asthma, x_axis='time')\n",
    "plt.colorbar()\n",
    "plt.title('asthma')\n",
    "plt.xlabel('Time (s)')\n",
    "plt.ylabel('MFCC')\n",
    "\n",
    "plt.subplot(1, 3, 2)\n",
    "librosa.display.specshow(mfccs_covid, x_axis='time')\n",
    "plt.colorbar()\n",
    "plt.title('covid')\n",
    "plt.xlabel('Time (s)')\n",
    "plt.ylabel('MFCC')\n",
    "\n",
    "plt.subplot(1, 3, 3)\n",
    "librosa.display.specshow(mfccs_normal, x_axis='time')\n",
    "plt.colorbar()\n",
    "plt.title('normal')\n",
    "plt.xlabel('Time (s)')\n",
    "plt.ylabel('MFCC');"
   ]
  },
  {
   "cell_type": "markdown",
   "metadata": {},
   "source": [
    "The first coefficient does not convey any information, except for a constant bias. It is usually discarded.  \n",
    "Refer: https://musicinformationretrieval.com/mfcc.html\n",
    "\n",
    "Performing scaling as it helps to visualize MFCCs better."
   ]
  },
  {
   "cell_type": "code",
   "execution_count": 37,
   "metadata": {},
   "outputs": [
    {
     "name": "stdout",
     "output_type": "stream",
     "text": [
      "Output hidden for data privacy reasons.\n"
     ]
    }
   ],
   "source": [
    "%%script echo \"Output hidden for data privacy reasons.\"\n",
    "\n",
    "mfccs_asthma_scaled = (mfccs_asthma - np.expand_dims(np.min(mfccs_asthma, axis=1), axis=1)) / (np.expand_dims(np.max(mfccs_asthma, axis=1), axis=1) - np.expand_dims(np.min(mfccs_asthma, axis=1), axis=1))\n",
    "mfccs_covid_scaled = (mfccs_covid - np.expand_dims(np.min(mfccs_covid, axis=1), axis=1)) / (np.expand_dims(np.max(mfccs_covid, axis=1), axis=1) - np.expand_dims(np.min(mfccs_covid, axis=1), axis=1))\n",
    "mfccs_normal_scaled = (mfccs_normal - np.expand_dims(np.min(mfccs_normal, axis=1), axis=1)) / (np.expand_dims(np.max(mfccs_normal, axis=1), axis=1) - np.expand_dims(np.min(mfccs_normal, axis=1), axis=1))\n",
    "fig, ax = plt.subplots(1, 3, figsize=(19, 4))\n",
    "plt.suptitle('First 13 MFCCs, min-max scaled')\n",
    "\n",
    "plt.subplot(1, 3, 1)\n",
    "librosa.display.specshow(mfccs_asthma_scaled, x_axis='time')\n",
    "plt.colorbar()\n",
    "plt.title('asthma')\n",
    "plt.xlabel('Time (s)')\n",
    "plt.ylabel('MFCC')\n",
    "\n",
    "plt.subplot(1, 3, 2)\n",
    "librosa.display.specshow(mfccs_covid_scaled, x_axis='time')\n",
    "plt.colorbar()\n",
    "plt.title('covid')\n",
    "plt.xlabel('Time (s)')\n",
    "plt.ylabel('MFCC')\n",
    "\n",
    "plt.subplot(1, 3, 3)\n",
    "librosa.display.specshow(mfccs_normal_scaled, x_axis='time')\n",
    "plt.colorbar()\n",
    "plt.title('normal')\n",
    "plt.xlabel('Time (s)')\n",
    "plt.ylabel('MFCC');"
   ]
  },
  {
   "cell_type": "markdown",
   "metadata": {},
   "source": [
    "#### Aggregating second MFCC values across frames, to get a single value for each audio sample, then plotting the distribution of the aggregated values.\n",
    "\n",
    "Using second MFCC as first MFCC does not give much useful information."
   ]
  },
  {
   "cell_type": "code",
   "execution_count": 38,
   "metadata": {},
   "outputs": [
    {
     "name": "stdout",
     "output_type": "stream",
     "text": [
      "Comment line with %%script echo to run this cell.\n"
     ]
    }
   ],
   "source": [
    "%%script echo \"Comment line with %%script echo to run this cell.\"\n",
    "\n",
    "# MFCC2 distributions for asthma, covid and normal.\n",
    "mfcc2_asthma_dist = list()\n",
    "mfcc2_covid_dist = list()\n",
    "mfcc2_normal_dist = list()\n",
    "\n",
    "# Aggregate MFCC2 distributions for asthma, covid and normal.\n",
    "agg_func = 'mean'    # Function to aggregate values over frames in audio sample, to get 1 value per audio sample.\n",
    "for file in tqdm(os.listdir(dirpath_asthma)):\n",
    "    file = os.path.join(dirpath_asthma, file)\n",
    "    waveform, _ = librosa.load(file, sr=sampling_rate)\n",
    "    mfcc2_asthma_dist.append(mfcc_agg(waveform, sampling_rate, samples_per_frame, hop_length, n_mfcc, agg_func)[1])\n",
    "for file in tqdm(os.listdir(dirpath_covid)):\n",
    "    file = os.path.join(dirpath_covid, file)\n",
    "    waveform, _ = librosa.load(file, sr=sampling_rate)\n",
    "    mfcc2_covid_dist.append(mfcc_agg(waveform, sampling_rate, samples_per_frame, hop_length, n_mfcc, agg_func)[1])\n",
    "for file in tqdm(os.listdir(dirpath_normal)):\n",
    "    file = os.path.join(dirpath_normal, file)\n",
    "    waveform, _ = librosa.load(file, sr=sampling_rate)\n",
    "    mfcc2_normal_dist.append(mfcc_agg(waveform, sampling_rate, samples_per_frame, hop_length, n_mfcc, agg_func)[1])"
   ]
  },
  {
   "cell_type": "code",
   "execution_count": 39,
   "metadata": {},
   "outputs": [
    {
     "name": "stdout",
     "output_type": "stream",
     "text": [
      "Comment line with %%script echo to run this cell.\n"
     ]
    }
   ],
   "source": [
    "%%script echo \"Comment line with %%script echo to run this cell.\"\n",
    "\n",
    "# Saving MFCC2 distributions.\n",
    "with open('cough_dist_mfcc2_asthma.pickle', 'wb') as f:\n",
    "    pickle.dump(mfcc2_asthma_dist, f)\n",
    "with open('cough_dist_mfcc2_covid.pickle', 'wb') as f:\n",
    "    pickle.dump(mfcc2_covid_dist, f)\n",
    "with open('cough_dist_mfcc2_normal.pickle', 'wb') as f:\n",
    "    pickle.dump(mfcc2_normal_dist, f)"
   ]
  },
  {
   "cell_type": "code",
   "execution_count": 40,
   "metadata": {},
   "outputs": [
    {
     "data": {
      "image/png": "[encoded data removed]",
      "text/plain": [
       "<Figure size 576x288 with 1 Axes>"
      ]
     },
     "metadata": {
      "needs_background": "light"
     },
     "output_type": "display_data"
    }
   ],
   "source": [
    "# Loading and plotting MFCC2 distributions.\n",
    "\n",
    "with open('cough_dist_mfcc2_asthma.pickle', 'rb') as f:\n",
    "    mfcc2_asthma_dist = pickle.load(f)\n",
    "with open('cough_dist_mfcc2_covid.pickle', 'rb') as f:\n",
    "    mfcc2_covid_dist = pickle.load(f)\n",
    "with open('cough_dist_mfcc2_normal.pickle', 'rb') as f:\n",
    "    mfcc2_normal_dist = pickle.load(f)\n",
    "\n",
    "plt.figure(figsize=(8, 4))\n",
    "plt.title(f'Kernel density estimates for MFCC2 aggregate, grouped by class')\n",
    "sns.kdeplot(mfcc2_asthma_dist, color='b', label='asthma')\n",
    "sns.kdeplot(mfcc2_covid_dist, color='r', label='covid')\n",
    "sns.kdeplot(mfcc2_normal_dist, color='g', label='normal')\n",
    "plt.xlabel('MFCC2 aggregate')\n",
    "plt.xlim([0, None])\n",
    "plt.legend();"
   ]
  },
  {
   "cell_type": "markdown",
   "metadata": {},
   "source": [
    "## First derivative of MFCCs"
   ]
  },
  {
   "cell_type": "markdown",
   "metadata": {},
   "source": [
    "#### Results on representative samples from each class."
   ]
  },
  {
   "cell_type": "code",
   "execution_count": 41,
   "metadata": {},
   "outputs": [],
   "source": [
    "# Number of MFCCs to consider, many applications use first 13 coefficients.\n",
    "n_mfcc = 13\n",
    "\n",
    "dmfccs_asthma = dmfcc(waveform_asthma, sampling_rate, samples_per_frame, hop_length, n_mfcc)\n",
    "dmfccs_covid = dmfcc(waveform_covid, sampling_rate, samples_per_frame, hop_length, n_mfcc)\n",
    "dmfccs_normal = dmfcc(waveform_normal, sampling_rate, samples_per_frame, hop_length, n_mfcc)"
   ]
  },
  {
   "cell_type": "markdown",
   "metadata": {},
   "source": [
    "Sanity check for shape of dMFCC arrays."
   ]
  },
  {
   "cell_type": "code",
   "execution_count": 42,
   "metadata": {},
   "outputs": [],
   "source": [
    "pad_length = samples_per_frame // 2\n",
    "np.testing.assert_array_equal(dmfccs_asthma.shape[1], (waveform_asthma.shape[0] + 2 * pad_length - samples_per_frame) // hop_length + 1)\n",
    "np.testing.assert_array_equal(dmfccs_covid.shape[1], (waveform_covid.shape[0] + 2 * pad_length - samples_per_frame) // hop_length + 1)\n",
    "np.testing.assert_array_equal(dmfccs_normal.shape[1], (waveform_normal.shape[0] + 2 * pad_length - samples_per_frame) // hop_length + 1)"
   ]
  },
  {
   "cell_type": "markdown",
   "metadata": {},
   "source": [
    "Plotting dMFCCs."
   ]
  },
  {
   "cell_type": "code",
   "execution_count": 43,
   "metadata": {},
   "outputs": [
    {
     "name": "stdout",
     "output_type": "stream",
     "text": [
      "Output hidden for data privacy reasons.\n"
     ]
    }
   ],
   "source": [
    "%%script echo \"Output hidden for data privacy reasons.\"\n",
    "\n",
    "fig, ax = plt.subplots(1, 3, figsize=(19, 4))\n",
    "plt.suptitle('First 13 MFCCs, unscaled')\n",
    "\n",
    "plt.subplot(1, 3, 1)\n",
    "librosa.display.specshow(dmfccs_asthma, x_axis='time')\n",
    "plt.colorbar()\n",
    "plt.title('asthma')\n",
    "plt.xlabel('Time (s)')\n",
    "plt.ylabel('MFCC')\n",
    "\n",
    "plt.subplot(1, 3, 2)\n",
    "librosa.display.specshow(dmfccs_covid, x_axis='time')\n",
    "plt.colorbar()\n",
    "plt.title('covid')\n",
    "plt.xlabel('Time (s)')\n",
    "plt.ylabel('MFCC')\n",
    "\n",
    "plt.subplot(1, 3, 3)\n",
    "librosa.display.specshow(dmfccs_normal, x_axis='time')\n",
    "plt.colorbar()\n",
    "plt.title('normal')\n",
    "plt.xlabel('Time (s)')\n",
    "plt.ylabel('MFCC');"
   ]
  },
  {
   "cell_type": "markdown",
   "metadata": {},
   "source": [
    "Does not look like there is much information in the DMFCC plots.\n",
    "\n",
    "Performing scaling on DMFCC to see if there is any information can be extracted."
   ]
  },
  {
   "cell_type": "code",
   "execution_count": 44,
   "metadata": {},
   "outputs": [
    {
     "name": "stdout",
     "output_type": "stream",
     "text": [
      "Output hidden for data privacy reasons.\n"
     ]
    }
   ],
   "source": [
    "%%script echo \"Output hidden for data privacy reasons.\"\n",
    "\n",
    "dmfccs_asthma_scaled = (dmfccs_asthma - np.expand_dims(np.min(dmfccs_asthma, axis=1), axis=1)) / (np.expand_dims(np.max(dmfccs_asthma, axis=1), axis=1) - np.expand_dims(np.min(dmfccs_asthma, axis=1), axis=1))\n",
    "dmfccs_covid_scaled = (dmfccs_covid - np.expand_dims(np.min(dmfccs_covid, axis=1), axis=1)) / (np.expand_dims(np.max(dmfccs_covid, axis=1), axis=1) - np.expand_dims(np.min(dmfccs_covid, axis=1), axis=1))\n",
    "dmfccs_normal_scaled = (dmfccs_normal - np.expand_dims(np.min(dmfccs_normal, axis=1), axis=1)) / (np.expand_dims(np.max(dmfccs_normal, axis=1), axis=1) - np.expand_dims(np.min(dmfccs_normal, axis=1), axis=1))\n",
    "fig, ax = plt.subplots(1, 3, figsize=(19, 4))\n",
    "plt.suptitle('First 13 DMFCCs, min-max scaled')\n",
    "\n",
    "plt.subplot(1, 3, 1)\n",
    "librosa.display.specshow(dmfccs_asthma_scaled, x_axis='time')\n",
    "plt.colorbar()\n",
    "plt.title('asthma')\n",
    "plt.xlabel('Time (s)')\n",
    "plt.ylabel('DMFCC')\n",
    "\n",
    "plt.subplot(1, 3, 2)\n",
    "librosa.display.specshow(dmfccs_covid_scaled, x_axis='time')\n",
    "plt.colorbar()\n",
    "plt.title('covid')\n",
    "plt.xlabel('Time (s)')\n",
    "plt.ylabel('DMFCC')\n",
    "\n",
    "plt.subplot(1, 3, 3)\n",
    "librosa.display.specshow(dmfccs_normal_scaled, x_axis='time')\n",
    "plt.colorbar()\n",
    "plt.title('normal')\n",
    "plt.xlabel('Time (s)')\n",
    "plt.ylabel('DMFCC');"
   ]
  },
  {
   "cell_type": "markdown",
   "metadata": {},
   "source": [
    "Also looks random.\n",
    "\n",
    "Does not seem useful to extract d2MFCCs."
   ]
  }
 ],
 "metadata": {
  "kernelspec": {
   "display_name": "Python 3",
   "language": "python",
   "name": "python3"
  },
  "language_info": {
   "codemirror_mode": {
    "name": "ipython",
    "version": 3
   },
   "file_extension": ".py",
   "mimetype": "text/x-python",
   "name": "python",
   "nbconvert_exporter": "python",
   "pygments_lexer": "ipython3",
   "version": "3.8.5"
  }
 },
 "nbformat": 4,
 "nbformat_minor": 4
}
