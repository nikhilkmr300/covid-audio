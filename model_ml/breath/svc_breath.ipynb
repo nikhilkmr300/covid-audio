{
 "cells": [
  {
   "cell_type": "markdown",
   "metadata": {},
   "source": [
    "# Support Vector Classifier Model on Breath Data"
   ]
  },
  {
   "cell_type": "code",
   "execution_count": 1,
   "metadata": {
    "id": "iOYF0Q8PKdv8"
   },
   "outputs": [],
   "source": [
    "import numpy as np\n",
    "import pandas as pd\n",
    "import matplotlib.pyplot as plt\n",
    "import seaborn as sns\n",
    "from sklearn.utils import shuffle\n",
    "from sklearn.decomposition import PCA\n",
    "from sklearn.preprocessing import StandardScaler\n",
    "from sklearn.model_selection import GridSearchCV\n",
    "from sklearn.metrics import confusion_matrix, accuracy_score, classification_report\n",
    "from sklearn.svm import SVC\n",
    "import itertools\n",
    "import os\n",
    "import pickle"
   ]
  },
  {
   "cell_type": "code",
   "execution_count": 2,
   "metadata": {
    "id": "sGKq1GuPKpUD"
   },
   "outputs": [],
   "source": [
    "audio_type = 'breath'\n",
    "data_path = os.path.join('..', '..', 'data_struc', f'data_{audio_type}')"
   ]
  },
  {
   "cell_type": "markdown",
   "metadata": {
    "id": "Bf7rqeDWUM9B"
   },
   "source": [
    "## Loading datasets"
   ]
  },
  {
   "cell_type": "code",
   "execution_count": 3,
   "metadata": {
    "id": "sJTKkL2BLD8X"
   },
   "outputs": [],
   "source": [
    "train = pd.read_csv(os.path.join(data_path, 'train.csv'))\n",
    "test = pd.read_csv(os.path.join(data_path, 'test.csv'))\n",
    "val = pd.read_csv(os.path.join(data_path, 'valid.csv'))\n",
    "\n",
    "train = train.loc[:, ~train.columns.str.contains('^Unnamed')]\n",
    "test = test.loc[:, ~test.columns.str.contains('^Unnamed')]\n",
    "val = val.loc[:, ~val.columns.str.contains('^Unnamed')]\n",
    "\n",
    "train['target'] = train['target'].apply(lambda x: 1 if x == 'covid' else 0)\n",
    "test['target'] = test['target'].apply(lambda x: 1 if x == 'covid' else 0)\n",
    "val['target'] = val['target'].apply(lambda x: 1 if x == 'covid' else 0)\n",
    "\n",
    "train.dropna(inplace=True)\n",
    "test.dropna(inplace=True)\n",
    "val.dropna(inplace=True)\n",
    "\n",
    "# Appending validation to test, as we are using cross-validation anyway.\n",
    "test = test.append(val, ignore_index=True)\n",
    "\n",
    "train = shuffle(train, random_state=1)"
   ]
  },
  {
   "cell_type": "code",
   "execution_count": 4,
   "metadata": {
    "colab": {
     "base_uri": "https://localhost:8080/"
    },
    "id": "FoppdA8pjOmU",
    "outputId": "81bf0e91-0120-46f5-bbfd-02669bf7245b"
   },
   "outputs": [
    {
     "name": "stdout",
     "output_type": "stream",
     "text": [
      "137\n",
      "634\n"
     ]
    }
   ],
   "source": [
    "covid, normal = 0, 0\n",
    "for idx, row in train.iterrows():\n",
    "    if(row['target'] == 1):\n",
    "        covid += 1\n",
    "    else:\n",
    "        normal += 1\n",
    "\n",
    "print(covid)\n",
    "print(normal)"
   ]
  },
  {
   "cell_type": "code",
   "execution_count": 5,
   "metadata": {
    "id": "8hbeGmbRL3yY"
   },
   "outputs": [],
   "source": [
    "X_train = train.drop('target', axis=1)\n",
    "y_train = train['target']\n",
    "\n",
    "X_test = test.drop('target', axis=1)\n",
    "y_test = test['target']\n",
    "\n",
    "X_val = val.drop('target', axis=1)\n",
    "y_val = val['target']\n",
    "\n",
    "sc = StandardScaler()\n",
    "X_train = sc.fit_transform(X_train)\n",
    "X_test = sc.transform(X_test)"
   ]
  },
  {
   "cell_type": "markdown",
   "metadata": {
    "id": "2wYjxh7BUGjb"
   },
   "source": [
    "## Applying PCA"
   ]
  },
  {
   "cell_type": "code",
   "execution_count": 6,
   "metadata": {
    "id": "ay3r49ZjUIOF"
   },
   "outputs": [],
   "source": [
    "pca = PCA()\n",
    "X_train = pca.fit_transform(X_train)\n",
    "X_test = pca.transform(X_test)\n",
    "\n",
    "explained_variance = pca.explained_variance_ratio_\n",
    "explained_variance = [i * 100 for i in explained_variance]"
   ]
  },
  {
   "cell_type": "code",
   "execution_count": 7,
   "metadata": {
    "id": "6wFhGZ4Qgh_P"
   },
   "outputs": [],
   "source": [
    "cumulative_variance = np.cumsum(np.round(pca.explained_variance_ratio_, decimals=4) * 100)"
   ]
  },
  {
   "cell_type": "code",
   "execution_count": 8,
   "metadata": {
    "colab": {
     "base_uri": "https://localhost:8080/",
     "height": 283
    },
    "id": "5-htdc5QguX0",
    "outputId": "16ec9f73-edc2-4bfc-9dd3-8d7e6c754e51"
   },
   "outputs": [
    {
     "data": {
      "image/png": "[encoded data removed]",
      "text/plain": [
       "<Figure size 432x288 with 1 Axes>"
      ]
     },
     "metadata": {
      "needs_background": "light"
     },
     "output_type": "display_data"
    }
   ],
   "source": [
    "plt.ylabel('Cumulative variance')\n",
    "plt.plot(cumulative_variance, color='b');"
   ]
  },
  {
   "cell_type": "code",
   "execution_count": 9,
   "metadata": {
    "id": "5iFT0EEDkauk"
   },
   "outputs": [],
   "source": [
    "pca = PCA(n_components=20)\n",
    "X_train = pca.fit_transform(X_train)\n",
    "X_test = pca.transform(X_test)"
   ]
  },
  {
   "cell_type": "markdown",
   "metadata": {
    "id": "yDYacvInkr3o"
   },
   "source": [
    "## Training and Making Predictions\n"
   ]
  },
  {
   "cell_type": "code",
   "execution_count": 10,
   "metadata": {
    "colab": {
     "base_uri": "https://localhost:8080/"
    },
    "id": "y79usFSXsb5z",
    "outputId": "40da11cc-fd0a-4eeb-e089-04b11febf750"
   },
   "outputs": [
    {
     "name": "stdout",
     "output_type": "stream",
     "text": [
      "Comment line with %%script echo to run this cell.\n"
     ]
    }
   ],
   "source": [
    "%%script echo \"Comment line with %%script echo to run this cell.\"\n",
    "\n",
    "# Hyperparameters chosen after repeatedly narrowing the range of values.\n",
    "param_grid = {\n",
    "    'C': [2, 3, 4, 5],\n",
    "    'gamma': [0.0125, 0.015, 0.0175]\n",
    "}\n",
    "\n",
    "grid = GridSearchCV(\n",
    "    SVC(probability=True), \n",
    "    param_grid, \n",
    "    refit = True, \n",
    "    cv=10, \n",
    "    n_jobs=-1,\n",
    "    verbose=5\n",
    ")\n",
    "\n",
    "grid.fit(X_train, y_train) "
   ]
  },
  {
   "cell_type": "code",
   "execution_count": 11,
   "metadata": {
    "colab": {
     "base_uri": "https://localhost:8080/"
    },
    "id": "QD988BhI-5Ab",
    "outputId": "deddaf71-c471-47fb-bc95-a6f58afe948b"
   },
   "outputs": [
    {
     "name": "stdout",
     "output_type": "stream",
     "text": [
      "Comment line with %%script echo to run this cell.\n"
     ]
    }
   ],
   "source": [
    "%%script echo \"Comment line with %%script echo to run this cell.\"\n",
    "\n",
    "# print best parameter after tuning \n",
    "print(grid.best_params_) \n",
    "  \n",
    "# print how our model looks after hyper-parameter tuning \n",
    "print(grid.best_estimator_) \n",
    "\n",
    "# Printing best cross-validation accuracy -- use this value and NOT test metrics to tune hyperparameters.\n",
    "print(grid.best_score_)"
   ]
  },
  {
   "cell_type": "code",
   "execution_count": 12,
   "metadata": {
    "id": "i2EEGQlZ_CrY"
   },
   "outputs": [
    {
     "name": "stdout",
     "output_type": "stream",
     "text": [
      "Comment line with %%script echo to run this cell.\n"
     ]
    }
   ],
   "source": [
    "%%script echo \"Comment line with %%script echo to run this cell.\"\n",
    "\n",
    "with open('svc_breath.pickle', 'wb') as f:\n",
    "    pickle.dump(grid, f)"
   ]
  },
  {
   "cell_type": "markdown",
   "metadata": {},
   "source": [
    "### Don't touch this section until hyperparameters have been tuned and finalized\n",
    "\n",
    "Don't use test metrics as feedback to change hyperparameter, to avoid leakage from test set."
   ]
  },
  {
   "cell_type": "code",
   "execution_count": 13,
   "metadata": {},
   "outputs": [],
   "source": [
    "with open('svc_breath.pickle', 'rb') as f:\n",
    "    model = pickle.load(f)"
   ]
  },
  {
   "cell_type": "code",
   "execution_count": 14,
   "metadata": {
    "colab": {
     "base_uri": "https://localhost:8080/",
     "height": 483
    },
    "id": "OPRQHDbW-6M1",
    "outputId": "4b685e04-471d-405b-88c7-4653eaf43512"
   },
   "outputs": [
    {
     "name": "stdout",
     "output_type": "stream",
     "text": [
      "[[155   4]\n",
      " [  7  28]]\n",
      "Accuracy:  0.9432989690721649\n",
      "              precision    recall  f1-score   support\n",
      "\n",
      "           0       0.96      0.97      0.97       159\n",
      "           1       0.88      0.80      0.84        35\n",
      "\n",
      "    accuracy                           0.94       194\n",
      "   macro avg       0.92      0.89      0.90       194\n",
      "weighted avg       0.94      0.94      0.94       194\n",
      "\n"
     ]
    },
    {
     "data": {
      "image/png": "[encoded data removed]",
      "text/plain": [
       "<Figure size 432x288 with 2 Axes>"
      ]
     },
     "metadata": {
      "needs_background": "light"
     },
     "output_type": "display_data"
    }
   ],
   "source": [
    "y_pred = model.predict(X_test) \n",
    "\n",
    "cm = confusion_matrix(y_test, y_pred)\n",
    "print(cm)\n",
    "sns.heatmap(cm, cmap = 'plasma', annot = True, fmt = \".1f\")\n",
    "print('Accuracy: ', accuracy_score(y_test, y_pred))\n",
    "print(classification_report(y_test,y_pred))"
   ]
  }
 ],
 "metadata": {
  "colab": {
   "collapsed_sections": [],
   "name": "COVID_ML.ipynb",
   "provenance": []
  },
  "kernelspec": {
   "display_name": "Python 3",
   "language": "python",
   "name": "python3"
  },
  "language_info": {
   "codemirror_mode": {
    "name": "ipython",
    "version": 3
   },
   "file_extension": ".py",
   "mimetype": "text/x-python",
   "name": "python",
   "nbconvert_exporter": "python",
   "pygments_lexer": "ipython3",
   "version": "3.8.6"
  }
 },
 "nbformat": 4,
 "nbformat_minor": 4
}
