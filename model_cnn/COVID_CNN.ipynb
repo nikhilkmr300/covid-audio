{
  "nbformat": 4,
  "nbformat_minor": 0,
  "metadata": {
    "kernelspec": {
      "display_name": "Python 3",
      "language": "python",
      "name": "python3"
    },
    "language_info": {
      "codemirror_mode": {
        "name": "ipython",
        "version": 3
      },
      "file_extension": ".py",
      "mimetype": "text/x-python",
      "name": "python",
      "nbconvert_exporter": "python",
      "pygments_lexer": "ipython3",
      "version": "3.6.9"
    },
    "colab": {
      "name": "COVID_CNN_New.ipynb",
      "provenance": [],
      "collapsed_sections": []
    },
    "accelerator": "GPU"
  },
  "cells": [
    {
      "cell_type": "code",
      "metadata": {
        "id": "O0MgWrrctmxT",
        "colab": {
          "base_uri": "https://localhost:8080/"
        },
        "outputId": "114da5a0-6909-4004-97c4-073c8a1deafd"
      },
      "source": [
        "from google.colab import drive\n",
        "drive.mount('/content/gdrive')"
      ],
      "execution_count": 1,
      "outputs": [
        {
          "output_type": "stream",
          "text": [
            "Mounted at /content/gdrive\n"
          ],
          "name": "stdout"
        }
      ]
    },
    {
      "cell_type": "code",
      "metadata": {
        "id": "Zo1a_2XNtwUi",
        "colab": {
          "base_uri": "https://localhost:8080/"
        },
        "outputId": "9d12aa08-3ca2-43b0-be6e-7034061039fd"
      },
      "source": [
        "%cd /content/gdrive/My\\ Drive/SOP/SOP_COVID/covid-audio/voice"
      ],
      "execution_count": 2,
      "outputs": [
        {
          "output_type": "stream",
          "text": [
            "/content/gdrive/My Drive/SOP/SOP_COVID/covid-audio/voice\n"
          ],
          "name": "stdout"
        }
      ]
    },
    {
      "cell_type": "code",
      "metadata": {
        "id": "-_92-4oDtcEq"
      },
      "source": [
        "import numpy as np\n",
        "import tensorflow as tf\n",
        "import os\n",
        "import keras\n",
        "from keras.models import Sequential, load_model\n",
        "from keras.layers import Conv2D, MaxPooling2D, Flatten, Dense, GlobalMaxPooling2D, Dropout\n",
        "from keras.preprocessing import image\n",
        "from keras.preprocessing.image import ImageDataGenerator, array_to_img, img_to_array, load_img\n",
        "import matplotlib.pyplot as plt\n",
        "import pickle\n",
        "import seaborn as sns\n",
        "from sklearn.metrics import confusion_matrix, accuracy_score, classification_report\n",
        "from keras.layers.normalization import BatchNormalization"
      ],
      "execution_count": 16,
      "outputs": []
    },
    {
      "cell_type": "code",
      "metadata": {
        "id": "FUKQtq6ntcEv"
      },
      "source": [
        "np.random.seed(1)\n",
        "tf.random.set_seed(1)\n",
        "\n",
        "audioType = 'breath'\n",
        "\n",
        "classes = ['covid', 'normal']\n",
        "\n",
        "target_size = (224, 224)\n",
        "\n",
        "# Hyperparameters\n",
        "epochs = 100\n",
        "learning_rate = 1e-5\n",
        "dropout_prob_1 = 0.25\n",
        "dropout_prob_2 = 0.5\n",
        "\n",
        "# Early stopping callback\n",
        "es = keras.callbacks.EarlyStopping(\n",
        "    monitor='val_loss',\n",
        "    min_delta=0.001,\n",
        "    patience=5,\n",
        "    restore_best_weights=True\n",
        ")\n",
        "\n",
        "train_path = f'data_spec/mel_spec_new/spec_{audioType}/train'\n",
        "valid_path = f'data_spec/mel_spec_new/spec_{audioType}/valid'\n",
        "test_path = f'data_spec/mel_spec_new/spec_{audioType}/test'\n",
        "\n",
        "# Imbalanced dataset\n",
        "# class_weight = {\n",
        "#     0 : 4.,\n",
        "#     1 : 1.\n",
        "# }"
      ],
      "execution_count": 4,
      "outputs": []
    },
    {
      "cell_type": "code",
      "metadata": {
        "id": "AU2R_RowtcEz"
      },
      "source": [
        "# CNN Based Model in Keras\n",
        "\n",
        "model = Sequential()\n",
        "model.add(Conv2D(32,kernel_size=(3,3),activation='relu',input_shape=(224,224,3)))\n",
        "model.add(Conv2D(64,(3,3),activation='relu'))\n",
        "model.add(MaxPooling2D(pool_size=(2,2)))\n",
        "model.add(Dropout(0.25))\n",
        "\n",
        "model.add(Conv2D(64,(3,3),activation='relu'))\n",
        "model.add(MaxPooling2D(pool_size=(2,2)))\n",
        "model.add(Dropout(0.25))\n",
        "\n",
        "model.add(Conv2D(128,(3,3),activation='relu'))\n",
        "model.add(MaxPooling2D(pool_size=(2,2)))\n",
        "model.add(Dropout(0.25))\n",
        "\n",
        "# model.add(GlobalMaxPooling2D())  # this converts our 3D feature maps to 1D feature vectors\n",
        "model.add(Flatten())\n",
        "model.add(Dense(64,activation='relu'))\n",
        "model.add(Dropout(0.5))\n",
        "model.add(Dense(1,activation='sigmoid'))"
      ],
      "execution_count": null,
      "outputs": []
    },
    {
      "cell_type": "code",
      "metadata": {
        "id": "lSqbdXyo6522"
      },
      "source": [
        "# # CNN Based Model from research paper\n",
        "# model = Sequential()\n",
        "# model.add(Conv2D(16,kernel_size=(3,3),activation='relu',input_shape=(224,224,3)))\n",
        "# model.add(BatchNormalization())\n",
        "\n",
        "# model.add(Conv2D(32,(3,3),activation='relu'))\n",
        "# model.add(BatchNormalization())\n",
        "\n",
        "# model.add(Conv2D(64,(3,3),activation='relu'))\n",
        "# model.add(BatchNormalization())\n",
        "\n",
        "# model.add(Conv2D(128,(3,3),activation='relu'))\n",
        "# model.add(BatchNormalization())\n",
        "\n",
        "# model.add(Conv2D(256,(3,3),activation='relu'))\n",
        "# model.add(BatchNormalization())\n",
        "\n",
        "# model.add(Conv2D(512,(3,3),activation='relu'))\n",
        "# model.add(BatchNormalization())\n",
        "\n",
        "# model.add(GlobalMaxPooling2D())  # this converts our 3D feature maps to 1D feature vectors\n",
        "# model.add(Dense(1,activation='sigmoid'))"
      ],
      "execution_count": null,
      "outputs": []
    },
    {
      "cell_type": "code",
      "metadata": {
        "id": "t30dXHqftcE2",
        "colab": {
          "base_uri": "https://localhost:8080/",
          "height": 642
        },
        "outputId": "269bde92-81eb-456e-d8a6-cd2492c95d8d"
      },
      "source": [
        "model.summary()"
      ],
      "execution_count": null,
      "outputs": [
        {
          "output_type": "stream",
          "text": [
            "Model: \"sequential_1\"\n",
            "_________________________________________________________________\n",
            "Layer (type)                 Output Shape              Param #   \n",
            "=================================================================\n",
            "conv2d_6 (Conv2D)            (None, 222, 222, 32)      896       \n",
            "_________________________________________________________________\n",
            "conv2d_7 (Conv2D)            (None, 220, 220, 64)      18496     \n",
            "_________________________________________________________________\n",
            "max_pooling2d (MaxPooling2D) (None, 110, 110, 64)      0         \n",
            "_________________________________________________________________\n",
            "dropout (Dropout)            (None, 110, 110, 64)      0         \n",
            "_________________________________________________________________\n",
            "conv2d_8 (Conv2D)            (None, 108, 108, 64)      36928     \n",
            "_________________________________________________________________\n",
            "max_pooling2d_1 (MaxPooling2 (None, 54, 54, 64)        0         \n",
            "_________________________________________________________________\n",
            "dropout_1 (Dropout)          (None, 54, 54, 64)        0         \n",
            "_________________________________________________________________\n",
            "conv2d_9 (Conv2D)            (None, 52, 52, 128)       73856     \n",
            "_________________________________________________________________\n",
            "max_pooling2d_2 (MaxPooling2 (None, 26, 26, 128)       0         \n",
            "_________________________________________________________________\n",
            "dropout_2 (Dropout)          (None, 26, 26, 128)       0         \n",
            "_________________________________________________________________\n",
            "flatten (Flatten)            (None, 86528)             0         \n",
            "_________________________________________________________________\n",
            "dense_1 (Dense)              (None, 64)                5537856   \n",
            "_________________________________________________________________\n",
            "dropout_3 (Dropout)          (None, 64)                0         \n",
            "_________________________________________________________________\n",
            "dense_2 (Dense)              (None, 1)                 65        \n",
            "=================================================================\n",
            "Total params: 5,668,097\n",
            "Trainable params: 5,668,097\n",
            "Non-trainable params: 0\n",
            "_________________________________________________________________\n"
          ],
          "name": "stdout"
        }
      ]
    },
    {
      "cell_type": "code",
      "metadata": {
        "id": "nXDdOyzZtcE7"
      },
      "source": [
        "# Train from scratch\n",
        "train_datagen = image.ImageDataGenerator(\n",
        "    rescale = 1./255,\n",
        "    shear_range = 0.2,\n",
        "    zoom_range = 0.2,\n",
        "    # horizontal_flip = True,\n",
        ")\n",
        "\n",
        "test_datagen = image.ImageDataGenerator(rescale=1./255)"
      ],
      "execution_count": 8,
      "outputs": []
    },
    {
      "cell_type": "code",
      "metadata": {
        "id": "0-AdG1RHtcE-",
        "colab": {
          "base_uri": "https://localhost:8080/"
        },
        "outputId": "f8cf22a0-e568-4def-fded-e7dc7732197d"
      },
      "source": [
        "train_generator = train_datagen.flow_from_directory(\n",
        "    train_path,\n",
        "    target_size = target_size,\n",
        "    color_mode=\"rgb\", # for coloured images\n",
        "    batch_size = 32,\n",
        "    class_mode = 'binary'\n",
        ")\n",
        "\n",
        "print(train_generator.class_indices)\n",
        "\n",
        "validation_generator = test_datagen.flow_from_directory(\n",
        "    valid_path,\n",
        "    target_size = target_size,\n",
        "    color_mode=\"rgb\", # for coloured images\n",
        "    batch_size = 32,\n",
        "    class_mode = 'binary'\n",
        ")\n",
        "\n",
        "# Choosing steps per epoch so that 1 epoch equals 1 pass through train/valid/test (steps = samples / batch_size).\n",
        "train_batch_size = 32\n",
        "train_steps = round(train_generator.n / train_batch_size)\n",
        "valid_batch_size = 32\n",
        "valid_steps = round(validation_generator.n / valid_batch_size)"
      ],
      "execution_count": 9,
      "outputs": [
        {
          "output_type": "stream",
          "text": [
            "Found 287 images belonging to 2 classes.\n",
            "{'covid': 0, 'normal': 1}\n",
            "Found 37 images belonging to 2 classes.\n"
          ],
          "name": "stdout"
        }
      ]
    },
    {
      "cell_type": "code",
      "metadata": {
        "id": "bd1cntubrAgj",
        "colab": {
          "base_uri": "https://localhost:8080/",
          "height": 1000
        },
        "outputId": "e34ed3b9-2aa2-4af7-b85a-9dbe1fab4953"
      },
      "source": [
        "model.compile(\n",
        "    optimizer=keras.optimizers.Adam(lr=learning_rate),\n",
        "    loss=keras.losses.binary_crossentropy,\n",
        "    metrics=['accuracy']\n",
        ")\n",
        "\n",
        "history = model.fit(\n",
        "    train_generator,\n",
        "    steps_per_epoch=train_steps,\n",
        "    epochs=epochs,\n",
        "    validation_data=validation_generator,\n",
        "    validation_steps=valid_steps,\n",
        "    callbacks=[es]\n",
        ")\n",
        "\n",
        "model_name = f'model_CNN_{audioType}_epochs_lr_new'\n",
        "model.save('models/' + model_name + '.h5')\n",
        "\n",
        "with open(f'history/{model_name}_history.pickle', 'wb') as f:\n",
        "    pickle.dump(history.history, f)"
      ],
      "execution_count": null,
      "outputs": [
        {
          "output_type": "stream",
          "text": [
            "Epoch 1/100\n",
            "2/9 [=====>........................] - ETA: 0s - loss: 0.6952 - accuracy: 0.5000WARNING:tensorflow:Callbacks method `on_train_batch_end` is slow compared to the batch time (batch time: 0.0457s vs `on_train_batch_end` time: 0.0738s). Check your callbacks.\n",
            "9/9 [==============================] - 5s 573ms/step - loss: 0.7021 - accuracy: 0.4739 - val_loss: 0.6922 - val_accuracy: 0.6250\n",
            "Epoch 2/100\n",
            "9/9 [==============================] - 5s 521ms/step - loss: 0.6991 - accuracy: 0.5087 - val_loss: 0.6903 - val_accuracy: 0.5000\n",
            "Epoch 3/100\n",
            "9/9 [==============================] - 5s 519ms/step - loss: 0.6864 - accuracy: 0.5505 - val_loss: 0.6928 - val_accuracy: 0.4375\n",
            "Epoch 4/100\n",
            "9/9 [==============================] - 5s 517ms/step - loss: 0.6920 - accuracy: 0.5296 - val_loss: 0.6903 - val_accuracy: 0.5625\n",
            "Epoch 5/100\n",
            "9/9 [==============================] - 5s 526ms/step - loss: 0.6801 - accuracy: 0.6063 - val_loss: 0.6878 - val_accuracy: 0.6875\n",
            "Epoch 6/100\n",
            "9/9 [==============================] - 5s 531ms/step - loss: 0.6943 - accuracy: 0.5226 - val_loss: 0.6881 - val_accuracy: 0.7500\n",
            "Epoch 7/100\n",
            "9/9 [==============================] - 5s 527ms/step - loss: 0.6746 - accuracy: 0.5749 - val_loss: 0.6877 - val_accuracy: 0.7500\n",
            "Epoch 8/100\n",
            "9/9 [==============================] - 5s 527ms/step - loss: 0.6759 - accuracy: 0.6098 - val_loss: 0.6834 - val_accuracy: 0.5625\n",
            "Epoch 9/100\n",
            "9/9 [==============================] - 5s 523ms/step - loss: 0.6816 - accuracy: 0.5540 - val_loss: 0.6859 - val_accuracy: 0.6562\n",
            "Epoch 10/100\n",
            "9/9 [==============================] - 5s 541ms/step - loss: 0.6906 - accuracy: 0.5505 - val_loss: 0.6852 - val_accuracy: 0.6562\n",
            "Epoch 11/100\n",
            "9/9 [==============================] - 5s 525ms/step - loss: 0.6758 - accuracy: 0.5819 - val_loss: 0.6827 - val_accuracy: 0.7188\n",
            "Epoch 12/100\n",
            "9/9 [==============================] - 5s 524ms/step - loss: 0.6726 - accuracy: 0.5714 - val_loss: 0.6808 - val_accuracy: 0.6875\n",
            "Epoch 13/100\n",
            "9/9 [==============================] - 5s 521ms/step - loss: 0.6718 - accuracy: 0.5889 - val_loss: 0.6845 - val_accuracy: 0.7812\n",
            "Epoch 14/100\n",
            "9/9 [==============================] - 5s 525ms/step - loss: 0.6736 - accuracy: 0.5610 - val_loss: 0.6839 - val_accuracy: 0.6250\n",
            "Epoch 15/100\n",
            "9/9 [==============================] - 5s 529ms/step - loss: 0.6566 - accuracy: 0.6098 - val_loss: 0.6788 - val_accuracy: 0.5938\n",
            "Epoch 16/100\n",
            "9/9 [==============================] - 5s 521ms/step - loss: 0.6519 - accuracy: 0.6028 - val_loss: 0.6723 - val_accuracy: 0.6875\n",
            "Epoch 17/100\n",
            "9/9 [==============================] - 5s 521ms/step - loss: 0.6441 - accuracy: 0.6167 - val_loss: 0.6780 - val_accuracy: 0.6562\n",
            "Epoch 18/100\n",
            "9/9 [==============================] - 5s 524ms/step - loss: 0.6516 - accuracy: 0.6341 - val_loss: 0.6707 - val_accuracy: 0.6562\n",
            "Epoch 19/100\n",
            "9/9 [==============================] - 5s 527ms/step - loss: 0.6516 - accuracy: 0.6202 - val_loss: 0.6662 - val_accuracy: 0.6250\n",
            "Epoch 20/100\n",
            "9/9 [==============================] - 5s 535ms/step - loss: 0.6384 - accuracy: 0.6063 - val_loss: 0.6665 - val_accuracy: 0.6562\n",
            "Epoch 21/100\n",
            "9/9 [==============================] - 5s 535ms/step - loss: 0.6495 - accuracy: 0.6167 - val_loss: 0.6646 - val_accuracy: 0.6875\n",
            "Epoch 22/100\n",
            "9/9 [==============================] - 5s 539ms/step - loss: 0.6450 - accuracy: 0.5819 - val_loss: 0.6598 - val_accuracy: 0.6875\n",
            "Epoch 23/100\n",
            "9/9 [==============================] - 5s 526ms/step - loss: 0.6423 - accuracy: 0.5958 - val_loss: 0.6633 - val_accuracy: 0.6562\n",
            "Epoch 24/100\n",
            "9/9 [==============================] - 5s 520ms/step - loss: 0.6228 - accuracy: 0.6620 - val_loss: 0.6595 - val_accuracy: 0.6562\n",
            "Epoch 25/100\n",
            "9/9 [==============================] - 5s 524ms/step - loss: 0.6361 - accuracy: 0.6376 - val_loss: 0.6550 - val_accuracy: 0.6875\n",
            "Epoch 26/100\n",
            "9/9 [==============================] - 5s 520ms/step - loss: 0.6214 - accuracy: 0.6167 - val_loss: 0.6600 - val_accuracy: 0.7188\n",
            "Epoch 27/100\n",
            "9/9 [==============================] - 5s 522ms/step - loss: 0.6245 - accuracy: 0.6551 - val_loss: 0.6379 - val_accuracy: 0.7500\n",
            "Epoch 28/100\n",
            "9/9 [==============================] - 5s 535ms/step - loss: 0.6222 - accuracy: 0.6969 - val_loss: 0.6322 - val_accuracy: 0.7188\n",
            "Epoch 29/100\n",
            "9/9 [==============================] - 5s 550ms/step - loss: 0.6116 - accuracy: 0.6551 - val_loss: 0.6547 - val_accuracy: 0.6562\n",
            "Epoch 30/100\n",
            "9/9 [==============================] - 5s 528ms/step - loss: 0.6095 - accuracy: 0.7038 - val_loss: 0.6450 - val_accuracy: 0.6562\n",
            "Epoch 31/100\n",
            "9/9 [==============================] - 5s 519ms/step - loss: 0.6315 - accuracy: 0.6237 - val_loss: 0.6530 - val_accuracy: 0.6875\n",
            "Epoch 32/100\n",
            "9/9 [==============================] - 5s 527ms/step - loss: 0.6119 - accuracy: 0.6655 - val_loss: 0.6523 - val_accuracy: 0.7500\n",
            "Epoch 33/100\n",
            "9/9 [==============================] - 5s 532ms/step - loss: 0.6176 - accuracy: 0.6376 - val_loss: 0.6562 - val_accuracy: 0.6250\n"
          ],
          "name": "stdout"
        }
      ]
    },
    {
      "cell_type": "markdown",
      "metadata": {
        "id": "qUnjbIZDvfl_"
      },
      "source": [
        "## Test Images"
      ]
    },
    {
      "cell_type": "code",
      "metadata": {
        "id": "TSgmTP1ZvfmD"
      },
      "source": [
        "model_name = f'model_CNN_{audioType}_epochs_lr_new'\n",
        "model = load_model('models/' + model_name + '.h5')"
      ],
      "execution_count": 10,
      "outputs": []
    },
    {
      "cell_type": "code",
      "metadata": {
        "id": "X0JRaD4fvfmg"
      },
      "source": [
        "y_actual = []\n",
        "y_test = []"
      ],
      "execution_count": 11,
      "outputs": []
    },
    {
      "cell_type": "code",
      "metadata": {
        "id": "ExLQ9bhiFFZb"
      },
      "source": [
        "for class_ in classes:\n",
        "    class_path = os.path.join(test_path, class_)\n",
        "    for i in os.listdir(class_path):\n",
        "        img = image.load_img(os.path.join(class_path, i), target_size=(224,224))\n",
        "        img = image.img_to_array(img)\n",
        "        img = np.expand_dims(img, axis = 0)\n",
        "        p = model.predict_classes(img)\n",
        "        y_test.append(p[0])\n",
        "        y_actual.append(train_generator.class_indices[class_])"
      ],
      "execution_count": 12,
      "outputs": []
    },
    {
      "cell_type": "code",
      "metadata": {
        "id": "3ARk3BRmFJw4"
      },
      "source": [
        "y_actual = np.array(y_actual)\n",
        "y_test = np.array(y_test)"
      ],
      "execution_count": 13,
      "outputs": []
    },
    {
      "cell_type": "code",
      "metadata": {
        "id": "wQhXad8aFMMo",
        "colab": {
          "base_uri": "https://localhost:8080/",
          "height": 483
        },
        "outputId": "07b248d7-b0c7-4e5d-9143-2ffba0b3b248"
      },
      "source": [
        "cm = confusion_matrix(y_actual, y_test)\n",
        "print(cm)\n",
        "sns.heatmap(cm, cmap = 'plasma', annot = True, fmt = \".1f\")\n",
        "print('Accuracy: ', accuracy_score(y_actual, y_test))\n",
        "print(classification_report(y_actual, y_test))"
      ],
      "execution_count": 17,
      "outputs": [
        {
          "output_type": "stream",
          "text": [
            "[[15  3]\n",
            " [62 18]]\n",
            "Accuracy:  0.336734693877551\n",
            "              precision    recall  f1-score   support\n",
            "\n",
            "           0       0.19      0.83      0.32        18\n",
            "           1       0.86      0.23      0.36        80\n",
            "\n",
            "    accuracy                           0.34        98\n",
            "   macro avg       0.53      0.53      0.34        98\n",
            "weighted avg       0.74      0.34      0.35        98\n",
            "\n"
          ],
          "name": "stdout"
        },
        {
          "output_type": "display_data",
          "data": {
            "image/png": "[encoded data removed]",
            "text/plain": [
              "<Figure size 432x288 with 2 Axes>"
            ]
          },
          "metadata": {
            "tags": [],
            "needs_background": "light"
          }
        }
      ]
    },
    {
      "cell_type": "code",
      "metadata": {
        "id": "cdYzVpwHs0Ef"
      },
      "source": [
        ""
      ],
      "execution_count": null,
      "outputs": []
    }
  ]
}